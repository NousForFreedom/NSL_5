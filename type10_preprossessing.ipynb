{
  "nbformat": 4,
  "nbformat_minor": 0,
  "metadata": {
    "colab": {
      "provenance": [],
      "mount_file_id": "1TBvyknb7ruTgcqcPGQ9Np2jT4tEtJg1i",
      "authorship_tag": "ABX9TyPvKzEmJwbssUOGnLRTfkAV",
      "include_colab_link": true
    },
    "kernelspec": {
      "name": "python3",
      "display_name": "Python 3"
    },
    "language_info": {
      "name": "python"
    }
  },
  "cells": [
    {
      "cell_type": "markdown",
      "metadata": {
        "id": "view-in-github",
        "colab_type": "text"
      },
      "source": [
        "<a href=\"https://colab.research.google.com/github/ajou-y0uC4N/y0uC4N/blob/main/type10_preprossessing.ipynb\" target=\"_parent\"><img src=\"https://colab.research.google.com/assets/colab-badge.svg\" alt=\"Open In Colab\"/></a>"
      ]
    },
    {
      "cell_type": "code",
      "execution_count": 2,
      "metadata": {
        "id": "xxdC9yI_nxHI"
      },
      "outputs": [],
      "source": [
        "import pandas as pd\n",
        "\n",
        "# CSV 파일 경로\n",
        "file_path = '/content/drive/MyDrive/Colab Notebooks/y0uC4N/preprocessing/type10.csv'\n",
        "\n"
      ]
    },
    {
      "cell_type": "code",
      "source": [
        "# CSV 파일 불러오기\n",
        "df = pd.read_csv(file_path)\n",
        "\n",
        "# 조건에 따라 'attack' 값을 'flooding'으로 변경\n",
        "df.loc[(df.iloc[:, 0] == 'Attack') & (df.iloc[:, 1].between(60, 110)), df.columns[0]] = 'flooding'\n",
        "df.loc[(df.iloc[:, 0] == 'Attack') & (df.iloc[:, 1].between(120, 160)), df.columns[0]] = 'Fuzzy'\n",
        "df.loc[(df.iloc[:, 0] == 'Attack') & (df.iloc[:, 1].between(170, 200)), df.columns[0]] = 'Replay attack'\n",
        "\n",
        "\n",
        "# 변경된 데이터 저장\n",
        "output_file_path = '/content/drive/MyDrive/Colab Notebooks/y0uC4N/preprocessing/updated_type10.csv'\n",
        "df.to_csv(output_file_path, index=False)\n",
        "\n",
        "print(\"CSV 파일이 성공적으로 업데이트되었습니다.\")\n",
        "\n"
      ],
      "metadata": {
        "colab": {
          "base_uri": "https://localhost:8080/"
        },
        "id": "3xeeToKIpE_L",
        "outputId": "9fe5ec64-0de4-4d84-a838-398081761334"
      },
      "execution_count": 4,
      "outputs": [
        {
          "output_type": "stream",
          "name": "stdout",
          "text": [
            "CSV 파일이 성공적으로 업데이트되었습니다.\n"
          ]
        }
      ]
    },
    {
      "cell_type": "code",
      "source": [
        "df = pd.read_csv('/content/drive/MyDrive/Colab Notebooks/y0uC4N/preprocessing/updated_type10.csv')\n",
        "df['type']\n"
      ],
      "metadata": {
        "colab": {
          "base_uri": "https://localhost:8080/"
        },
        "id": "pTuagdgvp1wv",
        "outputId": "a6391835-0631-427f-f716-f8526b8d1d64"
      },
      "execution_count": 7,
      "outputs": [
        {
          "output_type": "execute_result",
          "data": {
            "text/plain": [
              "0         Normal\n",
              "1         Normal\n",
              "2         Normal\n",
              "3         Normal\n",
              "4         Normal\n",
              "           ...  \n",
              "207375    Normal\n",
              "207376    Normal\n",
              "207377    Normal\n",
              "207378    Normal\n",
              "207379    Normal\n",
              "Name: type, Length: 207380, dtype: object"
            ]
          },
          "metadata": {},
          "execution_count": 7
        }
      ]
    }
  ]
}