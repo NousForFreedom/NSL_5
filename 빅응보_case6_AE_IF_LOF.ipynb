{
  "nbformat": 4,
  "nbformat_minor": 0,
  "metadata": {
    "colab": {
      "provenance": [],
      "machine_shape": "hm",
      "gpuType": "A100",
      "authorship_tag": "ABX9TyNxLGShOmKsvR8qNTw1dge6",
      "include_colab_link": true
    },
    "kernelspec": {
      "name": "python3",
      "display_name": "Python 3"
    },
    "language_info": {
      "name": "python"
    },
    "accelerator": "GPU"
  },
  "cells": [
    {
      "cell_type": "markdown",
      "metadata": {
        "id": "view-in-github",
        "colab_type": "text"
      },
      "source": [
        "<a href=\"https://colab.research.google.com/github/ajou-y0uC4N/y0uC4N/blob/main/%EB%B9%85%EC%9D%91%EB%B3%B4_case6_AE_IF_LOF.ipynb\" target=\"_parent\"><img src=\"https://colab.research.google.com/assets/colab-badge.svg\" alt=\"Open In Colab\"/></a>"
      ]
    },
    {
      "cell_type": "code",
      "execution_count": 1,
      "metadata": {
        "colab": {
          "base_uri": "https://localhost:8080/"
        },
        "id": "E0hBW3FUVU-I",
        "outputId": "4ffc85de-da7d-47b1-f459-976a24db4e49"
      },
      "outputs": [
        {
          "output_type": "stream",
          "name": "stdout",
          "text": [
            "Mounted at /content/drive\n"
          ]
        }
      ],
      "source": [
        "import matplotlib.pyplot as plt\n",
        "import numpy as np\n",
        "import pandas as pd\n",
        "from sklearn.model_selection import train_test_split\n",
        "from google.colab import drive\n",
        "from sklearn.preprocessing import StandardScaler\n",
        "from sklearn.ensemble import IsolationForest\n",
        "from sklearn.neighbors import LocalOutlierFactor\n",
        "from tensorflow.keras.models import Model, Sequential\n",
        "from tensorflow.keras.layers import Input, Dense\n",
        "drive.mount('/content/drive')\n",
        "\n",
        "\n"
      ]
    },
    {
      "cell_type": "code",
      "source": [
        "\n",
        "data = pd.read_csv('./drive/MyDrive/Colab Notebooks/team_prj/data/type6.csv')#.to_numpy()\n",
        "\n",
        "\n",
        "X = data[data['type'] == 'Normal']\n",
        "y = X['type']\n",
        "y = y.map({'Normal': 0, 'Attack': 1}).to_numpy()\n",
        "X = X.drop(columns =['type'])\n",
        "X['messageID'] = X['messageID'].astype('category')\n",
        "X = X.drop(columns =['isCan0','isService','serviceNODEID'])\n",
        "X = X.drop(columns = ['data[0]','data[7]'])\n",
        "print(X.shape)\n"
      ],
      "metadata": {
        "colab": {
          "base_uri": "https://localhost:8080/"
        },
        "id": "7N7O9VhsVaVK",
        "outputId": "447e618d-3de8-4b0f-dfd6-f207bfc2199a"
      },
      "execution_count": 2,
      "outputs": [
        {
          "output_type": "stream",
          "name": "stdout",
          "text": [
            "(160233, 12)\n"
          ]
        }
      ]
    },
    {
      "cell_type": "code",
      "source": [
        "scaler = StandardScaler()\n",
        "X_scaled = scaler.fit_transform(X)\n",
        "input_dim = X_scaled.shape[1]\n",
        "encoding_dim = 6\n",
        "\n",
        "input_layer = Input(shape=(input_dim,))\n",
        "encoder = Dense(encoding_dim, activation=\"relu\")(input_layer)\n",
        "decoder = Dense(input_dim, activation=\"sigmoid\")(encoder)\n",
        "\n",
        "autoencoder = Model(inputs=input_layer, outputs=decoder)\n",
        "autoencoder.compile(optimizer='adam', loss='mse')\n",
        "\n",
        "# Autoencoder 학습\n",
        "autoencoder.fit(X_scaled, X_scaled, epochs=30, batch_size=32, shuffle=True, validation_split=0.2)"
      ],
      "metadata": {
        "colab": {
          "base_uri": "https://localhost:8080/"
        },
        "id": "ss4LnCaJymY8",
        "outputId": "f9fe9233-6cf3-4005-9f77-c0e50ad9054c"
      },
      "execution_count": 3,
      "outputs": [
        {
          "output_type": "stream",
          "name": "stdout",
          "text": [
            "Epoch 1/30\n",
            "4006/4006 [==============================] - 12s 2ms/step - loss: 0.6725 - val_loss: 0.6452\n",
            "Epoch 2/30\n",
            "4006/4006 [==============================] - 10s 2ms/step - loss: 0.5913 - val_loss: 0.5821\n",
            "Epoch 3/30\n",
            "4006/4006 [==============================] - 10s 2ms/step - loss: 0.5853 - val_loss: 0.5670\n",
            "Epoch 4/30\n",
            "4006/4006 [==============================] - 9s 2ms/step - loss: 0.5828 - val_loss: 0.5493\n",
            "Epoch 5/30\n",
            "4006/4006 [==============================] - 10s 2ms/step - loss: 0.5812 - val_loss: 0.5478\n",
            "Epoch 6/30\n",
            "4006/4006 [==============================] - 9s 2ms/step - loss: 0.5807 - val_loss: 0.5379\n",
            "Epoch 7/30\n",
            "4006/4006 [==============================] - 10s 2ms/step - loss: 0.5798 - val_loss: 0.5360\n",
            "Epoch 8/30\n",
            "4006/4006 [==============================] - 9s 2ms/step - loss: 0.5795 - val_loss: 0.5356\n",
            "Epoch 9/30\n",
            "4006/4006 [==============================] - 9s 2ms/step - loss: 0.5793 - val_loss: 0.5351\n",
            "Epoch 10/30\n",
            "4006/4006 [==============================] - 10s 2ms/step - loss: 0.5791 - val_loss: 0.5355\n",
            "Epoch 11/30\n",
            "4006/4006 [==============================] - 10s 2ms/step - loss: 0.5790 - val_loss: 0.5358\n",
            "Epoch 12/30\n",
            "4006/4006 [==============================] - 9s 2ms/step - loss: 0.5790 - val_loss: 0.5359\n",
            "Epoch 13/30\n",
            "4006/4006 [==============================] - 10s 2ms/step - loss: 0.5789 - val_loss: 0.5360\n",
            "Epoch 14/30\n",
            "4006/4006 [==============================] - 10s 2ms/step - loss: 0.5788 - val_loss: 0.5359\n",
            "Epoch 15/30\n",
            "4006/4006 [==============================] - 10s 2ms/step - loss: 0.5788 - val_loss: 0.5356\n",
            "Epoch 16/30\n",
            "4006/4006 [==============================] - 9s 2ms/step - loss: 0.5788 - val_loss: 0.5352\n",
            "Epoch 17/30\n",
            "4006/4006 [==============================] - 9s 2ms/step - loss: 0.5787 - val_loss: 0.5356\n",
            "Epoch 18/30\n",
            "4006/4006 [==============================] - 10s 2ms/step - loss: 0.5787 - val_loss: 0.5353\n",
            "Epoch 19/30\n",
            "4006/4006 [==============================] - 10s 2ms/step - loss: 0.5787 - val_loss: 0.5353\n",
            "Epoch 20/30\n",
            "4006/4006 [==============================] - 9s 2ms/step - loss: 0.5787 - val_loss: 0.5352\n",
            "Epoch 21/30\n",
            "4006/4006 [==============================] - 9s 2ms/step - loss: 0.5787 - val_loss: 0.5350\n",
            "Epoch 22/30\n",
            "4006/4006 [==============================] - 9s 2ms/step - loss: 0.5786 - val_loss: 0.5349\n",
            "Epoch 23/30\n",
            "4006/4006 [==============================] - 9s 2ms/step - loss: 0.5786 - val_loss: 0.5347\n",
            "Epoch 24/30\n",
            "4006/4006 [==============================] - 10s 2ms/step - loss: 0.5786 - val_loss: 0.5350\n",
            "Epoch 25/30\n",
            "4006/4006 [==============================] - 10s 2ms/step - loss: 0.5786 - val_loss: 0.5349\n",
            "Epoch 26/30\n",
            "4006/4006 [==============================] - 10s 2ms/step - loss: 0.5786 - val_loss: 0.5348\n",
            "Epoch 27/30\n",
            "4006/4006 [==============================] - 10s 2ms/step - loss: 0.5786 - val_loss: 0.5349\n",
            "Epoch 28/30\n",
            "4006/4006 [==============================] - 9s 2ms/step - loss: 0.5786 - val_loss: 0.5349\n",
            "Epoch 29/30\n",
            "4006/4006 [==============================] - 9s 2ms/step - loss: 0.5786 - val_loss: 0.5348\n",
            "Epoch 30/30\n",
            "4006/4006 [==============================] - 9s 2ms/step - loss: 0.5786 - val_loss: 0.5349\n"
          ]
        },
        {
          "output_type": "execute_result",
          "data": {
            "text/plain": [
              "<keras.src.callbacks.History at 0x7ba5b2dfb4f0>"
            ]
          },
          "metadata": {},
          "execution_count": 3
        }
      ]
    },
    {
      "cell_type": "code",
      "source": [
        "# 데이터를 인코딩\n",
        "X_encoded = autoencoder.predict(X_scaled)"
      ],
      "metadata": {
        "colab": {
          "base_uri": "https://localhost:8080/"
        },
        "id": "I0gB7M-hyzAL",
        "outputId": "dc995b6d-8982-40c3-ffcc-cdc97b0b4732"
      },
      "execution_count": 4,
      "outputs": [
        {
          "output_type": "stream",
          "name": "stdout",
          "text": [
            "5008/5008 [==============================] - 6s 1ms/step\n"
          ]
        }
      ]
    },
    {
      "cell_type": "code",
      "source": [
        "#data.loc[data['type']=='Normal', 'type'] = 0\n",
        "#data.loc[data['type']=='Attack', 'type'] = 1\n",
        "\n",
        "fullDataX1 = pd.read_csv('./drive/MyDrive/Colab Notebooks/team_prj/data/type6.csv')#.to_numpy()\n",
        "\n",
        "#X['messageID'] = data['messageID']\n",
        "fX1 = fullDataX1.drop(columns =['type'])\n",
        "fX1['messageID'] = fX1['messageID'].astype('category')\n",
        "fX1 = fX1.drop(columns =['isCan0','isService','serviceNODEID'])\n",
        "fX1 = fX1.drop(columns = ['data[0]','data[7]'])\n",
        "print(fX1.shape)\n",
        "fX1_scaled = scaler.fit_transform(fX1)\n",
        "fX1_encoded = autoencoder.predict(fX1_scaled)"
      ],
      "metadata": {
        "colab": {
          "base_uri": "https://localhost:8080/"
        },
        "id": "bH9_v5oz7HZJ",
        "outputId": "624948ae-4f85-4959-ee3b-109743d811df"
      },
      "execution_count": 5,
      "outputs": [
        {
          "output_type": "stream",
          "name": "stdout",
          "text": [
            "(241321, 12)\n",
            "7542/7542 [==============================] - 9s 1ms/step\n"
          ]
        }
      ]
    },
    {
      "cell_type": "code",
      "source": [],
      "metadata": {
        "id": "i5ary7LCFMsl"
      },
      "execution_count": 5,
      "outputs": []
    },
    {
      "cell_type": "code",
      "source": [
        "if_model = IsolationForest(contamination=0.1)  # contamination 값 조정 가능\n",
        "if_model.fit(X_encoded)\n",
        "\n",
        "# 이상치 예측\n",
        "if_predictions = if_model.predict(fX1_encoded)"
      ],
      "metadata": {
        "id": "PStPsj2D6AFg"
      },
      "execution_count": 6,
      "outputs": []
    },
    {
      "cell_type": "code",
      "source": [
        "fy = fullDataX1['type']\n",
        "fy = fy.map({'Normal': 1, 'Attack': 0}).to_numpy()\n",
        "if_predictions = np.where(if_predictions == -1, 0, if_predictions)\n",
        "print(np.unique(if_predictions, return_counts=True))\n",
        "conf_matrix = confusion_matrix(fy, if_predictions)\n",
        "class_report = classification_report(fy, if_predictions)\n",
        "print(\"Confusion Matrix:\")\n",
        "print(conf_matrix)\n",
        "print(\"\\nClassification Report:\")\n",
        "print(class_report)"
      ],
      "metadata": {
        "colab": {
          "base_uri": "https://localhost:8080/"
        },
        "id": "FZrvkIQPKOTR",
        "outputId": "86bff42c-aaec-4b8f-dd0b-d08100695b48"
      },
      "execution_count": null,
      "outputs": [
        {
          "output_type": "stream",
          "name": "stdout",
          "text": [
            "(array([0, 1]), array([ 80392, 117087]))\n",
            "Confusion Matrix:\n",
            "[[61189 34689]\n",
            " [19203 82398]]\n",
            "\n",
            "Classification Report:\n",
            "              precision    recall  f1-score   support\n",
            "\n",
            "           0       0.76      0.64      0.69     95878\n",
            "           1       0.70      0.81      0.75    101601\n",
            "\n",
            "    accuracy                           0.73    197479\n",
            "   macro avg       0.73      0.72      0.72    197479\n",
            "weighted avg       0.73      0.73      0.72    197479\n",
            "\n"
          ]
        }
      ]
    },
    {
      "cell_type": "code",
      "source": [
        "# 모델 저장\n",
        "import pickle\n",
        "with open('/content/drive/MyDrive/Colab Notebooks/team_prj/case6_if_model.pkl', 'wb') as file:\n",
        "    pickle.dump(if_model, file)"
      ],
      "metadata": {
        "id": "XnnXK0cQn303"
      },
      "execution_count": 7,
      "outputs": []
    },
    {
      "cell_type": "code",
      "source": [
        "import pickle\n",
        "import numpy as np\n",
        "import pandas as pd\n",
        "from sklearn.metrics import confusion_matrix, classification_report\n",
        "import pickle\n",
        "with open('/content/drive/MyDrive/Colab Notebooks/team_prj/case6_if_model.pkl', 'rb') as file:\n",
        "    loaded_if_model = pickle.load(file)\n",
        "\n",
        "# 불러온 모델로 예측\n",
        "fy1 = fullDataX1['type']\n",
        "fy1 = fy1.map({'Normal': 1, 'Attack': 0}).to_numpy()\n",
        "loaded_if_predictions = loaded_if_model.predict(fX1_encoded)\n",
        "loaded_if_predictions = np.where(loaded_if_predictions == -1, 0, loaded_if_predictions)\n",
        "print(np.unique(loaded_if_predictions, return_counts=True))\n",
        "conf_matrix = confusion_matrix(fy1, loaded_if_predictions)\n",
        "class_report = classification_report(fy1, loaded_if_predictions)\n",
        "\n",
        "print(\"Confusion Matrix:\")\n",
        "print(conf_matrix)\n",
        "print(\"\\nClassification Report:\")\n",
        "print(class_report)"
      ],
      "metadata": {
        "colab": {
          "base_uri": "https://localhost:8080/"
        },
        "id": "804XoJRon-q7",
        "outputId": "f5e47934-14bc-462e-8e64-2d5aafbfe975"
      },
      "execution_count": null,
      "outputs": [
        {
          "output_type": "stream",
          "name": "stdout",
          "text": [
            "(array([0, 1]), array([ 93537, 103942]))\n",
            "Confusion Matrix:\n",
            "[[65180 30698]\n",
            " [28357 73244]]\n",
            "\n",
            "Classification Report:\n",
            "              precision    recall  f1-score   support\n",
            "\n",
            "           0       0.70      0.68      0.69     95878\n",
            "           1       0.70      0.72      0.71    101601\n",
            "\n",
            "    accuracy                           0.70    197479\n",
            "   macro avg       0.70      0.70      0.70    197479\n",
            "weighted avg       0.70      0.70      0.70    197479\n",
            "\n"
          ]
        }
      ]
    },
    {
      "cell_type": "code",
      "source": [
        "# Local Outlier Factor 모델 정의 및 학습\n",
        "lof_model = LocalOutlierFactor(n_neighbors=500, contamination=0.5, novelty=True)  # n_neighbors 및 contamination 값 조정 가능\n",
        "lof_model.fit(X_encoded)\n",
        "lof_predictions = lof_model.predict(fX1_encoded)\n",
        "# 이상치라면 -1, 정상치라면 1로 표시됨\n"
      ],
      "metadata": {
        "id": "pj7CtxYC6DKQ"
      },
      "execution_count": null,
      "outputs": []
    },
    {
      "cell_type": "code",
      "source": [
        "fy = fullDataX1['type']\n",
        "fy = fy.map({'Normal': 1, 'Attack': 0}).to_numpy()\n",
        "lof_predictions = np.where(lof_predictions == -1, 0, lof_predictions)\n",
        "print(np.unique(lof_predictions, return_counts=True))\n",
        "conf_matrix = confusion_matrix(fy, lof_predictions)\n",
        "class_report = classification_report(fy, lof_predictions)\n",
        "print(\"Confusion Matrix:\")\n",
        "print(conf_matrix)\n",
        "print(\"\\nClassification Report:\")\n",
        "print(class_report)"
      ],
      "metadata": {
        "colab": {
          "base_uri": "https://localhost:8080/"
        },
        "id": "_VtYcHGmEGiY",
        "outputId": "0cd0e758-8382-4f91-b276-4cb119958d06"
      },
      "execution_count": null,
      "outputs": [
        {
          "output_type": "stream",
          "name": "stdout",
          "text": [
            "(array([0, 1]), array([191634,   5845]))\n",
            "Confusion Matrix:\n",
            "[[94173  1705]\n",
            " [97461  4140]]\n",
            "\n",
            "Classification Report:\n",
            "              precision    recall  f1-score   support\n",
            "\n",
            "           0       0.49      0.98      0.66     95878\n",
            "           1       0.71      0.04      0.08    101601\n",
            "\n",
            "    accuracy                           0.50    197479\n",
            "   macro avg       0.60      0.51      0.37    197479\n",
            "weighted avg       0.60      0.50      0.36    197479\n",
            "\n"
          ]
        }
      ]
    },
    {
      "cell_type": "code",
      "source": [
        "# 모델 저장\n",
        "import pickle\n",
        "with open('/content/drive/MyDrive/Colab Notebooks/team_prj/case3_lof_model.pkl', 'wb') as file:\n",
        "    pickle.dump(lof_model, file)"
      ],
      "metadata": {
        "id": "Z33EKFsVmtX8"
      },
      "execution_count": null,
      "outputs": []
    },
    {
      "cell_type": "code",
      "source": [
        "with open('/content/drive/MyDrive/Colab Notebooks/team_prj/case3_lof_model.pkl', 'rb') as file:\n",
        "    loaded_lof_model = pickle.load(file)\n",
        "\n",
        "# 불러온 모델로 예측\n",
        "loaded_lof_predictions = loaded_lof_model.predict(fX1_encoded)\n",
        "print(np.unique(loaded_lof_predictions, return_counts=True))"
      ],
      "metadata": {
        "id": "AqswqoI5m3F0"
      },
      "execution_count": null,
      "outputs": []
    },
    {
      "cell_type": "markdown",
      "source": [],
      "metadata": {
        "id": "R-txhzzTDetD"
      }
    },
    {
      "cell_type": "code",
      "source": [],
      "metadata": {
        "id": "uhQh-I7q6GXX"
      },
      "execution_count": null,
      "outputs": []
    },
    {
      "cell_type": "code",
      "source": [],
      "metadata": {
        "id": "CoqaIodOVoVh"
      },
      "execution_count": null,
      "outputs": []
    }
  ]
}