{
  "nbformat": 4,
  "nbformat_minor": 0,
  "metadata": {
    "colab": {
      "provenance": [],
      "machine_shape": "hm",
      "gpuType": "A100",
      "authorship_tag": "ABX9TyPhjoiX4wFj3f4kl38Z7qEv",
      "include_colab_link": true
    },
    "kernelspec": {
      "name": "python3",
      "display_name": "Python 3"
    },
    "language_info": {
      "name": "python"
    },
    "accelerator": "GPU"
  },
  "cells": [
    {
      "cell_type": "markdown",
      "metadata": {
        "id": "view-in-github",
        "colab_type": "text"
      },
      "source": [
        "<a href=\"https://colab.research.google.com/github/ajou-y0uC4N/y0uC4N/blob/main/%EB%B9%85%EC%9D%91%EB%B3%B4_case3_AE_IF_LOF.ipynb\" target=\"_parent\"><img src=\"https://colab.research.google.com/assets/colab-badge.svg\" alt=\"Open In Colab\"/></a>"
      ]
    },
    {
      "cell_type": "code",
      "execution_count": 77,
      "metadata": {
        "colab": {
          "base_uri": "https://localhost:8080/"
        },
        "id": "E0hBW3FUVU-I",
        "outputId": "01e2b774-c8cb-44d3-a724-976c6a9818d0"
      },
      "outputs": [
        {
          "output_type": "stream",
          "name": "stdout",
          "text": [
            "Drive already mounted at /content/drive; to attempt to forcibly remount, call drive.mount(\"/content/drive\", force_remount=True).\n"
          ]
        }
      ],
      "source": [
        "import matplotlib.pyplot as plt\n",
        "import numpy as np\n",
        "import pandas as pd\n",
        "from sklearn.model_selection import train_test_split\n",
        "from google.colab import drive\n",
        "from sklearn.preprocessing import StandardScaler\n",
        "from sklearn.ensemble import IsolationForest\n",
        "from sklearn.neighbors import LocalOutlierFactor\n",
        "from tensorflow.keras.models import Model, Sequential\n",
        "from tensorflow.keras.layers import Input, Dense\n",
        "drive.mount('/content/drive')\n",
        "\n",
        "\n"
      ]
    },
    {
      "cell_type": "code",
      "source": [
        "\n",
        "data = pd.read_csv('./drive/MyDrive/Colab Notebooks/team_prj/data/type3_normal.csv')#.to_numpy()\n",
        "y = data['type']\n",
        "y = y.map({'Normal': 1, 'Attack':0}).to_numpy()\n",
        "#X['messageID'] = data['messageID']\n",
        "X = data.drop(columns =['type'])\n",
        "X['messageID'] = X['messageID'].astype('category')\n",
        "X = X.drop(columns =['isCan0','isService','serviceNODEID'])\n",
        "X = X.drop(columns = ['data[0]','data[7]'])\n",
        "print(X.shape)\n"
      ],
      "metadata": {
        "colab": {
          "base_uri": "https://localhost:8080/"
        },
        "id": "7N7O9VhsVaVK",
        "outputId": "b1efbee5-092f-4ca8-e465-8644240eaa55"
      },
      "execution_count": 78,
      "outputs": [
        {
          "output_type": "stream",
          "name": "stdout",
          "text": [
            "(101601, 12)\n"
          ]
        }
      ]
    },
    {
      "cell_type": "code",
      "source": [
        "scaler = StandardScaler()\n",
        "X_scaled = scaler.fit_transform(X)\n",
        "input_dim = X_scaled.shape[1]\n",
        "encoding_dim = 6\n",
        "\n",
        "input_layer = Input(shape=(input_dim,))\n",
        "encoder = Dense(encoding_dim, activation=\"relu\")(input_layer)\n",
        "decoder = Dense(input_dim, activation=\"sigmoid\")(encoder)\n",
        "\n",
        "autoencoder = Model(inputs=input_layer, outputs=decoder)\n",
        "autoencoder.compile(optimizer='adam', loss='mse')\n",
        "\n",
        "# Autoencoder 학습\n",
        "autoencoder.fit(X_scaled, X_scaled, epochs=30, batch_size=32, shuffle=True, validation_split=0.2)"
      ],
      "metadata": {
        "colab": {
          "base_uri": "https://localhost:8080/"
        },
        "id": "ss4LnCaJymY8",
        "outputId": "1e41865b-4774-4d92-dc2d-c25e35c4620d"
      },
      "execution_count": 79,
      "outputs": [
        {
          "output_type": "stream",
          "name": "stdout",
          "text": [
            "Epoch 1/30\n",
            "2540/2540 [==============================] - 6s 2ms/step - loss: 0.7229 - val_loss: 0.7740\n",
            "Epoch 2/30\n",
            "2540/2540 [==============================] - 6s 2ms/step - loss: 0.6113 - val_loss: 0.6940\n",
            "Epoch 3/30\n",
            "2540/2540 [==============================] - 5s 2ms/step - loss: 0.6033 - val_loss: 0.6773\n",
            "Epoch 4/30\n",
            "2540/2540 [==============================] - 6s 2ms/step - loss: 0.6009 - val_loss: 0.6730\n",
            "Epoch 5/30\n",
            "2540/2540 [==============================] - 5s 2ms/step - loss: 0.5994 - val_loss: 0.6650\n",
            "Epoch 6/30\n",
            "2540/2540 [==============================] - 6s 2ms/step - loss: 0.5982 - val_loss: 0.6589\n",
            "Epoch 7/30\n",
            "2540/2540 [==============================] - 5s 2ms/step - loss: 0.5957 - val_loss: 0.6544\n",
            "Epoch 8/30\n",
            "2540/2540 [==============================] - 5s 2ms/step - loss: 0.5952 - val_loss: 0.6535\n",
            "Epoch 9/30\n",
            "2540/2540 [==============================] - 5s 2ms/step - loss: 0.5948 - val_loss: 0.6522\n",
            "Epoch 10/30\n",
            "2540/2540 [==============================] - 5s 2ms/step - loss: 0.5944 - val_loss: 0.6512\n",
            "Epoch 11/30\n",
            "2540/2540 [==============================] - 6s 2ms/step - loss: 0.5941 - val_loss: 0.6507\n",
            "Epoch 12/30\n",
            "2540/2540 [==============================] - 5s 2ms/step - loss: 0.5937 - val_loss: 0.6500\n",
            "Epoch 13/30\n",
            "2540/2540 [==============================] - 6s 2ms/step - loss: 0.5934 - val_loss: 0.6502\n",
            "Epoch 14/30\n",
            "2540/2540 [==============================] - 5s 2ms/step - loss: 0.5932 - val_loss: 0.6505\n",
            "Epoch 15/30\n",
            "2540/2540 [==============================] - 6s 2ms/step - loss: 0.5931 - val_loss: 0.6500\n",
            "Epoch 16/30\n",
            "2540/2540 [==============================] - 5s 2ms/step - loss: 0.5930 - val_loss: 0.6494\n",
            "Epoch 17/30\n",
            "2540/2540 [==============================] - 5s 2ms/step - loss: 0.5929 - val_loss: 0.6494\n",
            "Epoch 18/30\n",
            "2540/2540 [==============================] - 6s 2ms/step - loss: 0.5928 - val_loss: 0.6489\n",
            "Epoch 19/30\n",
            "2540/2540 [==============================] - 5s 2ms/step - loss: 0.5928 - val_loss: 0.6492\n",
            "Epoch 20/30\n",
            "2540/2540 [==============================] - 6s 2ms/step - loss: 0.5927 - val_loss: 0.6490\n",
            "Epoch 21/30\n",
            "2540/2540 [==============================] - 5s 2ms/step - loss: 0.5927 - val_loss: 0.6488\n",
            "Epoch 22/30\n",
            "2540/2540 [==============================] - 6s 2ms/step - loss: 0.5926 - val_loss: 0.6490\n",
            "Epoch 23/30\n",
            "2540/2540 [==============================] - 5s 2ms/step - loss: 0.5926 - val_loss: 0.6494\n",
            "Epoch 24/30\n",
            "2540/2540 [==============================] - 6s 2ms/step - loss: 0.5923 - val_loss: 0.6490\n",
            "Epoch 25/30\n",
            "2540/2540 [==============================] - 5s 2ms/step - loss: 0.5908 - val_loss: 0.6489\n",
            "Epoch 26/30\n",
            "2540/2540 [==============================] - 5s 2ms/step - loss: 0.5905 - val_loss: 0.6487\n",
            "Epoch 27/30\n",
            "2540/2540 [==============================] - 6s 2ms/step - loss: 0.5904 - val_loss: 0.6490\n",
            "Epoch 28/30\n",
            "2540/2540 [==============================] - 6s 2ms/step - loss: 0.5903 - val_loss: 0.6487\n",
            "Epoch 29/30\n",
            "2540/2540 [==============================] - 6s 2ms/step - loss: 0.5902 - val_loss: 0.6486\n",
            "Epoch 30/30\n",
            "2540/2540 [==============================] - 5s 2ms/step - loss: 0.5902 - val_loss: 0.6496\n"
          ]
        },
        {
          "output_type": "execute_result",
          "data": {
            "text/plain": [
              "<keras.src.callbacks.History at 0x7c90301337f0>"
            ]
          },
          "metadata": {},
          "execution_count": 79
        }
      ]
    },
    {
      "cell_type": "code",
      "source": [
        "# 데이터를 인코딩\n",
        "X_encoded = autoencoder.predict(X_scaled)"
      ],
      "metadata": {
        "colab": {
          "base_uri": "https://localhost:8080/"
        },
        "id": "I0gB7M-hyzAL",
        "outputId": "354702b8-aed1-405c-fe43-e1ea95693c12"
      },
      "execution_count": 80,
      "outputs": [
        {
          "output_type": "stream",
          "name": "stdout",
          "text": [
            "3176/3176 [==============================] - 4s 1ms/step\n"
          ]
        }
      ]
    },
    {
      "cell_type": "code",
      "source": [
        "#data.loc[data['type']=='Normal', 'type'] = 0\n",
        "#data.loc[data['type']=='Attack', 'type'] = 1\n",
        "\n",
        "fullDataX1 = pd.read_csv('./drive/MyDrive/Colab Notebooks/team_prj/data/type3.csv')#.to_numpy()\n",
        "\n",
        "#X['messageID'] = data['messageID']\n",
        "fX1 = fullDataX1.drop(columns =['type'])\n",
        "fX1['messageID'] = fX1['messageID'].astype('category')\n",
        "fX1 = fX1.drop(columns =['isCan0','isService','serviceNODEID'])\n",
        "fX1 = fX1.drop(columns = ['data[0]','data[7]'])\n",
        "print(fX1.shape)\n",
        "fX1_scaled = scaler.fit_transform(fX1)\n",
        "fX1_encoded = autoencoder.predict(fX1_scaled)"
      ],
      "metadata": {
        "colab": {
          "base_uri": "https://localhost:8080/"
        },
        "id": "bH9_v5oz7HZJ",
        "outputId": "c4be55e3-3dfc-49f2-a13c-31eca05fc3f1"
      },
      "execution_count": 82,
      "outputs": [
        {
          "output_type": "stream",
          "name": "stdout",
          "text": [
            "(197479, 12)\n",
            "6172/6172 [==============================] - 7s 1ms/step\n"
          ]
        }
      ]
    },
    {
      "cell_type": "code",
      "source": [],
      "metadata": {
        "id": "i5ary7LCFMsl"
      },
      "execution_count": null,
      "outputs": []
    },
    {
      "cell_type": "code",
      "source": [
        "if_model = IsolationForest(contamination=0.1)  # contamination 값 조정 가능\n",
        "if_model.fit(X_encoded)\n",
        "\n",
        "# 이상치 예측\n",
        "if_predictions = if_model.predict(fX1_encoded)"
      ],
      "metadata": {
        "id": "PStPsj2D6AFg"
      },
      "execution_count": 83,
      "outputs": []
    },
    {
      "cell_type": "code",
      "source": [
        "fy = fullDataX1['type']\n",
        "fy = fy.map({'Normal': 1, 'Attack': 0}).to_numpy()\n",
        "if_predictions = np.where(if_predictions == -1, 0, if_predictions)\n",
        "print(np.unique(if_predictions, return_counts=True))\n",
        "conf_matrix = confusion_matrix(fy, if_predictions)\n",
        "class_report = classification_report(fy, if_predictions)\n",
        "print(\"Confusion Matrix:\")\n",
        "print(conf_matrix)\n",
        "print(\"\\nClassification Report:\")\n",
        "print(class_report)"
      ],
      "metadata": {
        "colab": {
          "base_uri": "https://localhost:8080/"
        },
        "id": "FZrvkIQPKOTR",
        "outputId": "86bff42c-aaec-4b8f-dd0b-d08100695b48"
      },
      "execution_count": 84,
      "outputs": [
        {
          "output_type": "stream",
          "name": "stdout",
          "text": [
            "(array([0, 1]), array([ 80392, 117087]))\n",
            "Confusion Matrix:\n",
            "[[61189 34689]\n",
            " [19203 82398]]\n",
            "\n",
            "Classification Report:\n",
            "              precision    recall  f1-score   support\n",
            "\n",
            "           0       0.76      0.64      0.69     95878\n",
            "           1       0.70      0.81      0.75    101601\n",
            "\n",
            "    accuracy                           0.73    197479\n",
            "   macro avg       0.73      0.72      0.72    197479\n",
            "weighted avg       0.73      0.73      0.72    197479\n",
            "\n"
          ]
        }
      ]
    },
    {
      "cell_type": "code",
      "source": [
        "# 모델 저장\n",
        "#import pickle\n",
        "#with open('/content/drive/MyDrive/Colab Notebooks/team_prj/case3_if_model.pkl', 'wb') as file:\n",
        "#    pickle.dump(if_model, file)"
      ],
      "metadata": {
        "id": "XnnXK0cQn303"
      },
      "execution_count": 85,
      "outputs": []
    },
    {
      "cell_type": "code",
      "source": [
        "import pickle\n",
        "import numpy as np\n",
        "import pandas as pd\n",
        "from sklearn.metrics import confusion_matrix, classification_report\n",
        "import pickle\n",
        "with open('/content/drive/MyDrive/Colab Notebooks/team_prj/case3_if_model.pkl', 'rb') as file:\n",
        "    loaded_if_model = pickle.load(file)\n",
        "\n",
        "# 불러온 모델로 예측\n",
        "fy1 = fullDataX1['type']\n",
        "fy1 = fy1.map({'Normal': 1, 'Attack': 0}).to_numpy()\n",
        "loaded_if_predictions = loaded_if_model.predict(fX1_encoded)\n",
        "loaded_if_predictions = np.where(loaded_if_predictions == -1, 0, loaded_if_predictions)\n",
        "print(np.unique(loaded_if_predictions, return_counts=True))\n",
        "conf_matrix = confusion_matrix(fy1, loaded_if_predictions)\n",
        "class_report = classification_report(fy1, loaded_if_predictions)\n",
        "\n",
        "print(\"Confusion Matrix:\")\n",
        "print(conf_matrix)\n",
        "print(\"\\nClassification Report:\")\n",
        "print(class_report)"
      ],
      "metadata": {
        "colab": {
          "base_uri": "https://localhost:8080/"
        },
        "id": "804XoJRon-q7",
        "outputId": "f5e47934-14bc-462e-8e64-2d5aafbfe975"
      },
      "execution_count": 52,
      "outputs": [
        {
          "output_type": "stream",
          "name": "stdout",
          "text": [
            "(array([0, 1]), array([ 93537, 103942]))\n",
            "Confusion Matrix:\n",
            "[[65180 30698]\n",
            " [28357 73244]]\n",
            "\n",
            "Classification Report:\n",
            "              precision    recall  f1-score   support\n",
            "\n",
            "           0       0.70      0.68      0.69     95878\n",
            "           1       0.70      0.72      0.71    101601\n",
            "\n",
            "    accuracy                           0.70    197479\n",
            "   macro avg       0.70      0.70      0.70    197479\n",
            "weighted avg       0.70      0.70      0.70    197479\n",
            "\n"
          ]
        }
      ]
    },
    {
      "cell_type": "code",
      "source": [
        "# Local Outlier Factor 모델 정의 및 학습\n",
        "lof_model = LocalOutlierFactor(n_neighbors=500, contamination=0.5, novelty=True)  # n_neighbors 및 contamination 값 조정 가능\n",
        "lof_model.fit(X_encoded)\n",
        "lof_predictions = lof_model.predict(fX1_encoded)\n",
        "# 이상치라면 -1, 정상치라면 1로 표시됨\n"
      ],
      "metadata": {
        "id": "pj7CtxYC6DKQ"
      },
      "execution_count": 64,
      "outputs": []
    },
    {
      "cell_type": "code",
      "source": [
        "fy = fullDataX1['type']\n",
        "fy = fy.map({'Normal': 1, 'Attack': 0}).to_numpy()\n",
        "lof_predictions = np.where(lof_predictions == -1, 0, lof_predictions)\n",
        "print(np.unique(lof_predictions, return_counts=True))\n",
        "conf_matrix = confusion_matrix(fy, lof_predictions)\n",
        "class_report = classification_report(fy, lof_predictions)\n",
        "print(\"Confusion Matrix:\")\n",
        "print(conf_matrix)\n",
        "print(\"\\nClassification Report:\")\n",
        "print(class_report)"
      ],
      "metadata": {
        "colab": {
          "base_uri": "https://localhost:8080/"
        },
        "id": "_VtYcHGmEGiY",
        "outputId": "0cd0e758-8382-4f91-b276-4cb119958d06"
      },
      "execution_count": 65,
      "outputs": [
        {
          "output_type": "stream",
          "name": "stdout",
          "text": [
            "(array([0, 1]), array([191634,   5845]))\n",
            "Confusion Matrix:\n",
            "[[94173  1705]\n",
            " [97461  4140]]\n",
            "\n",
            "Classification Report:\n",
            "              precision    recall  f1-score   support\n",
            "\n",
            "           0       0.49      0.98      0.66     95878\n",
            "           1       0.71      0.04      0.08    101601\n",
            "\n",
            "    accuracy                           0.50    197479\n",
            "   macro avg       0.60      0.51      0.37    197479\n",
            "weighted avg       0.60      0.50      0.36    197479\n",
            "\n"
          ]
        }
      ]
    },
    {
      "cell_type": "code",
      "source": [
        "# 모델 저장\n",
        "import pickle\n",
        "with open('/content/drive/MyDrive/Colab Notebooks/team_prj/case3_lof_model.pkl', 'wb') as file:\n",
        "    pickle.dump(lof_model, file)"
      ],
      "metadata": {
        "id": "Z33EKFsVmtX8"
      },
      "execution_count": null,
      "outputs": []
    },
    {
      "cell_type": "code",
      "source": [
        "with open('/content/drive/MyDrive/Colab Notebooks/team_prj/case3_lof_model.pkl', 'rb') as file:\n",
        "    loaded_lof_model = pickle.load(file)\n",
        "\n",
        "# 불러온 모델로 예측\n",
        "loaded_lof_predictions = loaded_lof_model.predict(fX1_encoded)\n",
        "print(np.unique(loaded_lof_predictions, return_counts=True))"
      ],
      "metadata": {
        "id": "AqswqoI5m3F0"
      },
      "execution_count": null,
      "outputs": []
    },
    {
      "cell_type": "markdown",
      "source": [],
      "metadata": {
        "id": "R-txhzzTDetD"
      }
    },
    {
      "cell_type": "code",
      "source": [],
      "metadata": {
        "id": "uhQh-I7q6GXX"
      },
      "execution_count": null,
      "outputs": []
    },
    {
      "cell_type": "code",
      "source": [],
      "metadata": {
        "id": "CoqaIodOVoVh"
      },
      "execution_count": null,
      "outputs": []
    }
  ]
}