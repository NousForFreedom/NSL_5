{
  "nbformat": 4,
  "nbformat_minor": 0,
  "metadata": {
    "colab": {
      "provenance": [],
      "authorship_tag": "ABX9TyPEk4LpUL233SkY9soyRUgM",
      "include_colab_link": true
    },
    "kernelspec": {
      "name": "python3",
      "display_name": "Python 3"
    },
    "language_info": {
      "name": "python"
    }
  },
  "cells": [
    {
      "cell_type": "markdown",
      "metadata": {
        "id": "view-in-github",
        "colab_type": "text"
      },
      "source": [
        "<a href=\"https://colab.research.google.com/github/ajou-y0uC4N/y0uC4N/blob/main/%EB%B9%85%EC%9D%91%EB%B3%B4_case1_2_AE_IF_LOF.ipynb\" target=\"_parent\"><img src=\"https://colab.research.google.com/assets/colab-badge.svg\" alt=\"Open In Colab\"/></a>"
      ]
    },
    {
      "cell_type": "code",
      "execution_count": 40,
      "metadata": {
        "colab": {
          "base_uri": "https://localhost:8080/"
        },
        "id": "E0hBW3FUVU-I",
        "outputId": "99a0224a-af1e-4453-adb6-60710da2839d"
      },
      "outputs": [
        {
          "output_type": "stream",
          "name": "stdout",
          "text": [
            "Drive already mounted at /content/drive; to attempt to forcibly remount, call drive.mount(\"/content/drive\", force_remount=True).\n"
          ]
        }
      ],
      "source": [
        "import matplotlib.pyplot as plt\n",
        "import numpy as np\n",
        "import pandas as pd\n",
        "from sklearn.model_selection import train_test_split\n",
        "from google.colab import drive\n",
        "from sklearn.preprocessing import StandardScaler\n",
        "from sklearn.ensemble import IsolationForest\n",
        "from sklearn.neighbors import LocalOutlierFactor\n",
        "from tensorflow.keras.models import Model, Sequential\n",
        "from tensorflow.keras.layers import Input, Dense\n",
        "drive.mount('/content/drive')\n",
        "\n",
        "\n"
      ]
    },
    {
      "cell_type": "code",
      "source": [
        "\n",
        "data = pd.read_csv('./drive/MyDrive/Colab Notebooks/team_prj/data/type1_normal.csv')#.to_numpy()\n",
        "y = data['type']\n",
        "y = y.map({'Normal': 0, 'Attack': 1}).to_numpy()\n",
        "#X['messageID'] = data['messageID']\n",
        "X = data.drop(columns =['type'])\n",
        "#X = X.drop(columns =['isCan0','isService','serviceNODEID'])\n",
        "X = X.drop(columns = ['time'])#,'data[0]','data[7]'])\n",
        "print(X.shape)\n"
      ],
      "metadata": {
        "colab": {
          "base_uri": "https://localhost:8080/"
        },
        "id": "7N7O9VhsVaVK",
        "outputId": "5aef8c6b-c3c6-417b-d7d5-20ce1d34e98a"
      },
      "execution_count": 41,
      "outputs": [
        {
          "output_type": "stream",
          "name": "stdout",
          "text": [
            "(91042, 16)\n"
          ]
        }
      ]
    },
    {
      "cell_type": "code",
      "source": [
        "scaler = StandardScaler()\n",
        "X_scaled = scaler.fit_transform(X)\n",
        "input_dim = X_scaled.shape[1]\n",
        "encoding_dim = 14\n",
        "\n",
        "input_layer = Input(shape=(input_dim,))\n",
        "encoder = Dense(encoding_dim, activation=\"relu\")(input_layer)\n",
        "decoder = Dense(input_dim, activation=\"sigmoid\")(encoder)\n",
        "\n",
        "autoencoder = Model(inputs=input_layer, outputs=decoder)\n",
        "autoencoder.compile(optimizer='adam', loss='mse')\n",
        "\n",
        "# Autoencoder 학습\n",
        "autoencoder.fit(X_scaled, X_scaled, epochs=50, batch_size=32, shuffle=True, validation_split=0.2)"
      ],
      "metadata": {
        "colab": {
          "base_uri": "https://localhost:8080/"
        },
        "id": "ss4LnCaJymY8",
        "outputId": "9d7e5328-bccd-42f3-9df3-cbf6a3492870"
      },
      "execution_count": 42,
      "outputs": [
        {
          "output_type": "stream",
          "name": "stdout",
          "text": [
            "Epoch 1/50\n",
            "2277/2277 [==============================] - 7s 3ms/step - loss: 0.6329 - val_loss: 0.6193\n",
            "Epoch 2/50\n",
            "2277/2277 [==============================] - 5s 2ms/step - loss: 0.5602 - val_loss: 0.5981\n",
            "Epoch 3/50\n",
            "2277/2277 [==============================] - 5s 2ms/step - loss: 0.5566 - val_loss: 0.5945\n",
            "Epoch 4/50\n",
            "2277/2277 [==============================] - 7s 3ms/step - loss: 0.5555 - val_loss: 0.5947\n",
            "Epoch 5/50\n",
            "2277/2277 [==============================] - 5s 2ms/step - loss: 0.5552 - val_loss: 0.5943\n",
            "Epoch 6/50\n",
            "2277/2277 [==============================] - 7s 3ms/step - loss: 0.5550 - val_loss: 0.5952\n",
            "Epoch 7/50\n",
            "2277/2277 [==============================] - 5s 2ms/step - loss: 0.5549 - val_loss: 0.5933\n",
            "Epoch 8/50\n",
            "2277/2277 [==============================] - 5s 2ms/step - loss: 0.5548 - val_loss: 0.5930\n",
            "Epoch 9/50\n",
            "2277/2277 [==============================] - 7s 3ms/step - loss: 0.5548 - val_loss: 0.5935\n",
            "Epoch 10/50\n",
            "2277/2277 [==============================] - 5s 2ms/step - loss: 0.5548 - val_loss: 0.5920\n",
            "Epoch 11/50\n",
            "2277/2277 [==============================] - 6s 3ms/step - loss: 0.5548 - val_loss: 0.5920\n",
            "Epoch 12/50\n",
            "2277/2277 [==============================] - 6s 2ms/step - loss: 0.5547 - val_loss: 0.5919\n",
            "Epoch 13/50\n",
            "2277/2277 [==============================] - 5s 2ms/step - loss: 0.5547 - val_loss: 0.5916\n",
            "Epoch 14/50\n",
            "2277/2277 [==============================] - 7s 3ms/step - loss: 0.5547 - val_loss: 0.5907\n",
            "Epoch 15/50\n",
            "2277/2277 [==============================] - 5s 2ms/step - loss: 0.5547 - val_loss: 0.5905\n",
            "Epoch 16/50\n",
            "2277/2277 [==============================] - 6s 3ms/step - loss: 0.5547 - val_loss: 0.5906\n",
            "Epoch 17/50\n",
            "2277/2277 [==============================] - 7s 3ms/step - loss: 0.5547 - val_loss: 0.5908\n",
            "Epoch 18/50\n",
            "2277/2277 [==============================] - 5s 2ms/step - loss: 0.5547 - val_loss: 0.5907\n",
            "Epoch 19/50\n",
            "2277/2277 [==============================] - 7s 3ms/step - loss: 0.5547 - val_loss: 0.5902\n",
            "Epoch 20/50\n",
            "2277/2277 [==============================] - 5s 2ms/step - loss: 0.5547 - val_loss: 0.5904\n",
            "Epoch 21/50\n",
            "2277/2277 [==============================] - 5s 2ms/step - loss: 0.5547 - val_loss: 0.5897\n",
            "Epoch 22/50\n",
            "2277/2277 [==============================] - 6s 3ms/step - loss: 0.5547 - val_loss: 0.5897\n",
            "Epoch 23/50\n",
            "2277/2277 [==============================] - 5s 2ms/step - loss: 0.5547 - val_loss: 0.5895\n",
            "Epoch 24/50\n",
            "2277/2277 [==============================] - 6s 3ms/step - loss: 0.5547 - val_loss: 0.5892\n",
            "Epoch 25/50\n",
            "2277/2277 [==============================] - 6s 3ms/step - loss: 0.5547 - val_loss: 0.5894\n",
            "Epoch 26/50\n",
            "2277/2277 [==============================] - 5s 2ms/step - loss: 0.5547 - val_loss: 0.5892\n",
            "Epoch 27/50\n",
            "2277/2277 [==============================] - 7s 3ms/step - loss: 0.5547 - val_loss: 0.5892\n",
            "Epoch 28/50\n",
            "2277/2277 [==============================] - 5s 2ms/step - loss: 0.5547 - val_loss: 0.5890\n",
            "Epoch 29/50\n",
            "2277/2277 [==============================] - 5s 2ms/step - loss: 0.5546 - val_loss: 0.5890\n",
            "Epoch 30/50\n",
            "2277/2277 [==============================] - 7s 3ms/step - loss: 0.5546 - val_loss: 0.5890\n",
            "Epoch 31/50\n",
            "2277/2277 [==============================] - 5s 2ms/step - loss: 0.5546 - val_loss: 0.5889\n",
            "Epoch 32/50\n",
            "2277/2277 [==============================] - 6s 3ms/step - loss: 0.5546 - val_loss: 0.5889\n",
            "Epoch 33/50\n",
            "2277/2277 [==============================] - 6s 3ms/step - loss: 0.5546 - val_loss: 0.5888\n",
            "Epoch 34/50\n",
            "2277/2277 [==============================] - 5s 2ms/step - loss: 0.5546 - val_loss: 0.5888\n",
            "Epoch 35/50\n",
            "2277/2277 [==============================] - 7s 3ms/step - loss: 0.5546 - val_loss: 0.5888\n",
            "Epoch 36/50\n",
            "2277/2277 [==============================] - 5s 2ms/step - loss: 0.5546 - val_loss: 0.5887\n",
            "Epoch 37/50\n",
            "2277/2277 [==============================] - 5s 2ms/step - loss: 0.5546 - val_loss: 0.5887\n",
            "Epoch 38/50\n",
            "2277/2277 [==============================] - 7s 3ms/step - loss: 0.5546 - val_loss: 0.5887\n",
            "Epoch 39/50\n",
            "2277/2277 [==============================] - 5s 2ms/step - loss: 0.5546 - val_loss: 0.5887\n",
            "Epoch 40/50\n",
            "2277/2277 [==============================] - 6s 3ms/step - loss: 0.5546 - val_loss: 0.5887\n",
            "Epoch 41/50\n",
            "2277/2277 [==============================] - 6s 3ms/step - loss: 0.5546 - val_loss: 0.5887\n",
            "Epoch 42/50\n",
            "2277/2277 [==============================] - 6s 2ms/step - loss: 0.5546 - val_loss: 0.5887\n",
            "Epoch 43/50\n",
            "2277/2277 [==============================] - 7s 3ms/step - loss: 0.5546 - val_loss: 0.5887\n",
            "Epoch 44/50\n",
            "2277/2277 [==============================] - 5s 2ms/step - loss: 0.5546 - val_loss: 0.5887\n",
            "Epoch 45/50\n",
            "2277/2277 [==============================] - 6s 3ms/step - loss: 0.5546 - val_loss: 0.5887\n",
            "Epoch 46/50\n",
            "2277/2277 [==============================] - 5s 2ms/step - loss: 0.5546 - val_loss: 0.5887\n",
            "Epoch 47/50\n",
            "2277/2277 [==============================] - 5s 2ms/step - loss: 0.5546 - val_loss: 0.5888\n",
            "Epoch 48/50\n",
            "2277/2277 [==============================] - 7s 3ms/step - loss: 0.5541 - val_loss: 0.5885\n",
            "Epoch 49/50\n",
            "2277/2277 [==============================] - 5s 2ms/step - loss: 0.5541 - val_loss: 0.5887\n",
            "Epoch 50/50\n",
            "2277/2277 [==============================] - 6s 2ms/step - loss: 0.5541 - val_loss: 0.5886\n"
          ]
        },
        {
          "output_type": "execute_result",
          "data": {
            "text/plain": [
              "<keras.src.callbacks.History at 0x7b06fca08b80>"
            ]
          },
          "metadata": {},
          "execution_count": 42
        }
      ]
    },
    {
      "cell_type": "code",
      "source": [
        "input_layer = Input(shape=(input_dim,))\n",
        "encoder = Dense(encoding_dim, activation=\"relu\")(input_layer)\n",
        "decoder = Dense(input_dim, activation=\"sigmoid\")(encoder)\n",
        "encoder_model = Model(inputs=input_layer, outputs=encoder)\n",
        "\n",
        "# 데이터를 인코딩\n",
        "X_encoded = encoder_model.predict(X_scaled)"
      ],
      "metadata": {
        "colab": {
          "base_uri": "https://localhost:8080/"
        },
        "id": "I0gB7M-hyzAL",
        "outputId": "de13f7ff-90a3-4265-bc14-d7b3abca5a22"
      },
      "execution_count": 43,
      "outputs": [
        {
          "output_type": "stream",
          "name": "stdout",
          "text": [
            "2846/2846 [==============================] - 4s 1ms/step\n"
          ]
        }
      ]
    },
    {
      "cell_type": "code",
      "source": [
        "#data.loc[data['type']=='Normal', 'type'] = 0\n",
        "#data.loc[data['type']=='Attack', 'type'] = 1\n",
        "\n",
        "fullDataX1 = pd.read_csv('./drive/MyDrive/Colab Notebooks/team_prj/data/type1.csv')#.to_numpy()\n",
        "\n",
        "#X['messageID'] = data['messageID']\n",
        "fX1 = fullDataX1.drop(columns =['type'])\n",
        "#fX1 = fX1.drop(columns =['isCan0','isService','serviceNODEID'])\n",
        "fX1 = fX1.drop(columns = ['time'])#,'data[0]','data[7]'])\n",
        "print(fX1.shape)\n",
        "fX1_scaled = scaler.fit_transform(fX1)\n",
        "fX1_encoded = encoder_model.predict(fX1_scaled)"
      ],
      "metadata": {
        "colab": {
          "base_uri": "https://localhost:8080/"
        },
        "id": "bH9_v5oz7HZJ",
        "outputId": "9400c16d-b390-492f-f975-ab00452e49b4"
      },
      "execution_count": 44,
      "outputs": [
        {
          "output_type": "stream",
          "name": "stdout",
          "text": [
            "(207858, 16)\n",
            "6496/6496 [==============================] - 10s 1ms/step\n"
          ]
        }
      ]
    },
    {
      "cell_type": "code",
      "source": [],
      "metadata": {
        "id": "i5ary7LCFMsl"
      },
      "execution_count": 44,
      "outputs": []
    },
    {
      "cell_type": "code",
      "source": [
        "if_model = IsolationForest(contamination=0.1)  # contamination 값 조정 가능\n",
        "if_model.fit(X_encoded)\n",
        "\n",
        "# 이상치 예측\n",
        "if_predictions = if_model.predict(fX1_encoded)"
      ],
      "metadata": {
        "id": "PStPsj2D6AFg"
      },
      "execution_count": 45,
      "outputs": []
    },
    {
      "cell_type": "code",
      "source": [
        "# Local Outlier Factor 모델 정의 및 학습\n",
        "lof_model = LocalOutlierFactor(n_neighbors=20, contamination=0.1, novelty=True)  # n_neighbors 및 contamination 값 조정 가능\n",
        "lof_model.fit(X_encoded)\n",
        "lof_predictions = lof_model.predict(fX1_encoded)\n",
        "# 이상치라면 -1, 정상치라면 1로 표시됨\n"
      ],
      "metadata": {
        "id": "pj7CtxYC6DKQ"
      },
      "execution_count": 46,
      "outputs": []
    },
    {
      "cell_type": "code",
      "source": [
        "print(np.unique(if_predictions, return_counts=True))"
      ],
      "metadata": {
        "colab": {
          "base_uri": "https://localhost:8080/"
        },
        "id": "FZrvkIQPKOTR",
        "outputId": "7b6e2361-e295-4ddb-e294-461211d13f66"
      },
      "execution_count": 47,
      "outputs": [
        {
          "output_type": "stream",
          "name": "stdout",
          "text": [
            "(array([-1,  1]), array([ 14350, 193508]))\n"
          ]
        }
      ]
    },
    {
      "cell_type": "code",
      "source": [
        "print(np.unique(lof_predictions, return_counts=True))"
      ],
      "metadata": {
        "colab": {
          "base_uri": "https://localhost:8080/"
        },
        "id": "_VtYcHGmEGiY",
        "outputId": "5329007f-7b8d-417e-fad0-858a4ddaef4a"
      },
      "execution_count": 48,
      "outputs": [
        {
          "output_type": "stream",
          "name": "stdout",
          "text": [
            "(array([-1,  1]), array([206511,   1347]))\n"
          ]
        }
      ]
    },
    {
      "cell_type": "code",
      "source": [],
      "metadata": {
        "id": "uhQh-I7q6GXX"
      },
      "execution_count": 48,
      "outputs": []
    },
    {
      "cell_type": "code",
      "source": [
        "data2 = pd.read_csv('./drive/MyDrive/Colab Notebooks/team_prj/data/type2.csv')\n",
        "y2 = data2['type']\n",
        "y2 = y2.map({'Normal': 0, 'Attack': 1}).to_numpy()\n",
        "#X2 = data2.drop(columns =['type'])\n",
        "#X2 = X2.drop(columns =['isCan0'])\n",
        "#X2 = X2.drop(columns = ['time'])\n",
        "\n",
        "X2 = data2.drop(columns =['type'])\n",
        "X2 = X2.drop(columns =['isCan0','isService','serviceNODEID'])\n",
        "X2 = X2.drop(columns = ['time','data[0]','data[7]'])\n",
        "\n"
      ],
      "metadata": {
        "id": "V0FE0JPyVgL6"
      },
      "execution_count": 49,
      "outputs": []
    },
    {
      "cell_type": "code",
      "source": [],
      "metadata": {
        "id": "CoqaIodOVoVh"
      },
      "execution_count": 49,
      "outputs": []
    }
  ]
}