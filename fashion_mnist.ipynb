{
  "nbformat": 4,
  "nbformat_minor": 0,
  "metadata": {
    "colab": {
      "provenance": [],
      "authorship_tag": "ABX9TyNzDKTQUtnkRnrPL1pyy5MZ",
      "include_colab_link": true
    },
    "kernelspec": {
      "name": "python3",
      "display_name": "Python 3"
    },
    "language_info": {
      "name": "python"
    }
  },
  "cells": [
    {
      "cell_type": "markdown",
      "metadata": {
        "id": "view-in-github",
        "colab_type": "text"
      },
      "source": [
        "<a href=\"https://colab.research.google.com/github/NousForFreedom/NSL_5/blob/main/fashion_mnist.ipynb\" target=\"_parent\"><img src=\"https://colab.research.google.com/assets/colab-badge.svg\" alt=\"Open In Colab\"/></a>"
      ]
    },
    {
      "cell_type": "code",
      "execution_count": null,
      "metadata": {
        "id": "DbA5HNrQllhi"
      },
      "outputs": [],
      "source": [
        "import numpy as np\n",
        "import pandas as pd\n",
        "import seaborn as sns\n",
        "import matplotlib.pyplot as plt\n",
        "from sklearn.model_selection import train_test_split\n",
        "from sklearn.preprocessing import MinMaxScaler\n",
        "import tensorflow as tf\n",
        "from tensorflow import keras\n",
        "from tensorflow.keras.models import Sequential\n",
        "from tensorflow.keras.optimizers import Adam, Adamax\n",
        "from tensorflow.keras.layers import Dropout, Dense, BatchNormalization\n",
        "from keras import regularizers\n",
        "from tensorflow.keras.callbacks import EarlyStopping\n",
        "from sklearn.metrics import accuracy_score\n",
        "from tensorflow.keras.layers import Input, Dense, Flatten, Conv2D, MaxPooling2D\n",
        "from sklearn.metrics import confusion_matrix\n",
        "from tensorflow.keras.utils import to_categorical\n",
        "from sklearn.model_selection import train_test_split\n",
        "import warnings\n",
        "warnings.filterwarnings('ignore')\n",
        "# https://woochan-autobiography.tistory.com/882"
      ]
    },
    {
      "cell_type": "code",
      "source": [
        "from tensorflow.keras.datasets import fashion_mnist"
      ],
      "metadata": {
        "id": "ZJ5KzW96mA3d"
      },
      "execution_count": null,
      "outputs": []
    },
    {
      "cell_type": "code",
      "source": [
        "(train_images, train_labels), (test_images, test_labels) = fashion_mnist.load_data() # 훈련 이미지 6만, 테스트 이미지 1만"
      ],
      "metadata": {
        "colab": {
          "base_uri": "https://localhost:8080/"
        },
        "id": "Z58rionPmMwn",
        "outputId": "4f835d23-811f-4139-bf4c-159e37b4fb3b"
      },
      "execution_count": null,
      "outputs": [
        {
          "output_type": "stream",
          "name": "stdout",
          "text": [
            "Downloading data from https://storage.googleapis.com/tensorflow/tf-keras-datasets/train-labels-idx1-ubyte.gz\n",
            "29515/29515 [==============================] - 0s 0us/step\n",
            "Downloading data from https://storage.googleapis.com/tensorflow/tf-keras-datasets/train-images-idx3-ubyte.gz\n",
            "26421880/26421880 [==============================] - 2s 0us/step\n",
            "Downloading data from https://storage.googleapis.com/tensorflow/tf-keras-datasets/t10k-labels-idx1-ubyte.gz\n",
            "5148/5148 [==============================] - 0s 0us/step\n",
            "Downloading data from https://storage.googleapis.com/tensorflow/tf-keras-datasets/t10k-images-idx3-ubyte.gz\n",
            "4422102/4422102 [==============================] - 1s 0us/step\n"
          ]
        }
      ]
    },
    {
      "cell_type": "code",
      "source": [
        "def get_preprocessed_data(images, labels):\n",
        "    # 학습과 테스트 이미지 array를 0~1 사이값으로 scale 및 float32 형 변형.\n",
        "    images = np.array(images/255.0, dtype=np.float32)\n",
        "    labels = np.array(labels, dtype=np.float32)\n",
        "\n",
        "    return images, labels"
      ],
      "metadata": {
        "id": "qcV8JDNImX1o"
      },
      "execution_count": null,
      "outputs": []
    },
    {
      "cell_type": "code",
      "source": [
        "print(train_images.shape)\n",
        "print(test_images.shape)"
      ],
      "metadata": {
        "colab": {
          "base_uri": "https://localhost:8080/"
        },
        "id": "AX7gWp0pmoC7",
        "outputId": "6658bb13-3af7-4fe3-dc79-8b66b872a189"
      },
      "execution_count": null,
      "outputs": [
        {
          "output_type": "stream",
          "name": "stdout",
          "text": [
            "(60000, 28, 28)\n",
            "(10000, 28, 28)\n"
          ]
        }
      ]
    },
    {
      "cell_type": "code",
      "source": [
        "# 원핫 인코딩\n",
        "def get_preprocessed_ohe(images, labels):\n",
        "    images, labels = get_preprocessed_data(images, labels)\n",
        "    oh_labels = to_categorical(labels)\n",
        "    return images, oh_labels"
      ],
      "metadata": {
        "id": "p8xSY8cumbNx"
      },
      "execution_count": null,
      "outputs": []
    },
    {
      "cell_type": "code",
      "source": [
        "# 학습/검증/테스트 데이터 세트에 전처리 및 OHE 적용한 뒤 반환\n",
        "def get_train_valid_test_set(train_images, train_labels, test_images, test_labels, valid_size=0.15, random_state=2021):\n",
        "    # 학습 및 테스트 데이터 세트를  0 ~ 1사이값 float32로 변경 및 OHE 적용.\n",
        "    train_images, train_oh_labels = get_preprocessed_ohe(train_images, train_labels)\n",
        "    test_images, test_oh_labels = get_preprocessed_ohe(test_images, test_labels)\n",
        "\n",
        "    # 학습 데이터를 검증 데이터 세트로 다시 분리\n",
        "    tr_images, val_images, tr_oh_labels, val_oh_labels = train_test_split(train_images, train_oh_labels, test_size=valid_size, random_state=random_state)\n",
        "\n",
        "    return (tr_images, tr_oh_labels), (val_images, val_oh_labels), (test_images, test_oh_labels )"
      ],
      "metadata": {
        "id": "QW8LORTWmfw0"
      },
      "execution_count": null,
      "outputs": []
    },
    {
      "cell_type": "code",
      "source": [
        "# Fashion MNIST 데이터 재 로딩 및 전처리 적용하여 학습/검증/데이터 세트 생성.\n",
        "\n",
        "(train_images, train_labels), (test_images, test_labels) = fashion_mnist.load_data()\n",
        "print(train_images.shape, train_labels.shape, test_images.shape, test_labels.shape)\n",
        "(tr_images, tr_oh_labels), (val_images, val_oh_labels), (test_images, test_oh_labels) = \\\n",
        "    get_train_valid_test_set(train_images, train_labels, test_images, test_labels, valid_size=0.15, random_state=2021)\n",
        "print(tr_images.shape, tr_oh_labels.shape, val_images.shape, val_oh_labels.shape, test_images.shape, test_labels.shape)"
      ],
      "metadata": {
        "colab": {
          "base_uri": "https://localhost:8080/"
        },
        "id": "k_plehComlXI",
        "outputId": "747d8fc3-bae5-4972-96be-35f623e715d6"
      },
      "execution_count": null,
      "outputs": [
        {
          "output_type": "stream",
          "name": "stdout",
          "text": [
            "(60000, 28, 28) (60000,) (10000, 28, 28) (10000,)\n",
            "(51000, 28, 28) (51000, 10) (9000, 28, 28) (9000, 10) (10000, 28, 28) (10000,)\n"
          ]
        }
      ]
    },
    {
      "cell_type": "code",
      "source": [
        "from tensorflow.keras.layers import Dense, Flatten\n",
        "from tensorflow.keras.models import Model\n",
        "\n",
        "input_tensor = Input(shape=(28, 28, 1))\n",
        "x = Conv2D(filters=32, kernel_size=3, strides=1, padding='same', activation='relu')(input_tensor)\n",
        "x = Conv2D(filters=64, kernel_size=3, activation='relu')(x)\n",
        "x = MaxPooling2D(2)(x)\n",
        "\n",
        "# 3차원으로 되어있는 Feature map 결과를 Fully Connected 연결하기 위해서는 Flatten()을 적용.\n",
        "x = Flatten()(x)\n",
        "x = Dense(100, activation='relu')(x)\n",
        "output = Dense(10, activation='softmax')(x)\n",
        "model = Model(inputs=input_tensor, outputs=output)\n",
        "model.summary()"
      ],
      "metadata": {
        "colab": {
          "base_uri": "https://localhost:8080/"
        },
        "id": "SEiBjTmEnf6w",
        "outputId": "84bbf4e5-c43a-4fd0-a9b7-09951b41257a"
      },
      "execution_count": null,
      "outputs": [
        {
          "output_type": "stream",
          "name": "stdout",
          "text": [
            "Model: \"model\"\n",
            "_________________________________________________________________\n",
            " Layer (type)                Output Shape              Param #   \n",
            "=================================================================\n",
            " input_1 (InputLayer)        [(None, 28, 28, 1)]       0         \n",
            "                                                                 \n",
            " conv2d (Conv2D)             (None, 28, 28, 32)        320       \n",
            "                                                                 \n",
            " conv2d_1 (Conv2D)           (None, 26, 26, 64)        18496     \n",
            "                                                                 \n",
            " max_pooling2d (MaxPooling2  (None, 13, 13, 64)        0         \n",
            " D)                                                              \n",
            "                                                                 \n",
            " flatten (Flatten)           (None, 10816)             0         \n",
            "                                                                 \n",
            " dense (Dense)               (None, 100)               1081700   \n",
            "                                                                 \n",
            " dense_1 (Dense)             (None, 10)                1010      \n",
            "                                                                 \n",
            "=================================================================\n",
            "Total params: 1101526 (4.20 MB)\n",
            "Trainable params: 1101526 (4.20 MB)\n",
            "Non-trainable params: 0 (0.00 Byte)\n",
            "_________________________________________________________________\n"
          ]
        }
      ]
    },
    {
      "cell_type": "code",
      "source": [
        "from tensorflow.keras.utils import to_categorical\n",
        "from tensorflow.keras.optimizers import Adam\n",
        "from tensorflow.keras.losses import CategoricalCrossentropy\n",
        "from tensorflow.keras.metrics import Accuracy\n",
        "\n",
        "model.compile(optimizer=Adam(0.001), loss='categorical_crossentropy', metrics=['accuracy'])"
      ],
      "metadata": {
        "id": "X-T481XkngRQ"
      },
      "execution_count": null,
      "outputs": []
    },
    {
      "cell_type": "code",
      "source": [
        "history = model.fit(x=tr_images, y=tr_oh_labels, batch_size=128, epochs=30, validation_data=(val_images, val_oh_labels))"
      ],
      "metadata": {
        "id": "ozZVOkOengll",
        "colab": {
          "base_uri": "https://localhost:8080/"
        },
        "outputId": "d8b2dca5-d42e-4fb3-d316-5a02f5599f1a"
      },
      "execution_count": null,
      "outputs": [
        {
          "output_type": "stream",
          "name": "stdout",
          "text": [
            "Epoch 1/30\n",
            "399/399 [==============================] - 151s 376ms/step - loss: 0.4417 - accuracy: 0.8437 - val_loss: 0.3334 - val_accuracy: 0.8806\n",
            "Epoch 2/30\n",
            "399/399 [==============================] - 128s 321ms/step - loss: 0.2743 - accuracy: 0.9018 - val_loss: 0.2702 - val_accuracy: 0.9026\n",
            "Epoch 3/30\n",
            "399/399 [==============================] - 125s 314ms/step - loss: 0.2208 - accuracy: 0.9198 - val_loss: 0.2643 - val_accuracy: 0.9049\n",
            "Epoch 4/30\n",
            "399/399 [==============================] - 125s 315ms/step - loss: 0.1830 - accuracy: 0.9337 - val_loss: 0.2371 - val_accuracy: 0.9150\n",
            "Epoch 5/30\n",
            "399/399 [==============================] - 125s 314ms/step - loss: 0.1517 - accuracy: 0.9453 - val_loss: 0.2310 - val_accuracy: 0.9197\n",
            "Epoch 6/30\n",
            "399/399 [==============================] - 126s 315ms/step - loss: 0.1245 - accuracy: 0.9534 - val_loss: 0.2174 - val_accuracy: 0.9284\n",
            "Epoch 7/30\n",
            "399/399 [==============================] - 130s 326ms/step - loss: 0.1020 - accuracy: 0.9627 - val_loss: 0.2354 - val_accuracy: 0.9252\n",
            "Epoch 8/30\n",
            "399/399 [==============================] - 132s 330ms/step - loss: 0.0799 - accuracy: 0.9713 - val_loss: 0.2496 - val_accuracy: 0.9246\n",
            "Epoch 9/30\n",
            "399/399 [==============================] - 125s 313ms/step - loss: 0.0660 - accuracy: 0.9764 - val_loss: 0.2581 - val_accuracy: 0.9226\n",
            "Epoch 10/30\n",
            "399/399 [==============================] - 127s 317ms/step - loss: 0.0526 - accuracy: 0.9812 - val_loss: 0.2831 - val_accuracy: 0.9232\n",
            "Epoch 11/30\n",
            "399/399 [==============================] - 122s 305ms/step - loss: 0.0393 - accuracy: 0.9863 - val_loss: 0.3021 - val_accuracy: 0.9283\n",
            "Epoch 12/30\n",
            "399/399 [==============================] - 123s 308ms/step - loss: 0.0298 - accuracy: 0.9899 - val_loss: 0.3025 - val_accuracy: 0.9267\n",
            "Epoch 13/30\n",
            "399/399 [==============================] - 124s 311ms/step - loss: 0.0267 - accuracy: 0.9905 - val_loss: 0.3859 - val_accuracy: 0.9168\n",
            "Epoch 14/30\n",
            "399/399 [==============================] - 124s 311ms/step - loss: 0.0206 - accuracy: 0.9937 - val_loss: 0.3627 - val_accuracy: 0.9242\n",
            "Epoch 15/30\n",
            "399/399 [==============================] - 125s 313ms/step - loss: 0.0212 - accuracy: 0.9931 - val_loss: 0.4002 - val_accuracy: 0.9227\n",
            "Epoch 16/30\n",
            "399/399 [==============================] - 139s 349ms/step - loss: 0.0218 - accuracy: 0.9930 - val_loss: 0.3935 - val_accuracy: 0.9187\n",
            "Epoch 17/30\n",
            "399/399 [==============================] - 155s 388ms/step - loss: 0.0130 - accuracy: 0.9961 - val_loss: 0.4114 - val_accuracy: 0.9212\n",
            "Epoch 18/30\n",
            "399/399 [==============================] - 127s 317ms/step - loss: 0.0123 - accuracy: 0.9961 - val_loss: 0.4423 - val_accuracy: 0.9223\n",
            "Epoch 19/30\n",
            "399/399 [==============================] - 129s 324ms/step - loss: 0.0151 - accuracy: 0.9951 - val_loss: 0.4633 - val_accuracy: 0.9187\n",
            "Epoch 20/30\n",
            "399/399 [==============================] - 131s 328ms/step - loss: 0.0138 - accuracy: 0.9956 - val_loss: 0.4559 - val_accuracy: 0.9222\n",
            "Epoch 21/30\n",
            "399/399 [==============================] - 128s 320ms/step - loss: 0.0156 - accuracy: 0.9946 - val_loss: 0.4587 - val_accuracy: 0.9197\n",
            "Epoch 22/30\n",
            "399/399 [==============================] - 125s 314ms/step - loss: 0.0121 - accuracy: 0.9959 - val_loss: 0.4494 - val_accuracy: 0.9243\n",
            "Epoch 23/30\n",
            "399/399 [==============================] - 130s 326ms/step - loss: 0.0067 - accuracy: 0.9982 - val_loss: 0.5239 - val_accuracy: 0.9264\n",
            "Epoch 24/30\n",
            "399/399 [==============================] - 130s 324ms/step - loss: 0.0083 - accuracy: 0.9973 - val_loss: 0.4992 - val_accuracy: 0.9244\n",
            "Epoch 25/30\n",
            "399/399 [==============================] - 129s 324ms/step - loss: 0.0090 - accuracy: 0.9972 - val_loss: 0.5006 - val_accuracy: 0.9200\n",
            "Epoch 26/30\n",
            "399/399 [==============================] - 130s 325ms/step - loss: 0.0124 - accuracy: 0.9959 - val_loss: 0.5836 - val_accuracy: 0.9167\n",
            "Epoch 27/30\n",
            "399/399 [==============================] - 124s 309ms/step - loss: 0.0096 - accuracy: 0.9969 - val_loss: 0.5306 - val_accuracy: 0.9248\n",
            "Epoch 28/30\n",
            "399/399 [==============================] - 127s 318ms/step - loss: 0.0070 - accuracy: 0.9976 - val_loss: 0.5148 - val_accuracy: 0.9232\n",
            "Epoch 29/30\n",
            "399/399 [==============================] - 130s 326ms/step - loss: 0.0085 - accuracy: 0.9974 - val_loss: 0.5657 - val_accuracy: 0.9191\n",
            "Epoch 30/30\n",
            "399/399 [==============================] - 129s 325ms/step - loss: 0.0098 - accuracy: 0.9966 - val_loss: 0.5350 - val_accuracy: 0.9218\n"
          ]
        }
      ]
    },
    {
      "cell_type": "code",
      "source": [
        "from tensorflow.keras.layers import Dense, Flatten, Dropout, GlobalAveragePooling2D\n",
        "%matplotlib inline\n",
        "\n",
        "def show_history(history):\n",
        "    plt.plot(history.history['accuracy'], label='train')\n",
        "    plt.plot(history.history['val_accuracy'], label='valid')\n",
        "    plt.legend()\n",
        "\n",
        "show_history(history)"
      ],
      "metadata": {
        "colab": {
          "base_uri": "https://localhost:8080/",
          "height": 430
        },
        "id": "GaPFMYwTZF8G",
        "outputId": "04cc352f-0475-47d3-eef7-98b313018ff4"
      },
      "execution_count": null,
      "outputs": [
        {
          "output_type": "display_data",
          "data": {
            "text/plain": [
              "<Figure size 640x480 with 1 Axes>"
            ],
            "image/png": "[encoded data removed]"
          },
          "metadata": {}
        }
      ]
    },
    {
      "cell_type": "code",
      "source": [
        "# 테스트 데이터 세트로 모델 성능 검증\n",
        "model.evaluate(test_images, test_oh_labels, batch_size=256, verbose=1)"
      ],
      "metadata": {
        "colab": {
          "base_uri": "https://localhost:8080/"
        },
        "id": "BWHqZ_QUgsIy",
        "outputId": "20d69607-5ba9-4565-a7dd-563f3495458b"
      },
      "execution_count": null,
      "outputs": [
        {
          "output_type": "stream",
          "name": "stdout",
          "text": [
            "40/40 [==============================] - 10s 253ms/step - loss: 0.5753 - accuracy: 0.9195\n"
          ]
        },
        {
          "output_type": "execute_result",
          "data": {
            "text/plain": [
              "[0.5753024220466614, 0.9194999933242798]"
            ]
          },
          "metadata": {},
          "execution_count": 13
        }
      ]
    },
    {
      "cell_type": "code",
      "source": [
        "\n",
        "\n",
        "def create_model():\n",
        "    input_tensor = Input(shape=(28, 28, 1))\n",
        "    x = Conv2D(filters=32, kernel_size=3, strides=1, padding='same', activation='relu')(input_tensor)\n",
        "    x = Conv2D(filters=64, kernel_size=3, activation='relu')(x)\n",
        "    x = MaxPooling2D(2)(x)\n",
        "\n",
        "    x = Dropout(rate=0.5)(x)\n",
        "    x = Flatten()(x)\n",
        "    x = Dropout(rate=0.5)(x)\n",
        "    x = Dense(200, activation='relu')(x)\n",
        "    x = Dropout(rate=0.2)(x)\n",
        "    output = Dense(10, activation='softmax')(x)\n",
        "    model = Model(inputs=input_tensor, outputs=output)\n",
        "    model.summary()\n",
        "\n",
        "    return model\n",
        "\n",
        "model = create_model()"
      ],
      "metadata": {
        "colab": {
          "base_uri": "https://localhost:8080/"
        },
        "id": "ds8927EyZGkO",
        "outputId": "ae100991-44dc-473a-9618-ae39e895e230"
      },
      "execution_count": null,
      "outputs": [
        {
          "output_type": "stream",
          "name": "stdout",
          "text": [
            "Model: \"model_1\"\n",
            "_________________________________________________________________\n",
            " Layer (type)                Output Shape              Param #   \n",
            "=================================================================\n",
            " input_2 (InputLayer)        [(None, 28, 28, 1)]       0         \n",
            "                                                                 \n",
            " conv2d_2 (Conv2D)           (None, 28, 28, 32)        320       \n",
            "                                                                 \n",
            " conv2d_3 (Conv2D)           (None, 26, 26, 64)        18496     \n",
            "                                                                 \n",
            " max_pooling2d_1 (MaxPoolin  (None, 13, 13, 64)        0         \n",
            " g2D)                                                            \n",
            "                                                                 \n",
            " dropout (Dropout)           (None, 13, 13, 64)        0         \n",
            "                                                                 \n",
            " flatten_1 (Flatten)         (None, 10816)             0         \n",
            "                                                                 \n",
            " dropout_1 (Dropout)         (None, 10816)             0         \n",
            "                                                                 \n",
            " dense_2 (Dense)             (None, 200)               2163400   \n",
            "                                                                 \n",
            " dropout_2 (Dropout)         (None, 200)               0         \n",
            "                                                                 \n",
            " dense_3 (Dense)             (None, 10)                2010      \n",
            "                                                                 \n",
            "=================================================================\n",
            "Total params: 2184226 (8.33 MB)\n",
            "Trainable params: 2184226 (8.33 MB)\n",
            "Non-trainable params: 0 (0.00 Byte)\n",
            "_________________________________________________________________\n"
          ]
        }
      ]
    },
    {
      "cell_type": "code",
      "source": [
        "model.compile(optimizer=Adam(0.001), loss='categorical_crossentropy', metrics=['accuracy'])\n",
        "history = model.fit(x=tr_images, y=tr_oh_labels, batch_size=128, epochs=30, validation_data=(val_images, val_oh_labels))"
      ],
      "metadata": {
        "colab": {
          "base_uri": "https://localhost:8080/"
        },
        "id": "ATtAIUtjZXBm",
        "outputId": "90ebf864-de68-4ede-edc3-0334b31cfc93"
      },
      "execution_count": null,
      "outputs": [
        {
          "output_type": "stream",
          "name": "stdout",
          "text": [
            "Epoch 1/30\n",
            "399/399 [==============================] - 149s 370ms/step - loss: 0.4970 - accuracy: 0.8195 - val_loss: 0.3356 - val_accuracy: 0.8817\n",
            "Epoch 2/30\n",
            "399/399 [==============================] - 147s 368ms/step - loss: 0.3425 - accuracy: 0.8744 - val_loss: 0.2801 - val_accuracy: 0.8961\n",
            "Epoch 3/30\n",
            "399/399 [==============================] - 143s 360ms/step - loss: 0.2951 - accuracy: 0.8908 - val_loss: 0.2623 - val_accuracy: 0.9050\n",
            "Epoch 4/30\n",
            "399/399 [==============================] - 152s 382ms/step - loss: 0.2708 - accuracy: 0.9006 - val_loss: 0.2524 - val_accuracy: 0.9078\n",
            "Epoch 5/30\n",
            "399/399 [==============================] - 143s 359ms/step - loss: 0.2457 - accuracy: 0.9083 - val_loss: 0.2247 - val_accuracy: 0.9167\n",
            "Epoch 6/30\n",
            "399/399 [==============================] - 143s 357ms/step - loss: 0.2305 - accuracy: 0.9143 - val_loss: 0.2175 - val_accuracy: 0.9184\n",
            "Epoch 7/30\n",
            "399/399 [==============================] - 142s 355ms/step - loss: 0.2177 - accuracy: 0.9193 - val_loss: 0.2109 - val_accuracy: 0.9199\n",
            "Epoch 8/30\n",
            "399/399 [==============================] - 141s 354ms/step - loss: 0.2042 - accuracy: 0.9245 - val_loss: 0.2071 - val_accuracy: 0.9241\n",
            "Epoch 9/30\n",
            "399/399 [==============================] - 149s 374ms/step - loss: 0.1976 - accuracy: 0.9257 - val_loss: 0.2036 - val_accuracy: 0.9244\n",
            "Epoch 10/30\n",
            "399/399 [==============================] - 141s 355ms/step - loss: 0.1863 - accuracy: 0.9302 - val_loss: 0.1996 - val_accuracy: 0.9260\n",
            "Epoch 11/30\n",
            "399/399 [==============================] - 146s 366ms/step - loss: 0.1770 - accuracy: 0.9329 - val_loss: 0.1999 - val_accuracy: 0.9279\n",
            "Epoch 12/30\n",
            "399/399 [==============================] - 141s 355ms/step - loss: 0.1686 - accuracy: 0.9364 - val_loss: 0.1933 - val_accuracy: 0.9281\n",
            "Epoch 13/30\n",
            "399/399 [==============================] - 142s 355ms/step - loss: 0.1629 - accuracy: 0.9391 - val_loss: 0.1946 - val_accuracy: 0.9283\n",
            "Epoch 14/30\n",
            "399/399 [==============================] - 142s 355ms/step - loss: 0.1571 - accuracy: 0.9404 - val_loss: 0.1860 - val_accuracy: 0.9306\n",
            "Epoch 15/30\n",
            "399/399 [==============================] - 142s 356ms/step - loss: 0.1503 - accuracy: 0.9434 - val_loss: 0.1907 - val_accuracy: 0.9297\n",
            "Epoch 16/30\n",
            "399/399 [==============================] - 145s 363ms/step - loss: 0.1460 - accuracy: 0.9443 - val_loss: 0.1932 - val_accuracy: 0.9298\n",
            "Epoch 17/30\n",
            "399/399 [==============================] - 141s 353ms/step - loss: 0.1426 - accuracy: 0.9465 - val_loss: 0.1893 - val_accuracy: 0.9319\n",
            "Epoch 18/30\n",
            "399/399 [==============================] - 146s 366ms/step - loss: 0.1354 - accuracy: 0.9475 - val_loss: 0.1946 - val_accuracy: 0.9332\n",
            "Epoch 19/30\n",
            "399/399 [==============================] - 141s 353ms/step - loss: 0.1330 - accuracy: 0.9490 - val_loss: 0.1906 - val_accuracy: 0.9319\n",
            "Epoch 20/30\n",
            "399/399 [==============================] - 141s 354ms/step - loss: 0.1283 - accuracy: 0.9518 - val_loss: 0.1916 - val_accuracy: 0.9346\n",
            "Epoch 21/30\n",
            "399/399 [==============================] - 141s 354ms/step - loss: 0.1223 - accuracy: 0.9525 - val_loss: 0.2005 - val_accuracy: 0.9324\n",
            "Epoch 22/30\n",
            "399/399 [==============================] - 142s 356ms/step - loss: 0.1212 - accuracy: 0.9536 - val_loss: 0.1891 - val_accuracy: 0.9352\n",
            "Epoch 23/30\n",
            "399/399 [==============================] - 145s 364ms/step - loss: 0.1214 - accuracy: 0.9541 - val_loss: 0.1867 - val_accuracy: 0.9356\n",
            "Epoch 24/30\n",
            "399/399 [==============================] - 141s 353ms/step - loss: 0.1171 - accuracy: 0.9559 - val_loss: 0.1892 - val_accuracy: 0.9348\n",
            "Epoch 25/30\n",
            "399/399 [==============================] - 145s 365ms/step - loss: 0.1123 - accuracy: 0.9566 - val_loss: 0.1920 - val_accuracy: 0.9350\n",
            "Epoch 26/30\n",
            "399/399 [==============================] - 141s 352ms/step - loss: 0.1121 - accuracy: 0.9567 - val_loss: 0.1909 - val_accuracy: 0.9352\n",
            "Epoch 27/30\n",
            "399/399 [==============================] - 140s 351ms/step - loss: 0.1052 - accuracy: 0.9600 - val_loss: 0.1930 - val_accuracy: 0.9386\n",
            "Epoch 28/30\n",
            "399/399 [==============================] - 141s 354ms/step - loss: 0.1042 - accuracy: 0.9611 - val_loss: 0.1948 - val_accuracy: 0.9334\n",
            "Epoch 29/30\n",
            "399/399 [==============================] - 141s 354ms/step - loss: 0.1033 - accuracy: 0.9603 - val_loss: 0.1962 - val_accuracy: 0.9358\n",
            "Epoch 30/30\n",
            "399/399 [==============================] - 145s 364ms/step - loss: 0.1003 - accuracy: 0.9624 - val_loss: 0.1977 - val_accuracy: 0.9354\n"
          ]
        }
      ]
    },
    {
      "cell_type": "code",
      "source": [
        "show_history(history)\n",
        "model.evaluate(test_images, test_oh_labels, batch_size=256, verbose=1)"
      ],
      "metadata": {
        "colab": {
          "base_uri": "https://localhost:8080/",
          "height": 466
        },
        "id": "ovdoA6gUZLSp",
        "outputId": "37cae6e4-10dd-44b3-e9e0-7639d909f36b"
      },
      "execution_count": null,
      "outputs": [
        {
          "output_type": "stream",
          "name": "stdout",
          "text": [
            "40/40 [==============================] - 8s 196ms/step - loss: 0.2112 - accuracy: 0.9311\n"
          ]
        },
        {
          "output_type": "execute_result",
          "data": {
            "text/plain": [
              "[0.21123744547367096, 0.9311000108718872]"
            ]
          },
          "metadata": {},
          "execution_count": 17
        },
        {
          "output_type": "display_data",
          "data": {
            "text/plain": [
              "<Figure size 640x480 with 1 Axes>"
            ],
            "image/png": "[encoded data removed]"
          },
          "metadata": {}
        }
      ]
    },
    {
      "cell_type": "code",
      "source": [
        "#DNN\n",
        "\n",
        "model = Sequential()\n",
        "model.add(Flatten(input_shape=(28, 28)))\n",
        "model.add(Dense(512, activation='relu'))\n",
        "model.add(Dropout(0.5))\n",
        "model.add(Dense(256, activation='relu'))\n",
        "model.add(Dropout(0.5))\n",
        "model.add(Dense(128, activation='relu'))\n",
        "model.add(Dropout(0.5))\n",
        "model.add(Dense(64, activation='relu'))\n",
        "model.add(Dense(10, activation='softmax'))"
      ],
      "metadata": {
        "id": "AQsrW0QgZMsU"
      },
      "execution_count": null,
      "outputs": []
    },
    {
      "cell_type": "code",
      "source": [
        "# 모델 컴파일\n",
        "model.compile(optimizer='adam', loss='categorical_crossentropy', metrics=['accuracy'])\n",
        "\n",
        "# 모델 학습\n",
        "history = model.fit(tr_images, tr_oh_labels, batch_size=128, epochs=30, validation_data=(val_images, val_oh_labels))\n"
      ],
      "metadata": {
        "colab": {
          "base_uri": "https://localhost:8080/"
        },
        "id": "_aNeEll3qXqi",
        "outputId": "993cb8f5-52ff-4784-f139-07092d301fce"
      },
      "execution_count": null,
      "outputs": [
        {
          "output_type": "stream",
          "name": "stdout",
          "text": [
            "Epoch 1/30\n",
            "399/399 [==============================] - 8s 19ms/step - loss: 0.8768 - accuracy: 0.6709 - val_loss: 0.5074 - val_accuracy: 0.8192\n",
            "Epoch 2/30\n",
            "399/399 [==============================] - 6s 14ms/step - loss: 0.5562 - accuracy: 0.8055 - val_loss: 0.4406 - val_accuracy: 0.8383\n",
            "Epoch 3/30\n",
            "399/399 [==============================] - 7s 18ms/step - loss: 0.5068 - accuracy: 0.8218 - val_loss: 0.4246 - val_accuracy: 0.8470\n",
            "Epoch 4/30\n",
            "399/399 [==============================] - 6s 15ms/step - loss: 0.4742 - accuracy: 0.8319 - val_loss: 0.3927 - val_accuracy: 0.8519\n",
            "Epoch 5/30\n",
            "399/399 [==============================] - 7s 17ms/step - loss: 0.4514 - accuracy: 0.8395 - val_loss: 0.3934 - val_accuracy: 0.8579\n",
            "Epoch 6/30\n",
            "399/399 [==============================] - 6s 15ms/step - loss: 0.4365 - accuracy: 0.8459 - val_loss: 0.3705 - val_accuracy: 0.8662\n",
            "Epoch 7/30\n",
            "399/399 [==============================] - 6s 15ms/step - loss: 0.4241 - accuracy: 0.8513 - val_loss: 0.3818 - val_accuracy: 0.8591\n",
            "Epoch 8/30\n",
            "399/399 [==============================] - 7s 17ms/step - loss: 0.4122 - accuracy: 0.8543 - val_loss: 0.3559 - val_accuracy: 0.8702\n",
            "Epoch 9/30\n",
            "399/399 [==============================] - 6s 14ms/step - loss: 0.4067 - accuracy: 0.8566 - val_loss: 0.3708 - val_accuracy: 0.8629\n",
            "Epoch 10/30\n",
            "399/399 [==============================] - 7s 18ms/step - loss: 0.4014 - accuracy: 0.8554 - val_loss: 0.3625 - val_accuracy: 0.8666\n",
            "Epoch 11/30\n",
            "399/399 [==============================] - 6s 14ms/step - loss: 0.3906 - accuracy: 0.8596 - val_loss: 0.3508 - val_accuracy: 0.8682\n",
            "Epoch 12/30\n",
            "399/399 [==============================] - 7s 18ms/step - loss: 0.3855 - accuracy: 0.8622 - val_loss: 0.3472 - val_accuracy: 0.8712\n",
            "Epoch 13/30\n",
            "399/399 [==============================] - 6s 14ms/step - loss: 0.3823 - accuracy: 0.8610 - val_loss: 0.3486 - val_accuracy: 0.8700\n",
            "Epoch 14/30\n",
            "399/399 [==============================] - 7s 18ms/step - loss: 0.3695 - accuracy: 0.8673 - val_loss: 0.3450 - val_accuracy: 0.8682\n",
            "Epoch 15/30\n",
            "399/399 [==============================] - 6s 14ms/step - loss: 0.3703 - accuracy: 0.8668 - val_loss: 0.3331 - val_accuracy: 0.8776\n",
            "Epoch 16/30\n",
            "399/399 [==============================] - 7s 18ms/step - loss: 0.3674 - accuracy: 0.8689 - val_loss: 0.3398 - val_accuracy: 0.8776\n",
            "Epoch 17/30\n",
            "399/399 [==============================] - 6s 14ms/step - loss: 0.3627 - accuracy: 0.8695 - val_loss: 0.3388 - val_accuracy: 0.8789\n",
            "Epoch 18/30\n",
            "399/399 [==============================] - 7s 17ms/step - loss: 0.3531 - accuracy: 0.8720 - val_loss: 0.3259 - val_accuracy: 0.8827\n",
            "Epoch 19/30\n",
            "399/399 [==============================] - 6s 15ms/step - loss: 0.3519 - accuracy: 0.8742 - val_loss: 0.3308 - val_accuracy: 0.8806\n",
            "Epoch 20/30\n",
            "399/399 [==============================] - 7s 17ms/step - loss: 0.3490 - accuracy: 0.8752 - val_loss: 0.3369 - val_accuracy: 0.8770\n",
            "Epoch 21/30\n",
            "399/399 [==============================] - 6s 16ms/step - loss: 0.3435 - accuracy: 0.8750 - val_loss: 0.3227 - val_accuracy: 0.8836\n",
            "Epoch 22/30\n",
            "399/399 [==============================] - 6s 15ms/step - loss: 0.3426 - accuracy: 0.8768 - val_loss: 0.3200 - val_accuracy: 0.8837\n",
            "Epoch 23/30\n",
            "399/399 [==============================] - 7s 17ms/step - loss: 0.3433 - accuracy: 0.8762 - val_loss: 0.3242 - val_accuracy: 0.8812\n",
            "Epoch 24/30\n",
            "399/399 [==============================] - 6s 14ms/step - loss: 0.3379 - accuracy: 0.8775 - val_loss: 0.3186 - val_accuracy: 0.8862\n",
            "Epoch 25/30\n",
            "399/399 [==============================] - 7s 18ms/step - loss: 0.3321 - accuracy: 0.8794 - val_loss: 0.3232 - val_accuracy: 0.8823\n",
            "Epoch 26/30\n",
            "399/399 [==============================] - 6s 14ms/step - loss: 0.3293 - accuracy: 0.8810 - val_loss: 0.3231 - val_accuracy: 0.8830\n",
            "Epoch 27/30\n",
            "399/399 [==============================] - 7s 18ms/step - loss: 0.3333 - accuracy: 0.8796 - val_loss: 0.3167 - val_accuracy: 0.8821\n",
            "Epoch 28/30\n",
            "399/399 [==============================] - 6s 14ms/step - loss: 0.3229 - accuracy: 0.8818 - val_loss: 0.3134 - val_accuracy: 0.8824\n",
            "Epoch 29/30\n",
            "399/399 [==============================] - 7s 17ms/step - loss: 0.3255 - accuracy: 0.8814 - val_loss: 0.3154 - val_accuracy: 0.8819\n",
            "Epoch 30/30\n",
            "399/399 [==============================] - 6s 14ms/step - loss: 0.3203 - accuracy: 0.8841 - val_loss: 0.3110 - val_accuracy: 0.8884\n"
          ]
        }
      ]
    },
    {
      "cell_type": "code",
      "source": [
        "# 학습 및 검증 정확도 시각화\n",
        "def show_history(history):\n",
        "    plt.plot(history.history['accuracy'], label='train')\n",
        "    plt.plot(history.history['val_accuracy'], label='valid')\n",
        "    plt.legend()\n",
        "    plt.show()\n",
        "\n",
        "show_history(history)\n"
      ],
      "metadata": {
        "colab": {
          "base_uri": "https://localhost:8080/",
          "height": 430
        },
        "id": "bAIeXkbZqbaQ",
        "outputId": "a042d336-a435-4bda-837a-f26d605b6920"
      },
      "execution_count": null,
      "outputs": [
        {
          "output_type": "display_data",
          "data": {
            "text/plain": [
              "<Figure size 640x480 with 1 Axes>"
            ],
            "image/png": "[encoded data removed]"
          },
          "metadata": {}
        }
      ]
    },
    {
      "cell_type": "code",
      "source": [
        "# 모델 성능 평가\n",
        "test_loss, test_accuracy = model.evaluate(test_images, test_oh_labels, batch_size=256, verbose=1)\n",
        "print(f\"Test accuracy: {test_accuracy}\")"
      ],
      "metadata": {
        "colab": {
          "base_uri": "https://localhost:8080/"
        },
        "id": "ie4FbFq6qeoi",
        "outputId": "5a516465-1098-411b-95f4-cb0fd8a2baae"
      },
      "execution_count": null,
      "outputs": [
        {
          "output_type": "stream",
          "name": "stdout",
          "text": [
            "40/40 [==============================] - 0s 7ms/step - loss: 0.3350 - accuracy: 0.8827\n",
            "Test accuracy: 0.8827000260353088\n"
          ]
        }
      ]
    }
  ]
}