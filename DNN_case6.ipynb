{
  "nbformat": 4,
  "nbformat_minor": 0,
  "metadata": {
    "colab": {
      "provenance": [],
      "authorship_tag": "ABX9TyPH2wcGfCxkXxcHT0pXbzFf",
      "include_colab_link": true
    },
    "kernelspec": {
      "name": "python3",
      "display_name": "Python 3"
    },
    "language_info": {
      "name": "python"
    }
  },
  "cells": [
    {
      "cell_type": "markdown",
      "metadata": {
        "id": "view-in-github",
        "colab_type": "text"
      },
      "source": [
        "<a href=\"https://colab.research.google.com/github/ajou-y0uC4N/y0uC4N/blob/main/DNN_case6.ipynb\" target=\"_parent\"><img src=\"https://colab.research.google.com/assets/colab-badge.svg\" alt=\"Open In Colab\"/></a>"
      ]
    },
    {
      "cell_type": "code",
      "source": [
        "import pandas as pd\n",
        "import numpy as np\n",
        "import requests\n",
        "from sklearn.model_selection import train_test_split\n",
        "from sklearn.preprocessing import StandardScaler, LabelEncoder\n",
        "from sklearn.metrics import classification_report\n",
        "from tensorflow.keras.models import Sequential\n",
        "from tensorflow.keras.layers import Dense\n",
        "from google.colab import drive"
      ],
      "metadata": {
        "id": "hFlPpcn8cKTi"
      },
      "execution_count": 10,
      "outputs": []
    },
    {
      "cell_type": "code",
      "source": [
        "drive.mount('/content/drive')"
      ],
      "metadata": {
        "colab": {
          "base_uri": "https://localhost:8080/"
        },
        "id": "0pH-1jWXfrLL",
        "outputId": "e76329cf-2718-4680-fe51-432ab35db2c6"
      },
      "execution_count": 11,
      "outputs": [
        {
          "output_type": "stream",
          "name": "stdout",
          "text": [
            "Drive already mounted at /content/drive; to attempt to forcibly remount, call drive.mount(\"/content/drive\", force_remount=True).\n"
          ]
        }
      ]
    },
    {
      "cell_type": "code",
      "source": [
        "df = pd.read_csv(\"/content/drive/MyDrive/Colab Notebooks/type6.csv\")\n",
        "print(df.head())"
      ],
      "metadata": {
        "colab": {
          "base_uri": "https://localhost:8080/"
        },
        "id": "bZlYK2TbfrQR",
        "outputId": "ce69b1e4-e840-4883-92d1-8ef21d042641"
      },
      "execution_count": 12,
      "outputs": [
        {
          "output_type": "stream",
          "name": "stdout",
          "text": [
            "     type      time  isCan0  priority  messageID  isService  serviceNODEID  \\\n",
            "0  Normal  0.000000       1         5       1030          0              1   \n",
            "1  Normal  0.000180       1         5       1030          0              1   \n",
            "2  Normal  0.002787       1         5       1030          0              1   \n",
            "3  Normal  0.002945       1         5       1030          0              1   \n",
            "4  Normal  0.007147       1         5       1030          0              1   \n",
            "\n",
            "   byteSize  data[0]  data[1]  data[2]  data[3]  data[4]  data[5]  data[6]  \\\n",
            "0         8      166       53        0        0        0        0        0   \n",
            "1         7        0        0        0        0        0        0      124   \n",
            "2         8      166       53        0        0        0        0        0   \n",
            "3         7        0        0        0        0        0        0      125   \n",
            "4         8      166       53        0        0        0        0        0   \n",
            "\n",
            "   data[7]  7byteNullCnt  8byteNullCnt  \n",
            "0      156             0             5  \n",
            "1       -1             6             0  \n",
            "2      157             0             5  \n",
            "3       -1             6             0  \n",
            "4      158             0             5  \n"
          ]
        }
      ]
    },
    {
      "cell_type": "code",
      "source": [
        "label_encoder = LabelEncoder()\n",
        "y_encoded = label_encoder.fit_transform(df[\"type\"])\n",
        "X = df.drop(columns=[\"type\",'time'])\n",
        "\n",
        "print(f\"X shape: {X.shape}\")\n",
        "print(f\"y shape: {y_encoded.shape}\")\n",
        "\n",
        "scaler = StandardScaler()\n",
        "X_scaled = scaler.fit_transform(X)"
      ],
      "metadata": {
        "colab": {
          "base_uri": "https://localhost:8080/"
        },
        "id": "niOFo3PmfrTp",
        "outputId": "8235edc2-39fe-4b38-dc92-e704107c47f4"
      },
      "execution_count": 13,
      "outputs": [
        {
          "output_type": "stream",
          "name": "stdout",
          "text": [
            "X shape: (241321, 16)\n",
            "y shape: (241321,)\n"
          ]
        }
      ]
    },
    {
      "cell_type": "code",
      "source": [
        "X_train, X_test, y_train, y_test = train_test_split(X_scaled, y_encoded, test_size=0.2, random_state=42)"
      ],
      "metadata": {
        "id": "e9vsB_4EfrXZ"
      },
      "execution_count": 14,
      "outputs": []
    },
    {
      "cell_type": "code",
      "source": [
        "model = Sequential([\n",
        "    Dense(128, activation='relu', input_dim=X_train.shape[1]),\n",
        "    Dense(64, activation='relu'),\n",
        "    Dense(32, activation='relu'),\n",
        "    Dense(1, activation='sigmoid')\n",
        "])\n",
        "\n",
        "model.compile(optimizer='adam', loss='binary_crossentropy', metrics=['accuracy'])\n",
        "model.summary()"
      ],
      "metadata": {
        "colab": {
          "base_uri": "https://localhost:8080/"
        },
        "id": "-FbFTtlmfrbd",
        "outputId": "4d52f1eb-f08c-48c6-c6ab-43bd806deb8c"
      },
      "execution_count": 15,
      "outputs": [
        {
          "output_type": "stream",
          "name": "stdout",
          "text": [
            "Model: \"sequential_1\"\n",
            "_________________________________________________________________\n",
            " Layer (type)                Output Shape              Param #   \n",
            "=================================================================\n",
            " dense_4 (Dense)             (None, 128)               2176      \n",
            "                                                                 \n",
            " dense_5 (Dense)             (None, 64)                8256      \n",
            "                                                                 \n",
            " dense_6 (Dense)             (None, 32)                2080      \n",
            "                                                                 \n",
            " dense_7 (Dense)             (None, 1)                 33        \n",
            "                                                                 \n",
            "=================================================================\n",
            "Total params: 12545 (49.00 KB)\n",
            "Trainable params: 12545 (49.00 KB)\n",
            "Non-trainable params: 0 (0.00 Byte)\n",
            "_________________________________________________________________\n"
          ]
        }
      ]
    },
    {
      "cell_type": "code",
      "source": [
        "model.fit(X_train, y_train, epochs=10, batch_size=32, validation_split=0.2)"
      ],
      "metadata": {
        "colab": {
          "base_uri": "https://localhost:8080/"
        },
        "id": "VLlyj_jofrfq",
        "outputId": "ba8a4129-25a9-4c3f-b01d-c9c2612296a0"
      },
      "execution_count": 16,
      "outputs": [
        {
          "output_type": "stream",
          "name": "stdout",
          "text": [
            "Epoch 1/10\n",
            "4827/4827 [==============================] - 21s 4ms/step - loss: 0.1714 - accuracy: 0.9337 - val_loss: 0.1642 - val_accuracy: 0.9391\n",
            "Epoch 2/10\n",
            "4827/4827 [==============================] - 11s 2ms/step - loss: 0.1513 - accuracy: 0.9406 - val_loss: 0.1471 - val_accuracy: 0.9402\n",
            "Epoch 3/10\n",
            "4827/4827 [==============================] - 12s 3ms/step - loss: 0.1446 - accuracy: 0.9420 - val_loss: 0.1478 - val_accuracy: 0.9418\n",
            "Epoch 4/10\n",
            "4827/4827 [==============================] - 12s 3ms/step - loss: 0.1402 - accuracy: 0.9436 - val_loss: 0.1410 - val_accuracy: 0.9419\n",
            "Epoch 5/10\n",
            "4827/4827 [==============================] - 13s 3ms/step - loss: 0.1275 - accuracy: 0.9490 - val_loss: 0.1138 - val_accuracy: 0.9573\n",
            "Epoch 6/10\n",
            "4827/4827 [==============================] - 12s 3ms/step - loss: 0.1027 - accuracy: 0.9603 - val_loss: 0.0787 - val_accuracy: 0.9694\n",
            "Epoch 7/10\n",
            "4827/4827 [==============================] - 16s 3ms/step - loss: 0.0757 - accuracy: 0.9719 - val_loss: 0.0561 - val_accuracy: 0.9830\n",
            "Epoch 8/10\n",
            "4827/4827 [==============================] - 12s 3ms/step - loss: 0.0550 - accuracy: 0.9811 - val_loss: 0.0445 - val_accuracy: 0.9862\n",
            "Epoch 9/10\n",
            "4827/4827 [==============================] - 11s 2ms/step - loss: 0.0480 - accuracy: 0.9838 - val_loss: 0.0369 - val_accuracy: 0.9897\n",
            "Epoch 10/10\n",
            "4827/4827 [==============================] - 15s 3ms/step - loss: 0.0445 - accuracy: 0.9848 - val_loss: 0.0434 - val_accuracy: 0.9887\n"
          ]
        },
        {
          "output_type": "execute_result",
          "data": {
            "text/plain": [
              "<keras.src.callbacks.History at 0x7db3a45a7580>"
            ]
          },
          "metadata": {},
          "execution_count": 16
        }
      ]
    },
    {
      "cell_type": "code",
      "source": [
        "loss, accuracy = model.evaluate(X_test, y_test)\n",
        "print(f'Test loss: {loss}')\n",
        "print(f'Test accuracy: {accuracy}')\n",
        "\n",
        "y_pred = (model.predict(X_test) > 0.5).astype(\"int32\")\n",
        "print(classification_report(y_test, y_pred, target_names=label_encoder.classes_,digits=6))"
      ],
      "metadata": {
        "colab": {
          "base_uri": "https://localhost:8080/"
        },
        "id": "Mvx4uVi3gAxE",
        "outputId": "9a70e0b1-d2e9-4094-a90a-369d2c8b8ba7"
      },
      "execution_count": 17,
      "outputs": [
        {
          "output_type": "stream",
          "name": "stdout",
          "text": [
            "1509/1509 [==============================] - 3s 2ms/step - loss: 0.0436 - accuracy: 0.9882\n",
            "Test loss: 0.043570686131715775\n",
            "Test accuracy: 0.988210916519165\n",
            "1509/1509 [==============================] - 2s 1ms/step\n",
            "              precision    recall  f1-score   support\n",
            "\n",
            "      Attack   0.991138  0.974054  0.982522     16419\n",
            "      Normal   0.986741  0.995510  0.991106     31846\n",
            "\n",
            "    accuracy                       0.988211     48265\n",
            "   macro avg   0.988939  0.984782  0.986814     48265\n",
            "weighted avg   0.988237  0.988211  0.988186     48265\n",
            "\n"
          ]
        }
      ]
    },
    {
      "cell_type": "code",
      "source": [
        "from sklearn.metrics import confusion_matrix, f1_score, precision_score, recall_score\n",
        "import matplotlib.pyplot as plt\n",
        "import seaborn as sns\n",
        "sns.set()\n",
        "fig, ax = plt.subplots(1, 1, figsize=(8, 6))\n",
        "cm1 = confusion_matrix(y_test, y_pred)\n",
        "f1_1 = f1_score(y_test, y_pred, pos_label=1)\n",
        "precision_1 = precision_score(y_test, y_pred, pos_label=1)\n",
        "recall_1 = recall_score(y_test, y_pred, pos_label=1)\n",
        "# 혼동 행렬 heatmap 그리기\n",
        "ax.set_title('Confusion Matrix (DNN Case 6)', fontsize=14)\n",
        "ax.set_xlabel('Predicted Label', fontsize=12)\n",
        "ax.set_ylabel('True Label', fontsize=12)\n",
        "ax.text(0.5, -0.15, f'F1 Score: {f1_1:.4f} Precision: {precision_1:.4f} Recall: {recall_1:.4f}',\n",
        "        horizontalalignment='center', verticalalignment='center', transform=ax.transAxes,\n",
        "        fontsize=12)\n",
        "\n",
        "# heatmap\n",
        "sns.heatmap(cm1, annot=True, fmt=\"d\", cmap=\"Blues\", ax=ax)"
      ],
      "metadata": {
        "colab": {
          "base_uri": "https://localhost:8080/",
          "height": 618
        },
        "id": "Dlnj-PJkxdto",
        "outputId": "c6d3d81e-4657-4868-90c3-0fb1cc66f9df"
      },
      "execution_count": 18,
      "outputs": [
        {
          "output_type": "execute_result",
          "data": {
            "text/plain": [
              "<Axes: title={'center': 'Confusion Matrix (DNN Case 6)'}>"
            ]
          },
          "metadata": {},
          "execution_count": 18
        },
        {
          "output_type": "display_data",
          "data": {
            "text/plain": [
              "<Figure size 800x600 with 2 Axes>"
            ],
            "image/png": "[encoded data removed]"
          },
          "metadata": {}
        }
      ]
    },
    {
      "cell_type": "code",
      "source": [
        "model.save('my_dnn_model.h5')"
      ],
      "metadata": {
        "colab": {
          "base_uri": "https://localhost:8080/"
        },
        "id": "O2kSQI8-gC6I",
        "outputId": "e90b6465-464a-4464-91a2-24d4f4042e73"
      },
      "execution_count": 19,
      "outputs": [
        {
          "output_type": "stream",
          "name": "stderr",
          "text": [
            "/usr/local/lib/python3.10/dist-packages/keras/src/engine/training.py:3103: UserWarning: You are saving your model as an HDF5 file via `model.save()`. This file format is considered legacy. We recommend using instead the native Keras format, e.g. `model.save('my_model.keras')`.\n",
            "  saving_api.save_model(\n"
          ]
        }
      ]
    }
  ]
}