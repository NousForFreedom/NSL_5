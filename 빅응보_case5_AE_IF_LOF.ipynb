{
  "nbformat": 4,
  "nbformat_minor": 0,
  "metadata": {
    "colab": {
      "provenance": [],
      "machine_shape": "hm",
      "gpuType": "A100",
      "authorship_tag": "ABX9TyO83NUphq3t2mf5mLZxjYyW",
      "include_colab_link": true
    },
    "kernelspec": {
      "name": "python3",
      "display_name": "Python 3"
    },
    "language_info": {
      "name": "python"
    },
    "accelerator": "GPU"
  },
  "cells": [
    {
      "cell_type": "markdown",
      "metadata": {
        "id": "view-in-github",
        "colab_type": "text"
      },
      "source": [
        "<a href=\"https://colab.research.google.com/github/ajou-y0uC4N/y0uC4N/blob/main/%EB%B9%85%EC%9D%91%EB%B3%B4_case5_AE_IF_LOF.ipynb\" target=\"_parent\"><img src=\"https://colab.research.google.com/assets/colab-badge.svg\" alt=\"Open In Colab\"/></a>"
      ]
    },
    {
      "cell_type": "code",
      "execution_count": 158,
      "metadata": {
        "colab": {
          "base_uri": "https://localhost:8080/"
        },
        "id": "E0hBW3FUVU-I",
        "outputId": "a875d015-161e-4c81-ea7a-f7e6f04a24bc"
      },
      "outputs": [
        {
          "output_type": "stream",
          "name": "stdout",
          "text": [
            "Drive already mounted at /content/drive; to attempt to forcibly remount, call drive.mount(\"/content/drive\", force_remount=True).\n"
          ]
        }
      ],
      "source": [
        "import matplotlib.pyplot as plt\n",
        "import numpy as np\n",
        "import pandas as pd\n",
        "from sklearn.model_selection import train_test_split\n",
        "from google.colab import drive\n",
        "from sklearn.preprocessing import StandardScaler\n",
        "from sklearn.ensemble import IsolationForest\n",
        "from sklearn.neighbors import LocalOutlierFactor\n",
        "from tensorflow.keras.models import Model, Sequential\n",
        "from tensorflow.keras.layers import Input, Dense\n",
        "drive.mount('/content/drive')\n",
        "\n",
        "\n"
      ]
    },
    {
      "cell_type": "code",
      "source": [
        "\n",
        "data = pd.read_csv('./drive/MyDrive/Colab Notebooks/team_prj/data/type5.csv')#.to_numpy()\n",
        "\n",
        "\n",
        "X = data[data['type'] == 'Normal']\n",
        "y = X['type']\n",
        "y = y.map({'Normal': 0, 'Attack': 1}).to_numpy()\n",
        "X = X.drop(columns =['type'])\n",
        "X['messageID'] = X['messageID'].astype('category')\n",
        "X = X.drop(columns =['isCan0','isService','serviceNODEID'])\n",
        "X = X.drop(columns = ['time','data[0]','data[7]'])\n",
        "print(X.shape)\n"
      ],
      "metadata": {
        "colab": {
          "base_uri": "https://localhost:8080/"
        },
        "id": "7N7O9VhsVaVK",
        "outputId": "832a56db-033d-4c10-b99e-23877ea624d8"
      },
      "execution_count": 210,
      "outputs": [
        {
          "output_type": "stream",
          "name": "stdout",
          "text": [
            "(129996, 11)\n"
          ]
        }
      ]
    },
    {
      "cell_type": "code",
      "source": [
        "scaler = StandardScaler()\n",
        "X_scaled = scaler.fit_transform(X)\n",
        "input_dim = X_scaled.shape[1]\n",
        "encoding_dim = 32\n",
        "\n",
        "input_layer = Input(shape=(input_dim,))\n",
        "encoder = Dense(encoding_dim, activation=\"relu\")(input_layer)\n",
        "decoder = Dense(input_dim, activation=\"sigmoid\")(encoder)\n",
        "\n",
        "autoencoder = Model(inputs=input_layer, outputs=decoder)\n",
        "autoencoder.compile(optimizer='adam', loss='mse')\n",
        "\n",
        "# Autoencoder 학습\n",
        "autoencoder.fit(X_scaled, X_scaled, epochs=30, batch_size=32, shuffle=True, validation_split=0.2)"
      ],
      "metadata": {
        "colab": {
          "base_uri": "https://localhost:8080/"
        },
        "id": "ss4LnCaJymY8",
        "outputId": "02a8f046-ddef-4082-8872-b1daa9133923"
      },
      "execution_count": 225,
      "outputs": [
        {
          "output_type": "stream",
          "name": "stdout",
          "text": [
            "Epoch 1/30\n",
            "3250/3250 [==============================] - 9s 3ms/step - loss: 0.6162 - val_loss: 0.5670\n",
            "Epoch 2/30\n",
            "3250/3250 [==============================] - 8s 2ms/step - loss: 0.5772 - val_loss: 0.5649\n",
            "Epoch 3/30\n",
            "3250/3250 [==============================] - 8s 2ms/step - loss: 0.5761 - val_loss: 0.5644\n",
            "Epoch 4/30\n",
            "3250/3250 [==============================] - 8s 2ms/step - loss: 0.5760 - val_loss: 0.5640\n",
            "Epoch 5/30\n",
            "3250/3250 [==============================] - 8s 2ms/step - loss: 0.5759 - val_loss: 0.5637\n",
            "Epoch 6/30\n",
            "3250/3250 [==============================] - 8s 2ms/step - loss: 0.5759 - val_loss: 0.5636\n",
            "Epoch 7/30\n",
            "3250/3250 [==============================] - 8s 2ms/step - loss: 0.5758 - val_loss: 0.5636\n",
            "Epoch 8/30\n",
            "3250/3250 [==============================] - 8s 2ms/step - loss: 0.5758 - val_loss: 0.5635\n",
            "Epoch 9/30\n",
            "3250/3250 [==============================] - 8s 2ms/step - loss: 0.5758 - val_loss: 0.5635\n",
            "Epoch 10/30\n",
            "3250/3250 [==============================] - 8s 2ms/step - loss: 0.5758 - val_loss: 0.5635\n",
            "Epoch 11/30\n",
            "3250/3250 [==============================] - 8s 2ms/step - loss: 0.5758 - val_loss: 0.5635\n",
            "Epoch 12/30\n",
            "3250/3250 [==============================] - 8s 2ms/step - loss: 0.5758 - val_loss: 0.5635\n",
            "Epoch 13/30\n",
            "3250/3250 [==============================] - 8s 2ms/step - loss: 0.5758 - val_loss: 0.5634\n",
            "Epoch 14/30\n",
            "3250/3250 [==============================] - 8s 2ms/step - loss: 0.5758 - val_loss: 0.5634\n",
            "Epoch 15/30\n",
            "3250/3250 [==============================] - 8s 2ms/step - loss: 0.5758 - val_loss: 0.5634\n",
            "Epoch 16/30\n",
            "3250/3250 [==============================] - 8s 2ms/step - loss: 0.5758 - val_loss: 0.5635\n",
            "Epoch 17/30\n",
            "3250/3250 [==============================] - 8s 2ms/step - loss: 0.5758 - val_loss: 0.5635\n",
            "Epoch 18/30\n",
            "3250/3250 [==============================] - 8s 2ms/step - loss: 0.5758 - val_loss: 0.5635\n",
            "Epoch 19/30\n",
            "3250/3250 [==============================] - 8s 2ms/step - loss: 0.5758 - val_loss: 0.5635\n",
            "Epoch 20/30\n",
            "3250/3250 [==============================] - 8s 2ms/step - loss: 0.5758 - val_loss: 0.5635\n",
            "Epoch 21/30\n",
            "3250/3250 [==============================] - 8s 2ms/step - loss: 0.5758 - val_loss: 0.5635\n",
            "Epoch 22/30\n",
            "3250/3250 [==============================] - 8s 2ms/step - loss: 0.5757 - val_loss: 0.5635\n",
            "Epoch 23/30\n",
            "3250/3250 [==============================] - 8s 2ms/step - loss: 0.5757 - val_loss: 0.5635\n",
            "Epoch 24/30\n",
            "3250/3250 [==============================] - 8s 2ms/step - loss: 0.5757 - val_loss: 0.5635\n",
            "Epoch 25/30\n",
            "3250/3250 [==============================] - 8s 2ms/step - loss: 0.5757 - val_loss: 0.5635\n",
            "Epoch 26/30\n",
            "3250/3250 [==============================] - 8s 2ms/step - loss: 0.5757 - val_loss: 0.5635\n",
            "Epoch 27/30\n",
            "3250/3250 [==============================] - 8s 2ms/step - loss: 0.5757 - val_loss: 0.5635\n",
            "Epoch 28/30\n",
            "3250/3250 [==============================] - 8s 2ms/step - loss: 0.5757 - val_loss: 0.5636\n",
            "Epoch 29/30\n",
            "3250/3250 [==============================] - 8s 2ms/step - loss: 0.5757 - val_loss: 0.5636\n",
            "Epoch 30/30\n",
            "3250/3250 [==============================] - 8s 2ms/step - loss: 0.5757 - val_loss: 0.5636\n"
          ]
        },
        {
          "output_type": "execute_result",
          "data": {
            "text/plain": [
              "<keras.src.callbacks.History at 0x7b3eb42aaec0>"
            ]
          },
          "metadata": {},
          "execution_count": 225
        }
      ]
    },
    {
      "cell_type": "code",
      "source": [
        "# 데이터를 인코딩\n",
        "X_encoded = autoencoder.predict(X_scaled)\n",
        "print(X_encoded.shape)"
      ],
      "metadata": {
        "colab": {
          "base_uri": "https://localhost:8080/"
        },
        "id": "I0gB7M-hyzAL",
        "outputId": "83a0c36a-8c40-48a6-dd9d-e0b66c1a60f8"
      },
      "execution_count": 226,
      "outputs": [
        {
          "output_type": "stream",
          "name": "stdout",
          "text": [
            "4063/4063 [==============================] - 5s 1ms/step\n",
            "(129996, 11)\n"
          ]
        }
      ]
    },
    {
      "cell_type": "code",
      "source": [
        "#data.loc[data['type']=='Normal', 'type'] = 0\n",
        "#data.loc[data['type']=='Attack', 'type'] = 1\n",
        "\n",
        "fullDataX1 = pd.read_csv('./drive/MyDrive/Colab Notebooks/team_prj/data/type5.csv')#.to_numpy()\n",
        "\n",
        "#X['messageID'] = data['messageID']\n",
        "fX1 = fullDataX1.drop(columns =['type'])\n",
        "fX1['messageID'] = fX1['messageID'].astype('category')\n",
        "fX1 = fX1.drop(columns =['isCan0','isService','serviceNODEID'])\n",
        "fX1 = fX1.drop(columns = ['time','data[0]','data[7]'])\n",
        "print(fX1.shape)\n",
        "\n",
        "#fX1_encoded = encoder_model.predict(fX1_scaled)\n",
        "#print(fX1_encoded.shape)"
      ],
      "metadata": {
        "colab": {
          "base_uri": "https://localhost:8080/"
        },
        "id": "bH9_v5oz7HZJ",
        "outputId": "e6a387e1-8db7-491d-ce07-19857ab28e9d"
      },
      "execution_count": 227,
      "outputs": [
        {
          "output_type": "stream",
          "name": "stdout",
          "text": [
            "(180608, 11)\n"
          ]
        }
      ]
    },
    {
      "cell_type": "code",
      "source": [
        "fX1_scaled = scaler.fit_transform(fX1)\n",
        "fX1_encoded = autoencoder.predict(fX1_scaled)"
      ],
      "metadata": {
        "id": "i5ary7LCFMsl",
        "colab": {
          "base_uri": "https://localhost:8080/"
        },
        "outputId": "77200dc7-9948-40a7-9cf0-bb03c2e8a338"
      },
      "execution_count": 228,
      "outputs": [
        {
          "output_type": "stream",
          "name": "stdout",
          "text": [
            "5644/5644 [==============================] - 7s 1ms/step\n"
          ]
        }
      ]
    },
    {
      "cell_type": "code",
      "source": [
        "if_model = IsolationForest(contamination=0.15)  # contamination 값 조정 가능\n",
        "if_model.fit(X_encoded)\n",
        "\n",
        "# 이상치 예측\n",
        "if_predictions = if_model.predict(fX1_encoded)\n",
        "fy = fullDataX1['type']\n",
        "fy = fy.map({'Normal': 1, 'Attack': 0}).to_numpy()\n",
        "if_predictions = np.where(if_predictions == -1, 0, if_predictions)\n",
        "print(np.unique(if_predictions, return_counts=True))\n",
        "conf_matrix = confusion_matrix(fy, if_predictions)\n",
        "class_report = classification_report(fy, if_predictions)\n",
        "print(\"Confusion Matrix:\")\n",
        "print(conf_matrix)\n",
        "print(\"\\nClassification Report:\")\n",
        "print(class_report)"
      ],
      "metadata": {
        "colab": {
          "base_uri": "https://localhost:8080/"
        },
        "id": "jnwvZIu-s0Jb",
        "outputId": "b36ad99e-ba85-4f50-8dfb-e18ef21c3a65"
      },
      "execution_count": 229,
      "outputs": [
        {
          "output_type": "stream",
          "name": "stdout",
          "text": [
            "(array([0, 1]), array([103271,  77337]))\n",
            "Confusion Matrix:\n",
            "[[45587  5025]\n",
            " [57684 72312]]\n",
            "\n",
            "Classification Report:\n",
            "              precision    recall  f1-score   support\n",
            "\n",
            "           0       0.44      0.90      0.59     50612\n",
            "           1       0.94      0.56      0.70    129996\n",
            "\n",
            "    accuracy                           0.65    180608\n",
            "   macro avg       0.69      0.73      0.65    180608\n",
            "weighted avg       0.80      0.65      0.67    180608\n",
            "\n"
          ]
        }
      ]
    },
    {
      "cell_type": "code",
      "source": [
        "from sklearn.model_selection import GridSearchCV\n",
        "if_model = IsolationForest(contamination=0.2)  # contamination 값 조정 가능\n",
        "\n",
        "param_grid = {\n",
        "    'n_estimators': [50, 100, 200],\n",
        "    'max_samples': ['auto', 0.5, 0.75],\n",
        "    'contamination': [0.05, 0.1, 0.2],\n",
        "    'max_features': [1.0, 0.5, 0.75],\n",
        "    'bootstrap': [False, True]\n",
        "}\n",
        "\n",
        "# GridSearchCV 사용\n",
        "grid_search = GridSearchCV(estimator=if_model, param_grid=param_grid, scoring='accuracy', cv=5, n_jobs=-1)\n",
        "grid_search.fit(X_scaled, y)\n",
        "\n",
        "# 최적의 하이퍼파라미터 출력\n",
        "print(\"Best parameters found: \", grid_search.best_params_)\n",
        "\n",
        "# 이상치 예측\n"
      ],
      "metadata": {
        "id": "PStPsj2D6AFg",
        "colab": {
          "base_uri": "https://localhost:8080/"
        },
        "outputId": "72d5330e-a8ba-43b0-a800-da814c895db3"
      },
      "execution_count": 40,
      "outputs": [
        {
          "output_type": "stream",
          "name": "stderr",
          "text": [
            "/usr/local/lib/python3.10/dist-packages/joblib/externals/loky/backend/fork_exec.py:38: RuntimeWarning: os.fork() was called. os.fork() is incompatible with multithreaded code, and JAX is multithreaded, so this will likely lead to a deadlock.\n",
            "  pid = os.fork()\n"
          ]
        },
        {
          "output_type": "stream",
          "name": "stdout",
          "text": [
            "Best parameters found:  {'bootstrap': False, 'contamination': 0.05, 'max_features': 1.0, 'max_samples': 'auto', 'n_estimators': 50}\n"
          ]
        }
      ]
    },
    {
      "cell_type": "code",
      "source": [
        "best_params = grid_search.best_params_\n",
        "best_if_model = IsolationForest(**best_params,)\n",
        "best_if_model.fit(X_scaled)\n",
        "\n",
        "import joblib\n",
        "joblib.dump(best_if_model, './best_if_model.pkl')\n",
        "\n",
        "# 모델 로드 및 novelty=True로 설정\n",
        "if_model = best_if_model# joblib.load('./best_if_model.pkl')\n",
        "#if_model.set_params(novelty=True)\n",
        "\n",
        "\n",
        "if_predictions = if_model.predict(fX1_encoded)"
      ],
      "metadata": {
        "id": "YSk48wEqXBwa"
      },
      "execution_count": 41,
      "outputs": []
    },
    {
      "cell_type": "code",
      "source": [
        "from sklearn.metrics import confusion_matrix, classification_report\n",
        "fy1 = fullDataX1['type']\n",
        "fy1 = fy1.map({'Normal': 0, 'Attack': 1}).to_numpy()\n",
        "if_predictions = np.where(if_predictions == -1, 0, if_predictions)\n",
        "print(np.unique(if_predictions, return_counts=True))\n",
        "conf_matrix = confusion_matrix(fy1, if_predictions)\n",
        "class_report = classification_report(fy1, if_predictions)\n",
        "\n",
        "print(\"Confusion Matrix:\")\n",
        "print(conf_matrix)\n",
        "print(\"\\nClassification Report:\")\n",
        "print(class_report)\n",
        "print(np.unique(if_predictions, return_counts=True))"
      ],
      "metadata": {
        "id": "FZrvkIQPKOTR",
        "colab": {
          "base_uri": "https://localhost:8080/"
        },
        "outputId": "ff3f639e-8adb-4a03-9b8e-ab604eff3842"
      },
      "execution_count": 42,
      "outputs": [
        {
          "output_type": "stream",
          "name": "stdout",
          "text": [
            "(array([0, 1]), array([    64, 180544]))\n",
            "Confusion Matrix:\n",
            "[[    64 129932]\n",
            " [     0  50612]]\n",
            "\n",
            "Classification Report:\n",
            "              precision    recall  f1-score   support\n",
            "\n",
            "           0       1.00      0.00      0.00    129996\n",
            "           1       0.28      1.00      0.44     50612\n",
            "\n",
            "    accuracy                           0.28    180608\n",
            "   macro avg       0.64      0.50      0.22    180608\n",
            "weighted avg       0.80      0.28      0.12    180608\n",
            "\n",
            "(array([0, 1]), array([    64, 180544]))\n"
          ]
        }
      ]
    },
    {
      "cell_type": "code",
      "source": [
        "# 모델 저장\n",
        "#import pickle\n",
        "#with open('/content/drive/MyDrive/Colab Notebooks/team_prj/case3_if_model.pkl', 'wb') as file:\n",
        "#    pickle.dump(if_model, file)"
      ],
      "metadata": {
        "id": "XnnXK0cQn303"
      },
      "execution_count": 43,
      "outputs": []
    },
    {
      "cell_type": "code",
      "source": [
        "import pickle\n",
        "import numpy as np\n",
        "import pandas as pd\n",
        "from sklearn.metrics import confusion_matrix, classification_report\n",
        "import pickle\n",
        "with open('/content/drive/MyDrive/Colab Notebooks/team_prj/case3_if_model.pkl', 'rb') as file:\n",
        "    loaded_if_model = pickle.load(file)\n",
        "\n",
        "# 불러온 모델로 예측\n",
        "fy1 = fullDataX1['type']\n",
        "fy1 = fy1.map({'Normal': 0, 'Attack': 1}).to_numpy()\n",
        "loaded_if_predictions = loaded_if_model.predict(fX1_encoded)\n",
        "loaded_if_predictions = np.where(loaded_if_predictions == -1, 1, loaded_if_predictions)\n",
        "print(np.unique(loaded_if_predictions, return_counts=True))\n",
        "conf_matrix = confusion_matrix(fy1, loaded_if_predictions)\n",
        "class_report = classification_report(fy1, loaded_if_predictions)\n",
        "\n",
        "print(\"Confusion Matrix:\")\n",
        "print(conf_matrix)\n",
        "print(\"\\nClassification Report:\")\n",
        "print(class_report)"
      ],
      "metadata": {
        "id": "804XoJRon-q7",
        "colab": {
          "base_uri": "https://localhost:8080/"
        },
        "outputId": "d961143e-188a-4152-c959-74c7d696d4d6"
      },
      "execution_count": 44,
      "outputs": [
        {
          "output_type": "stream",
          "name": "stdout",
          "text": [
            "(array([1]), array([180608]))\n",
            "Confusion Matrix:\n",
            "[[     0 129996]\n",
            " [     0  50612]]\n",
            "\n",
            "Classification Report:\n",
            "              precision    recall  f1-score   support\n",
            "\n",
            "           0       0.00      0.00      0.00    129996\n",
            "           1       0.28      1.00      0.44     50612\n",
            "\n",
            "    accuracy                           0.28    180608\n",
            "   macro avg       0.14      0.50      0.22    180608\n",
            "weighted avg       0.08      0.28      0.12    180608\n",
            "\n"
          ]
        },
        {
          "output_type": "stream",
          "name": "stderr",
          "text": [
            "/usr/local/lib/python3.10/dist-packages/sklearn/metrics/_classification.py:1344: UndefinedMetricWarning: Precision and F-score are ill-defined and being set to 0.0 in labels with no predicted samples. Use `zero_division` parameter to control this behavior.\n",
            "  _warn_prf(average, modifier, msg_start, len(result))\n",
            "/usr/local/lib/python3.10/dist-packages/sklearn/metrics/_classification.py:1344: UndefinedMetricWarning: Precision and F-score are ill-defined and being set to 0.0 in labels with no predicted samples. Use `zero_division` parameter to control this behavior.\n",
            "  _warn_prf(average, modifier, msg_start, len(result))\n",
            "/usr/local/lib/python3.10/dist-packages/sklearn/metrics/_classification.py:1344: UndefinedMetricWarning: Precision and F-score are ill-defined and being set to 0.0 in labels with no predicted samples. Use `zero_division` parameter to control this behavior.\n",
            "  _warn_prf(average, modifier, msg_start, len(result))\n"
          ]
        }
      ]
    },
    {
      "cell_type": "code",
      "source": [
        "# Local Outlier Factor 모델 정의 및 학습\n",
        "lof_model = LocalOutlierFactor(n_neighbors=30, contamination=0.1, novelty=True)  # n_neighbors 및 contamination 값 조정 가능\n",
        "lof_model.fit(X_encoded)\n",
        "lof_predictions = lof_model.predict(fX1_encoded)\n",
        "# 이상치라면 -1, 정상치라면 1로 표시됨\n"
      ],
      "metadata": {
        "id": "pj7CtxYC6DKQ"
      },
      "execution_count": 45,
      "outputs": []
    },
    {
      "cell_type": "code",
      "source": [
        "# 모델 저장\n",
        "import pickle\n",
        "with open('/content/drive/MyDrive/Colab Notebooks/team_prj/case5_lof_model.pkl', 'wb') as file:\n",
        "    pickle.dump(lof_model, file)"
      ],
      "metadata": {
        "id": "Z33EKFsVmtX8"
      },
      "execution_count": 46,
      "outputs": []
    },
    {
      "cell_type": "code",
      "source": [
        "with open('/content/drive/MyDrive/Colab Notebooks/team_prj/case5_lof_model.pkl', 'rb') as file:\n",
        "    loaded_lof_model = pickle.load(file)\n",
        "\n",
        "# 불러온 모델로 예측\n",
        "loaded_lof_predictions = loaded_lof_model.predict(fX1_encoded)\n",
        "print(np.unique(loaded_lof_predictions, return_counts=True))"
      ],
      "metadata": {
        "id": "AqswqoI5m3F0",
        "colab": {
          "base_uri": "https://localhost:8080/"
        },
        "outputId": "9319f39d-a159-4527-d533-5a49624417dd"
      },
      "execution_count": 47,
      "outputs": [
        {
          "output_type": "stream",
          "name": "stdout",
          "text": [
            "(array([-1,  1]), array([143599,  37009]))\n"
          ]
        }
      ]
    },
    {
      "cell_type": "markdown",
      "source": [],
      "metadata": {
        "id": "R-txhzzTDetD"
      }
    },
    {
      "cell_type": "code",
      "source": [
        "print(np.unique(lof_predictions, return_counts=True))"
      ],
      "metadata": {
        "id": "_VtYcHGmEGiY",
        "colab": {
          "base_uri": "https://localhost:8080/"
        },
        "outputId": "95bad20f-4441-4c9d-bf1d-9481970f8e7a"
      },
      "execution_count": 48,
      "outputs": [
        {
          "output_type": "stream",
          "name": "stdout",
          "text": [
            "(array([-1,  1]), array([143599,  37009]))\n"
          ]
        }
      ]
    },
    {
      "cell_type": "code",
      "source": [],
      "metadata": {
        "id": "uhQh-I7q6GXX"
      },
      "execution_count": 48,
      "outputs": []
    },
    {
      "cell_type": "code",
      "source": [],
      "metadata": {
        "id": "V0FE0JPyVgL6"
      },
      "execution_count": 48,
      "outputs": []
    },
    {
      "cell_type": "code",
      "source": [],
      "metadata": {
        "id": "CoqaIodOVoVh"
      },
      "execution_count": 48,
      "outputs": []
    }
  ]
}