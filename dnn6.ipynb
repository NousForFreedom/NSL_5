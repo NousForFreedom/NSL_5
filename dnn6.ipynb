{
  "nbformat": 4,
  "nbformat_minor": 0,
  "metadata": {
    "colab": {
      "provenance": [],
      "gpuType": "L4",
      "authorship_tag": "ABX9TyPlln54BPjRGIwghKcaXYWx",
      "include_colab_link": true
    },
    "kernelspec": {
      "name": "python3",
      "display_name": "Python 3"
    },
    "language_info": {
      "name": "python"
    },
    "accelerator": "GPU"
  },
  "cells": [
    {
      "cell_type": "markdown",
      "metadata": {
        "id": "view-in-github",
        "colab_type": "text"
      },
      "source": [
        "<a href=\"https://colab.research.google.com/github/ajou-y0uC4N/y0uC4N/blob/main/dnn6.ipynb\" target=\"_parent\"><img src=\"https://colab.research.google.com/assets/colab-badge.svg\" alt=\"Open In Colab\"/></a>"
      ]
    },
    {
      "cell_type": "code",
      "execution_count": 23,
      "metadata": {
        "colab": {
          "base_uri": "https://localhost:8080/"
        },
        "id": "Cd-cKHP2hqag",
        "outputId": "b0f8c376-ac6d-413f-be9b-b9c14bd02d50"
      },
      "outputs": [
        {
          "output_type": "stream",
          "name": "stdout",
          "text": [
            "Drive already mounted at /content/drive; to attempt to forcibly remount, call drive.mount(\"/content/drive\", force_remount=True).\n",
            "     type      time  isCan0  priority  messageID  isService  serviceNODEID  \\\n",
            "0  Normal  0.000000       1         5       1030          0              1   \n",
            "1  Normal  0.000180       1         5       1030          0              1   \n",
            "2  Normal  0.002787       1         5       1030          0              1   \n",
            "3  Normal  0.002945       1         5       1030          0              1   \n",
            "4  Normal  0.007147       1         5       1030          0              1   \n",
            "\n",
            "   byteSize  data[0]  data[1]  data[2]  data[3]  data[4]  data[5]  data[6]  \\\n",
            "0         8      166       53        0        0        0        0        0   \n",
            "1         7        0        0        0        0        0        0      124   \n",
            "2         8      166       53        0        0        0        0        0   \n",
            "3         7        0        0        0        0        0        0      125   \n",
            "4         8      166       53        0        0        0        0        0   \n",
            "\n",
            "   data[7]  7byteNullCnt  8byteNullCnt  \n",
            "0      156             0             5  \n",
            "1       -1             6             0  \n",
            "2      157             0             5  \n",
            "3       -1             6             0  \n",
            "4      158             0             5  \n"
          ]
        }
      ],
      "source": [
        "import pandas as pd\n",
        "import numpy as np\n",
        "import requests\n",
        "from sklearn.model_selection import train_test_split\n",
        "from sklearn.preprocessing import StandardScaler\n",
        "from tensorflow.keras.models import Sequential\n",
        "from tensorflow.keras.layers import Dense\n",
        "from tensorflow.keras.optimizers import Adam\n",
        "from tensorflow.keras.losses import BinaryCrossentropy\n",
        "from tensorflow.keras.metrics import BinaryAccuracy\n",
        "from tensorflow.keras.callbacks import EarlyStopping\n",
        "from google.colab import drive\n",
        "drive.mount('/content/drive')\n",
        "\n",
        "\n",
        "df = pd.read_csv(\"/content/drive/MyDrive/Colab Notebooks/team_prj/data/type6.csv\")\n",
        "\n",
        "#df = pd.get_dummies(df)\n",
        "print(df.head())\n",
        "df['type'] = df['type'].map({'Attack': 0, 'Normal': 1})"
      ]
    },
    {
      "cell_type": "code",
      "source": [
        "y = df[\"type\"].astype(\"category\")\n",
        "X = df.drop(columns=[\"type\",\"time\",\"isCan0\",\"serviceNODEID\"])#.iloc[:, :-1].values\n",
        "print(X.dtypes)\n",
        "print(y.unique())\n",
        "print(y.dtypes)\n",
        "print(f\"X shape: {X.shape}\")\n",
        "print(f\"y shape: {y.shape}\")\n",
        "\n",
        "scaler = StandardScaler()\n",
        "X_scaled = scaler.fit_transform(X)\n",
        "\n",
        "X_train, X_test, y_train, y_test = train_test_split(X_scaled, y, test_size=0.2, random_state=42)\n",
        "\n",
        "model = Sequential()\n",
        "model.add(Dense(64, input_dim=X_train.shape[1], activation='relu'))\n",
        "model.add(Dense(32, activation='relu'))\n",
        "model.add(Dense(16, activation='relu'))\n",
        "model.add(Dense(1, activation='sigmoid'))\n",
        "\n",
        "# 모델 컴파일\n",
        "model.compile(optimizer=Adam(learning_rate=0.001),\n",
        "              loss=BinaryCrossentropy(),\n",
        "              metrics=[BinaryAccuracy()])\n",
        "\n",
        "# 모델 학습\n",
        "early_stopping = EarlyStopping(monitor='val_loss', patience=10, restore_best_weights=True)"
      ],
      "metadata": {
        "colab": {
          "base_uri": "https://localhost:8080/"
        },
        "id": "ue9Q144Uh22L",
        "outputId": "82d0c38b-725b-4329-d81c-0b780881b0c6"
      },
      "execution_count": 24,
      "outputs": [
        {
          "output_type": "stream",
          "name": "stdout",
          "text": [
            "priority        int64\n",
            "messageID       int64\n",
            "isService       int64\n",
            "byteSize        int64\n",
            "data[0]         int64\n",
            "data[1]         int64\n",
            "data[2]         int64\n",
            "data[3]         int64\n",
            "data[4]         int64\n",
            "data[5]         int64\n",
            "data[6]         int64\n",
            "data[7]         int64\n",
            "7byteNullCnt    int64\n",
            "8byteNullCnt    int64\n",
            "dtype: object\n",
            "[1, 0]\n",
            "Categories (2, int64): [0, 1]\n",
            "category\n",
            "X shape: (241321, 14)\n",
            "y shape: (241321,)\n"
          ]
        }
      ]
    },
    {
      "cell_type": "code",
      "source": [
        "print(model.summary())\n",
        "history = model.fit(X_train, y_train,\n",
        "                    epochs=100,\n",
        "                    batch_size=32,\n",
        "                    validation_split=0.2,\n",
        "                    callbacks=[early_stopping])\n",
        "\n",
        "\n",
        "loss, accuracy = model.evaluate(X_test, y_test)\n",
        "print(f'Test loss: {loss}')\n",
        "print(f'Test accuracy: {accuracy}')\n",
        "\n",
        "model.save('my_dnn_model.h5')\n"
      ],
      "metadata": {
        "colab": {
          "base_uri": "https://localhost:8080/"
        },
        "id": "rYZrOPId8hMj",
        "outputId": "956dca14-9d44-4a6d-80ea-22dc17f2a89b"
      },
      "execution_count": 25,
      "outputs": [
        {
          "output_type": "stream",
          "name": "stdout",
          "text": [
            "Model: \"sequential_12\"\n",
            "_________________________________________________________________\n",
            " Layer (type)                Output Shape              Param #   \n",
            "=================================================================\n",
            " dense_48 (Dense)            (None, 64)                960       \n",
            "                                                                 \n",
            " dense_49 (Dense)            (None, 32)                2080      \n",
            "                                                                 \n",
            " dense_50 (Dense)            (None, 16)                528       \n",
            "                                                                 \n",
            " dense_51 (Dense)            (None, 1)                 17        \n",
            "                                                                 \n",
            "=================================================================\n",
            "Total params: 3585 (14.00 KB)\n",
            "Trainable params: 3585 (14.00 KB)\n",
            "Non-trainable params: 0 (0.00 Byte)\n",
            "_________________________________________________________________\n",
            "None\n",
            "Epoch 1/100\n",
            "4827/4827 [==============================] - 19s 3ms/step - loss: 0.1744 - binary_accuracy: 0.9332 - val_loss: 0.1646 - val_binary_accuracy: 0.9374\n",
            "Epoch 2/100\n",
            "4827/4827 [==============================] - 16s 3ms/step - loss: 0.1557 - binary_accuracy: 0.9400 - val_loss: 0.1504 - val_binary_accuracy: 0.9427\n",
            "Epoch 3/100\n",
            "4827/4827 [==============================] - 16s 3ms/step - loss: 0.1459 - binary_accuracy: 0.9418 - val_loss: 0.1406 - val_binary_accuracy: 0.9429\n",
            "Epoch 4/100\n",
            "4827/4827 [==============================] - 16s 3ms/step - loss: 0.1392 - binary_accuracy: 0.9441 - val_loss: 0.1406 - val_binary_accuracy: 0.9520\n",
            "Epoch 5/100\n",
            "4827/4827 [==============================] - 16s 3ms/step - loss: 0.1311 - binary_accuracy: 0.9484 - val_loss: 0.1234 - val_binary_accuracy: 0.9500\n",
            "Epoch 6/100\n",
            "4827/4827 [==============================] - 16s 3ms/step - loss: 0.1226 - binary_accuracy: 0.9519 - val_loss: 0.1173 - val_binary_accuracy: 0.9545\n",
            "Epoch 7/100\n",
            "4827/4827 [==============================] - 16s 3ms/step - loss: 0.1119 - binary_accuracy: 0.9558 - val_loss: 0.1035 - val_binary_accuracy: 0.9619\n",
            "Epoch 8/100\n",
            "4827/4827 [==============================] - 16s 3ms/step - loss: 0.0937 - binary_accuracy: 0.9649 - val_loss: 0.1077 - val_binary_accuracy: 0.9483\n",
            "Epoch 9/100\n",
            "4827/4827 [==============================] - 16s 3ms/step - loss: 0.0814 - binary_accuracy: 0.9713 - val_loss: 0.0707 - val_binary_accuracy: 0.9752\n",
            "Epoch 10/100\n",
            "4827/4827 [==============================] - 16s 3ms/step - loss: 0.0730 - binary_accuracy: 0.9736 - val_loss: 0.0735 - val_binary_accuracy: 0.9744\n",
            "Epoch 11/100\n",
            "4827/4827 [==============================] - 16s 3ms/step - loss: 0.0594 - binary_accuracy: 0.9791 - val_loss: 0.0534 - val_binary_accuracy: 0.9798\n",
            "Epoch 12/100\n",
            "4827/4827 [==============================] - 16s 3ms/step - loss: 0.0515 - binary_accuracy: 0.9826 - val_loss: 0.0501 - val_binary_accuracy: 0.9853\n",
            "Epoch 13/100\n",
            "4827/4827 [==============================] - 16s 3ms/step - loss: 0.0473 - binary_accuracy: 0.9844 - val_loss: 0.0360 - val_binary_accuracy: 0.9881\n",
            "Epoch 14/100\n",
            "4827/4827 [==============================] - 16s 3ms/step - loss: 0.0444 - binary_accuracy: 0.9847 - val_loss: 0.0453 - val_binary_accuracy: 0.9848\n",
            "Epoch 15/100\n",
            "4827/4827 [==============================] - 16s 3ms/step - loss: 0.0435 - binary_accuracy: 0.9852 - val_loss: 0.0384 - val_binary_accuracy: 0.9893\n",
            "Epoch 16/100\n",
            "4827/4827 [==============================] - 16s 3ms/step - loss: 0.0427 - binary_accuracy: 0.9856 - val_loss: 0.0351 - val_binary_accuracy: 0.9881\n",
            "Epoch 17/100\n",
            "4827/4827 [==============================] - 16s 3ms/step - loss: 0.0409 - binary_accuracy: 0.9858 - val_loss: 0.0392 - val_binary_accuracy: 0.9879\n",
            "Epoch 18/100\n",
            "4827/4827 [==============================] - 16s 3ms/step - loss: 0.0391 - binary_accuracy: 0.9867 - val_loss: 0.0316 - val_binary_accuracy: 0.9898\n",
            "Epoch 19/100\n",
            "4827/4827 [==============================] - 16s 3ms/step - loss: 0.0395 - binary_accuracy: 0.9866 - val_loss: 0.0323 - val_binary_accuracy: 0.9889\n",
            "Epoch 20/100\n",
            "4827/4827 [==============================] - 16s 3ms/step - loss: 0.0388 - binary_accuracy: 0.9865 - val_loss: 0.0434 - val_binary_accuracy: 0.9853\n",
            "Epoch 21/100\n",
            "4827/4827 [==============================] - 16s 3ms/step - loss: 0.0402 - binary_accuracy: 0.9862 - val_loss: 0.0400 - val_binary_accuracy: 0.9874\n",
            "Epoch 22/100\n",
            "4827/4827 [==============================] - 16s 3ms/step - loss: 0.0394 - binary_accuracy: 0.9863 - val_loss: 0.0297 - val_binary_accuracy: 0.9898\n",
            "Epoch 23/100\n",
            "4827/4827 [==============================] - 16s 3ms/step - loss: 0.0438 - binary_accuracy: 0.9845 - val_loss: 0.0549 - val_binary_accuracy: 0.9787\n",
            "Epoch 24/100\n",
            "4827/4827 [==============================] - 16s 3ms/step - loss: 0.0549 - binary_accuracy: 0.9798 - val_loss: 0.0382 - val_binary_accuracy: 0.9877\n",
            "Epoch 25/100\n",
            "4827/4827 [==============================] - 16s 3ms/step - loss: 0.0385 - binary_accuracy: 0.9867 - val_loss: 0.0281 - val_binary_accuracy: 0.9909\n",
            "Epoch 26/100\n",
            "4827/4827 [==============================] - 16s 3ms/step - loss: 0.0351 - binary_accuracy: 0.9879 - val_loss: 0.0336 - val_binary_accuracy: 0.9890\n",
            "Epoch 27/100\n",
            "4827/4827 [==============================] - 16s 3ms/step - loss: 0.0353 - binary_accuracy: 0.9877 - val_loss: 0.0312 - val_binary_accuracy: 0.9921\n",
            "Epoch 28/100\n",
            "4827/4827 [==============================] - 16s 3ms/step - loss: 0.0360 - binary_accuracy: 0.9876 - val_loss: 0.0326 - val_binary_accuracy: 0.9894\n",
            "Epoch 29/100\n",
            "4827/4827 [==============================] - 16s 3ms/step - loss: 0.0339 - binary_accuracy: 0.9880 - val_loss: 0.0633 - val_binary_accuracy: 0.9813\n",
            "Epoch 30/100\n",
            "4827/4827 [==============================] - 16s 3ms/step - loss: 0.0340 - binary_accuracy: 0.9882 - val_loss: 0.0318 - val_binary_accuracy: 0.9903\n",
            "Epoch 31/100\n",
            "4827/4827 [==============================] - 16s 3ms/step - loss: 0.0332 - binary_accuracy: 0.9887 - val_loss: 0.0372 - val_binary_accuracy: 0.9879\n",
            "Epoch 32/100\n",
            "4827/4827 [==============================] - 16s 3ms/step - loss: 0.0330 - binary_accuracy: 0.9884 - val_loss: 0.0391 - val_binary_accuracy: 0.9898\n",
            "Epoch 33/100\n",
            "4827/4827 [==============================] - 16s 3ms/step - loss: 0.0322 - binary_accuracy: 0.9887 - val_loss: 0.0293 - val_binary_accuracy: 0.9891\n",
            "Epoch 34/100\n",
            "4827/4827 [==============================] - 16s 3ms/step - loss: 0.0320 - binary_accuracy: 0.9889 - val_loss: 0.0360 - val_binary_accuracy: 0.9890\n",
            "Epoch 35/100\n",
            "4827/4827 [==============================] - 16s 3ms/step - loss: 0.0313 - binary_accuracy: 0.9889 - val_loss: 0.0413 - val_binary_accuracy: 0.9888\n",
            "1509/1509 [==============================] - 3s 2ms/step - loss: 0.0273 - binary_accuracy: 0.9905\n",
            "Test loss: 0.02732003666460514\n",
            "Test accuracy: 0.9904900193214417\n"
          ]
        },
        {
          "output_type": "stream",
          "name": "stderr",
          "text": [
            "/usr/local/lib/python3.10/dist-packages/keras/src/engine/training.py:3103: UserWarning: You are saving your model as an HDF5 file via `model.save()`. This file format is considered legacy. We recommend using instead the native Keras format, e.g. `model.save('my_model.keras')`.\n",
            "  saving_api.save_model(\n"
          ]
        }
      ]
    },
    {
      "cell_type": "code",
      "source": [
        "from sklearn.metrics import confusion_matrix, classification_report\n",
        "y_pred = (model.predict(X_test) > 0.5).astype(np.float32)\n",
        "\n",
        "# 평가 지표 계산\n",
        "report = classification_report(y_test, y_pred, target_names=['Attack', 'Normal'])\n",
        "print(report)\n",
        "conf_matrix = confusion_matrix(y_test, y_pred)\n",
        "print(conf_matrix)"
      ],
      "metadata": {
        "colab": {
          "base_uri": "https://localhost:8080/"
        },
        "id": "MbawrtouCgaV",
        "outputId": "d49c9ac0-9fca-436a-a346-99623adf3f59"
      },
      "execution_count": 30,
      "outputs": [
        {
          "output_type": "stream",
          "name": "stdout",
          "text": [
            "1509/1509 [==============================] - 2s 1ms/step\n",
            "              precision    recall  f1-score   support\n",
            "\n",
            "      Attack       0.99      0.98      0.99     16419\n",
            "      Normal       0.99      0.99      0.99     31846\n",
            "\n",
            "    accuracy                           0.99     48265\n",
            "   macro avg       0.99      0.99      0.99     48265\n",
            "weighted avg       0.99      0.99      0.99     48265\n",
            "\n",
            "[[16169   250]\n",
            " [  209 31637]]\n"
          ]
        }
      ]
    }
  ]
}