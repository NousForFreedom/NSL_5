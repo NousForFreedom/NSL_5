{
  "nbformat": 4,
  "nbformat_minor": 0,
  "metadata": {
    "colab": {
      "provenance": [],
      "authorship_tag": "ABX9TyNin6EJLEoQvH9MP0yv7XVF",
      "include_colab_link": true
    },
    "kernelspec": {
      "name": "python3",
      "display_name": "Python 3"
    },
    "language_info": {
      "name": "python"
    }
  },
  "cells": [
    {
      "cell_type": "markdown",
      "metadata": {
        "id": "view-in-github",
        "colab_type": "text"
      },
      "source": [
        "<a href=\"https://colab.research.google.com/github/ajou-y0uC4N/y0uC4N/blob/main/DNN_case1.ipynb\" target=\"_parent\"><img src=\"https://colab.research.google.com/assets/colab-badge.svg\" alt=\"Open In Colab\"/></a>"
      ]
    },
    {
      "cell_type": "code",
      "source": [
        "import pandas as pd\n",
        "import numpy as np\n",
        "import requests\n",
        "from sklearn.model_selection import train_test_split\n",
        "from sklearn.preprocessing import StandardScaler, LabelEncoder\n",
        "from sklearn.metrics import classification_report\n",
        "from tensorflow.keras.models import Sequential\n",
        "from tensorflow.keras.layers import Dense\n",
        "from google.colab import drive"
      ],
      "metadata": {
        "id": "hGioXkq1hj11"
      },
      "execution_count": 19,
      "outputs": []
    },
    {
      "cell_type": "code",
      "source": [
        "drive.mount('/content/drive')"
      ],
      "metadata": {
        "colab": {
          "base_uri": "https://localhost:8080/"
        },
        "id": "tukxSbpvhj5Z",
        "outputId": "c0ee2d00-e98b-46f7-db68-becbf67daa41"
      },
      "execution_count": 20,
      "outputs": [
        {
          "output_type": "stream",
          "name": "stdout",
          "text": [
            "Drive already mounted at /content/drive; to attempt to forcibly remount, call drive.mount(\"/content/drive\", force_remount=True).\n"
          ]
        }
      ]
    },
    {
      "cell_type": "code",
      "source": [
        "df = pd.read_csv(\"/content/drive/MyDrive/Colab Notebooks/type1.csv\")\n",
        "print(df.head())"
      ],
      "metadata": {
        "colab": {
          "base_uri": "https://localhost:8080/"
        },
        "id": "8CXdynHqhj-X",
        "outputId": "15a7b6ed-fbb4-48ab-905d-0acbf2c099db"
      },
      "execution_count": 21,
      "outputs": [
        {
          "output_type": "stream",
          "name": "stdout",
          "text": [
            "     type      time  isCan0  priority  messageID  isService  serviceNODEID  \\\n",
            "0  Normal  0.000000       1        16        341          0              1   \n",
            "1  Normal  0.192053       1        16      20000          0              1   \n",
            "2  Normal  0.192335       1        31       1081          0              1   \n",
            "3  Normal  0.192504       1        31       1081          0              1   \n",
            "4  Normal  0.192637       1        31       1081          0              1   \n",
            "\n",
            "   byteSize  data[0]  data[1]  data[2]  data[3]  data[4]  data[5]  data[6]  \\\n",
            "0         8        0        0        0        0        8        0        0   \n",
            "1         2        0      192       -1       -1       -1       -1       -1   \n",
            "2         8      186       84        0        0        0      246        0   \n",
            "3         8        0      248        0        0      247      255      223   \n",
            "4         4      254        0        0       64       -1       -1       -1   \n",
            "\n",
            "   data[7]  7byteNullCnt  8byteNullCnt  \n",
            "0      192             0             6  \n",
            "1       -1             0             0  \n",
            "2      128             0             4  \n",
            "3       32             0             3  \n",
            "4       -1             0             0  \n"
          ]
        }
      ]
    },
    {
      "cell_type": "code",
      "source": [
        "label_encoder = LabelEncoder()\n",
        "y_encoded = label_encoder.fit_transform(df[\"type\"])\n",
        "X = df.drop(columns=[\"type\",\"time\"])\n",
        "\n",
        "print(f\"X shape: {X.shape}\")\n",
        "print(f\"y shape: {y_encoded.shape}\")\n",
        "\n",
        "scaler = StandardScaler()\n",
        "X_scaled = scaler.fit_transform(X)"
      ],
      "metadata": {
        "colab": {
          "base_uri": "https://localhost:8080/"
        },
        "id": "msn4C8GphkCh",
        "outputId": "f1b7d32a-75ee-426f-c09f-72d9c796edff"
      },
      "execution_count": 22,
      "outputs": [
        {
          "output_type": "stream",
          "name": "stdout",
          "text": [
            "X shape: (207858, 16)\n",
            "y shape: (207858,)\n"
          ]
        }
      ]
    },
    {
      "cell_type": "code",
      "source": [
        "X_train, X_test, y_train, y_test = train_test_split(X_scaled, y_encoded, test_size=0.2, random_state=42)"
      ],
      "metadata": {
        "id": "NwBUiKlyhkHI"
      },
      "execution_count": 23,
      "outputs": []
    },
    {
      "cell_type": "code",
      "source": [
        "model = Sequential([\n",
        "    Dense(128, activation='relu', input_dim=X_train.shape[1]),\n",
        "    Dense(32, activation='relu'),\n",
        "    Dense(1, activation='sigmoid')\n",
        "])\n",
        "\n",
        "model.compile(optimizer='adam', loss='binary_crossentropy', metrics=['accuracy'])\n",
        "model.summary()"
      ],
      "metadata": {
        "colab": {
          "base_uri": "https://localhost:8080/"
        },
        "id": "D8FdkYd-hkLQ",
        "outputId": "6ec24b18-71f6-4521-860b-56df7ee554b7"
      },
      "execution_count": 24,
      "outputs": [
        {
          "output_type": "stream",
          "name": "stdout",
          "text": [
            "Model: \"sequential_1\"\n",
            "_________________________________________________________________\n",
            " Layer (type)                Output Shape              Param #   \n",
            "=================================================================\n",
            " dense_3 (Dense)             (None, 128)               2176      \n",
            "                                                                 \n",
            " dense_4 (Dense)             (None, 32)                4128      \n",
            "                                                                 \n",
            " dense_5 (Dense)             (None, 1)                 33        \n",
            "                                                                 \n",
            "=================================================================\n",
            "Total params: 6337 (24.75 KB)\n",
            "Trainable params: 6337 (24.75 KB)\n",
            "Non-trainable params: 0 (0.00 Byte)\n",
            "_________________________________________________________________\n"
          ]
        }
      ]
    },
    {
      "cell_type": "code",
      "source": [
        "model.fit(X_train, y_train, epochs=10, batch_size=32, validation_split=0.2)"
      ],
      "metadata": {
        "colab": {
          "base_uri": "https://localhost:8080/"
        },
        "id": "qCiOk2aBhkPR",
        "outputId": "d7ec887c-904e-43a3-eb72-0c2b70d6a273"
      },
      "execution_count": 25,
      "outputs": [
        {
          "output_type": "stream",
          "name": "stdout",
          "text": [
            "Epoch 1/10\n",
            "4158/4158 [==============================] - 30s 6ms/step - loss: 0.0671 - accuracy: 0.9857 - val_loss: 0.0644 - val_accuracy: 0.9867\n",
            "Epoch 2/10\n",
            "4158/4158 [==============================] - 14s 3ms/step - loss: 0.0633 - accuracy: 0.9869 - val_loss: 0.0641 - val_accuracy: 0.9867\n",
            "Epoch 3/10\n",
            "4158/4158 [==============================] - 14s 3ms/step - loss: 0.0632 - accuracy: 0.9869 - val_loss: 0.0632 - val_accuracy: 0.9867\n",
            "Epoch 4/10\n",
            "4158/4158 [==============================] - 13s 3ms/step - loss: 0.0631 - accuracy: 0.9869 - val_loss: 0.0635 - val_accuracy: 0.9867\n",
            "Epoch 5/10\n",
            "4158/4158 [==============================] - 16s 4ms/step - loss: 0.0631 - accuracy: 0.9869 - val_loss: 0.0636 - val_accuracy: 0.9867\n",
            "Epoch 6/10\n",
            "4158/4158 [==============================] - 15s 4ms/step - loss: 0.0629 - accuracy: 0.9869 - val_loss: 0.0644 - val_accuracy: 0.9867\n",
            "Epoch 7/10\n",
            "4158/4158 [==============================] - 14s 3ms/step - loss: 0.0631 - accuracy: 0.9869 - val_loss: 0.0637 - val_accuracy: 0.9867\n",
            "Epoch 8/10\n",
            "4158/4158 [==============================] - 13s 3ms/step - loss: 0.0630 - accuracy: 0.9869 - val_loss: 0.0633 - val_accuracy: 0.9867\n",
            "Epoch 9/10\n",
            "4158/4158 [==============================] - 14s 3ms/step - loss: 0.0629 - accuracy: 0.9869 - val_loss: 0.0637 - val_accuracy: 0.9867\n",
            "Epoch 10/10\n",
            "4158/4158 [==============================] - 13s 3ms/step - loss: 0.0630 - accuracy: 0.9869 - val_loss: 0.0630 - val_accuracy: 0.9867\n"
          ]
        },
        {
          "output_type": "execute_result",
          "data": {
            "text/plain": [
              "<keras.src.callbacks.History at 0x7c4111afad70>"
            ]
          },
          "metadata": {},
          "execution_count": 25
        }
      ]
    },
    {
      "cell_type": "code",
      "source": [
        "loss, accuracy = model.evaluate(X_test, y_test)\n",
        "print(y_test.shape)\n",
        "print(f'Test loss: {loss}')\n",
        "print(f'Test accuracy: {accuracy}')\n",
        "\n",
        "y_pred = (model.predict(X_test) > 0.5).astype(\"int32\")\n",
        "print(classification_report(y_test, y_pred, target_names=label_encoder.classes_,digits=6))"
      ],
      "metadata": {
        "colab": {
          "base_uri": "https://localhost:8080/"
        },
        "id": "DG-DEB-XhkTP",
        "outputId": "a01b49c9-f02c-4b3c-faf4-3eef78d3dce2"
      },
      "execution_count": 26,
      "outputs": [
        {
          "output_type": "stream",
          "name": "stdout",
          "text": [
            "1300/1300 [==============================] - 3s 3ms/step - loss: 0.0604 - accuracy: 0.9875\n",
            "(41572,)\n",
            "Test loss: 0.06038337200880051\n",
            "Test accuracy: 0.9875156283378601\n",
            "1300/1300 [==============================] - 2s 1ms/step\n",
            "              precision    recall  f1-score   support\n",
            "\n",
            "      Attack   0.978465  1.000000  0.989115     23581\n",
            "      Normal   1.000000  0.971152  0.985365     17991\n",
            "\n",
            "    accuracy                       0.987516     41572\n",
            "   macro avg   0.989232  0.985576  0.987240     41572\n",
            "weighted avg   0.987784  0.987516  0.987492     41572\n",
            "\n"
          ]
        }
      ]
    },
    {
      "cell_type": "code",
      "source": [
        "from sklearn.metrics import confusion_matrix, f1_score, precision_score, recall_score\n",
        "import matplotlib.pyplot as plt\n",
        "import seaborn as sns\n",
        "sns.set()\n",
        "fig, ax = plt.subplots(1, 1, figsize=(8, 6))\n",
        "cm1 = confusion_matrix(y_test, y_pred)\n",
        "f1_1 = f1_score(y_test, y_pred, pos_label=1)\n",
        "precision_1 = precision_score(y_test, y_pred, pos_label=1)\n",
        "recall_1 = recall_score(y_test, y_pred, pos_label=1)\n",
        "# 혼동 행렬 heatmap 그리기\n",
        "ax.set_title('Confusion Matrix (DNN Case 1)', fontsize=14)\n",
        "ax.set_xlabel('Predicted Label', fontsize=12)\n",
        "ax.set_ylabel('True Label', fontsize=12)\n",
        "ax.text(0.5, -0.15, f'F1 Score: {f1_1:.4f} Precision: {precision_1:.4f} Recall: {recall_1:.4f}',\n",
        "        horizontalalignment='center', verticalalignment='center', transform=ax.transAxes,\n",
        "        fontsize=12)\n",
        "\n",
        "# heatmap\n",
        "sns.heatmap(cm1, annot=True, fmt=\"d\", cmap=\"Blues\", ax=ax)\n",
        "\n",
        "# subplot 간 간격 조절\n",
        "plt.tight_layout()\n",
        "plt.show()"
      ],
      "metadata": {
        "colab": {
          "base_uri": "https://localhost:8080/",
          "height": 580
        },
        "id": "6BF7kuM5vEHX",
        "outputId": "d886225e-d752-460f-879f-28cdaac91ff1"
      },
      "execution_count": 27,
      "outputs": [
        {
          "output_type": "display_data",
          "data": {
            "text/plain": [
              "<Figure size 800x600 with 2 Axes>"
            ],
            "image/png": "[encoded data removed]"
          },
          "metadata": {}
        }
      ]
    },
    {
      "cell_type": "code",
      "source": [
        "model.save('my_dnn_model.h5')"
      ],
      "metadata": {
        "colab": {
          "base_uri": "https://localhost:8080/"
        },
        "id": "9h_szzONhkXO",
        "outputId": "b2f759f9-067d-4e31-ae97-4d44b7978fdd"
      },
      "execution_count": 28,
      "outputs": [
        {
          "output_type": "stream",
          "name": "stderr",
          "text": [
            "/usr/local/lib/python3.10/dist-packages/keras/src/engine/training.py:3103: UserWarning: You are saving your model as an HDF5 file via `model.save()`. This file format is considered legacy. We recommend using instead the native Keras format, e.g. `model.save('my_model.keras')`.\n",
            "  saving_api.save_model(\n"
          ]
        }
      ]
    }
  ]
}