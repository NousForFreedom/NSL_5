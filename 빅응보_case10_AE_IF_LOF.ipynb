{
  "nbformat": 4,
  "nbformat_minor": 0,
  "metadata": {
    "colab": {
      "provenance": [],
      "machine_shape": "hm",
      "gpuType": "L4",
      "authorship_tag": "ABX9TyNZUHy8dNiQexBFnLadaNUZ",
      "include_colab_link": true
    },
    "kernelspec": {
      "name": "python3",
      "display_name": "Python 3"
    },
    "language_info": {
      "name": "python"
    },
    "accelerator": "GPU"
  },
  "cells": [
    {
      "cell_type": "markdown",
      "metadata": {
        "id": "view-in-github",
        "colab_type": "text"
      },
      "source": [
        "<a href=\"https://colab.research.google.com/github/ajou-y0uC4N/y0uC4N/blob/main/%EB%B9%85%EC%9D%91%EB%B3%B4_case10_AE_IF_LOF.ipynb\" target=\"_parent\"><img src=\"https://colab.research.google.com/assets/colab-badge.svg\" alt=\"Open In Colab\"/></a>"
      ]
    },
    {
      "cell_type": "code",
      "execution_count": 20,
      "metadata": {
        "colab": {
          "base_uri": "https://localhost:8080/"
        },
        "id": "E0hBW3FUVU-I",
        "outputId": "7edd53e9-c86d-414f-d677-c29c818722a9"
      },
      "outputs": [
        {
          "output_type": "stream",
          "name": "stdout",
          "text": [
            "Drive already mounted at /content/drive; to attempt to forcibly remount, call drive.mount(\"/content/drive\", force_remount=True).\n"
          ]
        }
      ],
      "source": [
        "import matplotlib.pyplot as plt\n",
        "import numpy as np\n",
        "import pandas as pd\n",
        "from sklearn.model_selection import train_test_split\n",
        "from google.colab import drive\n",
        "from sklearn.preprocessing import StandardScaler\n",
        "from sklearn.ensemble import IsolationForest\n",
        "from sklearn.neighbors import LocalOutlierFactor\n",
        "from tensorflow.keras.models import Model, Sequential\n",
        "from tensorflow.keras.layers import Input, Dense\n",
        "drive.mount('/content/drive')\n",
        "\n",
        "\n"
      ]
    },
    {
      "cell_type": "code",
      "source": [
        "\n",
        "data = pd.read_csv('./drive/MyDrive/Colab Notebooks/team_prj/data/type10.csv')#.to_numpy()\n",
        "\n",
        "\n",
        "X = data[data['type'] == 'Normal']\n",
        "y = X['type']\n",
        "y = y.map({'Normal': 0, 'Attack': 1}).to_numpy()\n",
        "X = X.drop(columns =['type'])\n",
        "X['messageID'] = X['messageID'].astype('category')\n",
        "X = X.drop(columns =['isCan0','isService','serviceNODEID','time'])\n",
        "X = X.drop(columns = ['data[0]','data[7]'])\n",
        "print(X.shape)\n"
      ],
      "metadata": {
        "colab": {
          "base_uri": "https://localhost:8080/"
        },
        "id": "7N7O9VhsVaVK",
        "outputId": "5d97e1b2-98a9-457d-985b-e6620bc33ee7"
      },
      "execution_count": 21,
      "outputs": [
        {
          "output_type": "stream",
          "name": "stdout",
          "text": [
            "(131530, 11)\n"
          ]
        }
      ]
    },
    {
      "cell_type": "code",
      "source": [
        "scaler = StandardScaler()\n",
        "X_scaled = scaler.fit_transform(X)\n",
        "input_dim = X_scaled.shape[1]\n",
        "encoding_dim = 6\n",
        "\n",
        "input_layer = Input(shape=(input_dim,))\n",
        "encoder = Dense(encoding_dim, activation=\"relu\")(input_layer)\n",
        "decoder = Dense(input_dim, activation=\"sigmoid\")(encoder)\n",
        "\n",
        "autoencoder = Model(inputs=input_layer, outputs=decoder)\n",
        "autoencoder.compile(optimizer='adam', loss='mse')\n",
        "\n",
        "# Autoencoder 학습\n",
        "autoencoder.fit(X_scaled, X_scaled, epochs=30, batch_size=32, shuffle=True, validation_split=0.2)"
      ],
      "metadata": {
        "colab": {
          "base_uri": "https://localhost:8080/"
        },
        "id": "ss4LnCaJymY8",
        "outputId": "dfea32d6-ca2f-49e3-952b-b937d81fb3db"
      },
      "execution_count": 22,
      "outputs": [
        {
          "output_type": "stream",
          "name": "stdout",
          "text": [
            "Epoch 1/30\n",
            "3289/3289 [==============================] - 9s 2ms/step - loss: 0.7185 - val_loss: 0.6411\n",
            "Epoch 2/30\n",
            "3289/3289 [==============================] - 8s 2ms/step - loss: 0.6081 - val_loss: 0.6226\n",
            "Epoch 3/30\n",
            "3289/3289 [==============================] - 8s 2ms/step - loss: 0.5995 - val_loss: 0.6210\n",
            "Epoch 4/30\n",
            "3289/3289 [==============================] - 8s 2ms/step - loss: 0.5972 - val_loss: 0.6204\n",
            "Epoch 5/30\n",
            "3289/3289 [==============================] - 8s 2ms/step - loss: 0.5963 - val_loss: 0.6202\n",
            "Epoch 6/30\n",
            "3289/3289 [==============================] - 8s 2ms/step - loss: 0.5958 - val_loss: 0.6200\n",
            "Epoch 7/30\n",
            "3289/3289 [==============================] - 8s 2ms/step - loss: 0.5955 - val_loss: 0.6197\n",
            "Epoch 8/30\n",
            "3289/3289 [==============================] - 8s 2ms/step - loss: 0.5953 - val_loss: 0.6195\n",
            "Epoch 9/30\n",
            "3289/3289 [==============================] - 8s 2ms/step - loss: 0.5952 - val_loss: 0.6193\n",
            "Epoch 10/30\n",
            "3289/3289 [==============================] - 8s 2ms/step - loss: 0.5950 - val_loss: 0.6191\n",
            "Epoch 11/30\n",
            "3289/3289 [==============================] - 8s 2ms/step - loss: 0.5949 - val_loss: 0.6191\n",
            "Epoch 12/30\n",
            "3289/3289 [==============================] - 8s 2ms/step - loss: 0.5948 - val_loss: 0.6188\n",
            "Epoch 13/30\n",
            "3289/3289 [==============================] - 8s 2ms/step - loss: 0.5947 - val_loss: 0.6188\n",
            "Epoch 14/30\n",
            "3289/3289 [==============================] - 8s 2ms/step - loss: 0.5946 - val_loss: 0.6187\n",
            "Epoch 15/30\n",
            "3289/3289 [==============================] - 8s 2ms/step - loss: 0.5945 - val_loss: 0.6184\n",
            "Epoch 16/30\n",
            "3289/3289 [==============================] - 8s 2ms/step - loss: 0.5945 - val_loss: 0.6185\n",
            "Epoch 17/30\n",
            "3289/3289 [==============================] - 8s 2ms/step - loss: 0.5944 - val_loss: 0.6184\n",
            "Epoch 18/30\n",
            "3289/3289 [==============================] - 8s 2ms/step - loss: 0.5943 - val_loss: 0.6183\n",
            "Epoch 19/30\n",
            "3289/3289 [==============================] - 8s 2ms/step - loss: 0.5943 - val_loss: 0.6181\n",
            "Epoch 20/30\n",
            "3289/3289 [==============================] - 8s 2ms/step - loss: 0.5942 - val_loss: 0.6181\n",
            "Epoch 21/30\n",
            "3289/3289 [==============================] - 8s 2ms/step - loss: 0.5942 - val_loss: 0.6180\n",
            "Epoch 22/30\n",
            "3289/3289 [==============================] - 8s 2ms/step - loss: 0.5942 - val_loss: 0.6179\n",
            "Epoch 23/30\n",
            "3289/3289 [==============================] - 8s 2ms/step - loss: 0.5941 - val_loss: 0.6178\n",
            "Epoch 24/30\n",
            "3289/3289 [==============================] - 8s 2ms/step - loss: 0.5941 - val_loss: 0.6178\n",
            "Epoch 25/30\n",
            "3289/3289 [==============================] - 8s 2ms/step - loss: 0.5941 - val_loss: 0.6176\n",
            "Epoch 26/30\n",
            "3289/3289 [==============================] - 8s 2ms/step - loss: 0.5940 - val_loss: 0.6175\n",
            "Epoch 27/30\n",
            "3289/3289 [==============================] - 8s 2ms/step - loss: 0.5940 - val_loss: 0.6173\n",
            "Epoch 28/30\n",
            "3289/3289 [==============================] - 8s 2ms/step - loss: 0.5939 - val_loss: 0.6172\n",
            "Epoch 29/30\n",
            "3289/3289 [==============================] - 8s 2ms/step - loss: 0.5939 - val_loss: 0.6170\n",
            "Epoch 30/30\n",
            "3289/3289 [==============================] - 8s 2ms/step - loss: 0.5939 - val_loss: 0.6171\n"
          ]
        },
        {
          "output_type": "execute_result",
          "data": {
            "text/plain": [
              "<keras.src.callbacks.History at 0x79203c159420>"
            ]
          },
          "metadata": {},
          "execution_count": 22
        }
      ]
    },
    {
      "cell_type": "code",
      "source": [
        "# 데이터를 인코딩\n",
        "X_encoded = autoencoder.predict(X_scaled)"
      ],
      "metadata": {
        "colab": {
          "base_uri": "https://localhost:8080/"
        },
        "id": "I0gB7M-hyzAL",
        "outputId": "6db5bd66-f721-4cf7-c363-79d653842373"
      },
      "execution_count": 23,
      "outputs": [
        {
          "output_type": "stream",
          "name": "stdout",
          "text": [
            "4111/4111 [==============================] - 5s 1ms/step\n"
          ]
        }
      ]
    },
    {
      "cell_type": "code",
      "source": [
        "#data.loc[data['type']=='Normal', 'type'] = 0\n",
        "#data.loc[data['type']=='Attack', 'type'] = 1\n",
        "\n",
        "fullDataX1 = pd.read_csv('./drive/MyDrive/Colab Notebooks/team_prj/data/type10.csv')#.to_numpy()\n",
        "\n",
        "#X['messageID'] = data['messageID']\n",
        "fX1 = fullDataX1.drop(columns =['type'])\n",
        "fX1['messageID'] = fX1['messageID'].astype('category')\n",
        "fX1 = fX1.drop(columns =['isCan0','isService','serviceNODEID','time'])\n",
        "fX1 = fX1.drop(columns = ['data[0]','data[7]'])\n",
        "print(fX1.shape)\n",
        "fX1_scaled = scaler.fit_transform(fX1)\n",
        "fX1_encoded = autoencoder.predict(fX1_scaled)"
      ],
      "metadata": {
        "colab": {
          "base_uri": "https://localhost:8080/"
        },
        "id": "bH9_v5oz7HZJ",
        "outputId": "0cb41ea3-8565-4390-f093-dcc34a0200d4"
      },
      "execution_count": 25,
      "outputs": [
        {
          "output_type": "stream",
          "name": "stdout",
          "text": [
            "(207380, 11)\n",
            "6481/6481 [==============================] - 8s 1ms/step\n"
          ]
        }
      ]
    },
    {
      "cell_type": "code",
      "source": [],
      "metadata": {
        "id": "i5ary7LCFMsl"
      },
      "execution_count": null,
      "outputs": []
    },
    {
      "cell_type": "code",
      "source": [
        "if_model = IsolationForest(contamination=0.14)  # contamination 값 조정 가능\n",
        "if_model.fit(X_encoded)\n",
        "\n",
        "# 이상치 예측\n",
        "if_predictions = if_model.predict(fX1_encoded)"
      ],
      "metadata": {
        "id": "PStPsj2D6AFg"
      },
      "execution_count": 26,
      "outputs": []
    },
    {
      "cell_type": "code",
      "source": [
        "from sklearn.metrics import confusion_matrix, classification_report\n",
        "fy = fullDataX1['type']\n",
        "fy = fy.map({'Normal': 1, 'Attack': 0}).to_numpy()\n",
        "if_predictions = np.where(if_predictions == -1, 0, if_predictions)\n",
        "print(np.unique(if_predictions, return_counts=True))\n",
        "conf_matrix = confusion_matrix(fy, if_predictions)\n",
        "class_report = classification_report(fy, if_predictions)\n",
        "print(\"Confusion Matrix:\")\n",
        "print(conf_matrix)\n",
        "print(\"\\nClassification Report:\")\n",
        "print(class_report)"
      ],
      "metadata": {
        "colab": {
          "base_uri": "https://localhost:8080/"
        },
        "id": "FZrvkIQPKOTR",
        "outputId": "253d63a6-b4df-4336-c522-d2bebb2ee78e"
      },
      "execution_count": 27,
      "outputs": [
        {
          "output_type": "stream",
          "name": "stdout",
          "text": [
            "(array([0, 1]), array([ 64347, 143033]))\n",
            "Confusion Matrix:\n",
            "[[ 41847  34003]\n",
            " [ 22500 109030]]\n",
            "\n",
            "Classification Report:\n",
            "              precision    recall  f1-score   support\n",
            "\n",
            "           0       0.65      0.55      0.60     75850\n",
            "           1       0.76      0.83      0.79    131530\n",
            "\n",
            "    accuracy                           0.73    207380\n",
            "   macro avg       0.71      0.69      0.70    207380\n",
            "weighted avg       0.72      0.73      0.72    207380\n",
            "\n"
          ]
        }
      ]
    },
    {
      "cell_type": "code",
      "source": [
        "# 모델 저장\n",
        "import pickle\n",
        "with open('/content/drive/MyDrive/Colab Notebooks/team_prj/case10_if_model.pkl', 'wb') as file:\n",
        "    pickle.dump(if_model, file)"
      ],
      "metadata": {
        "id": "XnnXK0cQn303"
      },
      "execution_count": 11,
      "outputs": []
    },
    {
      "cell_type": "code",
      "source": [
        "import pickle\n",
        "import numpy as np\n",
        "import pandas as pd\n",
        "from sklearn.metrics import confusion_matrix, classification_report\n",
        "import pickle\n",
        "with open('/content/drive/MyDrive/Colab Notebooks/team_prj/case10_if_model.pkl', 'rb') as file:\n",
        "    loaded_if_model = pickle.load(file)\n",
        "\n",
        "# 불러온 모델로 예측\n",
        "fy1 = fullDataX1['type']\n",
        "fy1 = fy1.map({'Normal': 1, 'Attack': 0}).to_numpy()\n",
        "loaded_if_predictions = loaded_if_model.predict(fX1_encoded)\n",
        "loaded_if_predictions = np.where(loaded_if_predictions == -1, 0, loaded_if_predictions)\n",
        "print(np.unique(loaded_if_predictions, return_counts=True))\n",
        "conf_matrix = confusion_matrix(fy1, loaded_if_predictions)\n",
        "class_report = classification_report(fy1, loaded_if_predictions)\n",
        "\n",
        "print(\"Confusion Matrix:\")\n",
        "print(conf_matrix)\n",
        "print(\"\\nClassification Report:\")\n",
        "print(class_report)"
      ],
      "metadata": {
        "colab": {
          "base_uri": "https://localhost:8080/"
        },
        "id": "804XoJRon-q7",
        "outputId": "c171f3b0-2c1e-4e96-8583-236583cb0f0e"
      },
      "execution_count": 12,
      "outputs": [
        {
          "output_type": "stream",
          "name": "stdout",
          "text": [
            "(array([0, 1]), array([106901, 134420]))\n",
            "Confusion Matrix:\n",
            "[[34873 46215]\n",
            " [72028 88205]]\n",
            "\n",
            "Classification Report:\n",
            "              precision    recall  f1-score   support\n",
            "\n",
            "           0       0.33      0.43      0.37     81088\n",
            "           1       0.66      0.55      0.60    160233\n",
            "\n",
            "    accuracy                           0.51    241321\n",
            "   macro avg       0.49      0.49      0.48    241321\n",
            "weighted avg       0.55      0.51      0.52    241321\n",
            "\n"
          ]
        }
      ]
    },
    {
      "cell_type": "code",
      "source": [
        "# Local Outlier Factor 모델 정의 및 학습\n",
        "lof_model = LocalOutlierFactor(n_neighbors=500, contamination=0.5, novelty=True)  # n_neighbors 및 contamination 값 조정 가능\n",
        "lof_model.fit(X_encoded)\n",
        "lof_predictions = lof_model.predict(fX1_encoded)\n",
        "# 이상치라면 -1, 정상치라면 1로 표시됨\n"
      ],
      "metadata": {
        "id": "pj7CtxYC6DKQ"
      },
      "execution_count": 10,
      "outputs": []
    },
    {
      "cell_type": "code",
      "source": [
        "fy = fullDataX1['type']\n",
        "fy = fy.map({'Normal': 1, 'Attack': 0}).to_numpy()\n",
        "lof_predictions = np.where(lof_predictions == -1, 0, lof_predictions)\n",
        "print(np.unique(lof_predictions, return_counts=True))\n",
        "conf_matrix = confusion_matrix(fy, lof_predictions)\n",
        "class_report = classification_report(fy, lof_predictions)\n",
        "print(\"Confusion Matrix:\")\n",
        "print(conf_matrix)\n",
        "print(\"\\nClassification Report:\")\n",
        "print(class_report)"
      ],
      "metadata": {
        "colab": {
          "base_uri": "https://localhost:8080/"
        },
        "id": "_VtYcHGmEGiY",
        "outputId": "85fcd1e1-8059-49f6-bf69-7ab90e62eaf9"
      },
      "execution_count": 11,
      "outputs": [
        {
          "output_type": "stream",
          "name": "stdout",
          "text": [
            "(array([0, 1]), array([235525,   5796]))\n",
            "Confusion Matrix:\n",
            "[[ 80708    380]\n",
            " [154817   5416]]\n",
            "\n",
            "Classification Report:\n",
            "              precision    recall  f1-score   support\n",
            "\n",
            "           0       0.34      1.00      0.51     81088\n",
            "           1       0.93      0.03      0.07    160233\n",
            "\n",
            "    accuracy                           0.36    241321\n",
            "   macro avg       0.64      0.51      0.29    241321\n",
            "weighted avg       0.74      0.36      0.21    241321\n",
            "\n"
          ]
        }
      ]
    },
    {
      "cell_type": "code",
      "source": [
        "# 모델 저장\n",
        "#import pickle\n",
        "#with open('/content/drive/MyDrive/Colab Notebooks/team_prj/case3_lof_model.pkl', 'wb') as file:\n",
        "    #pickle.dump(lof_model, file)"
      ],
      "metadata": {
        "id": "Z33EKFsVmtX8"
      },
      "execution_count": 12,
      "outputs": []
    },
    {
      "cell_type": "code",
      "source": [
        "#with open('/content/drive/MyDrive/Colab Notebooks/team_prj/case3_lof_model.pkl', 'rb') as file:\n",
        "    #loaded_lof_model = pickle.load(file)\n",
        "\n",
        "# 불러온 모델로 예측\n",
        "#loaded_lof_predictions = loaded_lof_model.predict(fX1_encoded)\n",
        "#print(np.unique(loaded_lof_predictions, return_counts=True))"
      ],
      "metadata": {
        "id": "AqswqoI5m3F0"
      },
      "execution_count": null,
      "outputs": []
    },
    {
      "cell_type": "markdown",
      "source": [],
      "metadata": {
        "id": "R-txhzzTDetD"
      }
    },
    {
      "cell_type": "code",
      "source": [],
      "metadata": {
        "id": "uhQh-I7q6GXX"
      },
      "execution_count": null,
      "outputs": []
    },
    {
      "cell_type": "code",
      "source": [],
      "metadata": {
        "id": "CoqaIodOVoVh"
      },
      "execution_count": null,
      "outputs": []
    }
  ]
}