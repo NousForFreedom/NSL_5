{
  "nbformat": 4,
  "nbformat_minor": 0,
  "metadata": {
    "colab": {
      "provenance": [],
      "authorship_tag": "ABX9TyOPipJ3SDrcB5CP8JdIi79o",
      "include_colab_link": true
    },
    "kernelspec": {
      "name": "python3",
      "display_name": "Python 3"
    },
    "language_info": {
      "name": "python"
    }
  },
  "cells": [
    {
      "cell_type": "markdown",
      "metadata": {
        "id": "view-in-github",
        "colab_type": "text"
      },
      "source": [
        "<a href=\"https://colab.research.google.com/github/ajou-y0uC4N/y0uC4N/blob/main/DNN_case3.ipynb\" target=\"_parent\"><img src=\"https://colab.research.google.com/assets/colab-badge.svg\" alt=\"Open In Colab\"/></a>"
      ]
    },
    {
      "cell_type": "code",
      "source": [
        "import pandas as pd\n",
        "import numpy as np\n",
        "import requests\n",
        "from sklearn.model_selection import train_test_split\n",
        "from sklearn.preprocessing import StandardScaler, LabelEncoder\n",
        "from sklearn.metrics import classification_report\n",
        "from tensorflow.keras.models import Sequential\n",
        "from tensorflow.keras.layers import Dense\n",
        "from google.colab import drive"
      ],
      "metadata": {
        "id": "hGioXkq1hj11"
      },
      "execution_count": 21,
      "outputs": []
    },
    {
      "cell_type": "code",
      "source": [
        "drive.mount('/content/drive')"
      ],
      "metadata": {
        "colab": {
          "base_uri": "https://localhost:8080/"
        },
        "id": "tukxSbpvhj5Z",
        "outputId": "ac8579df-cae7-4ec8-8e10-42fe16e80c04"
      },
      "execution_count": 22,
      "outputs": [
        {
          "output_type": "stream",
          "name": "stdout",
          "text": [
            "Drive already mounted at /content/drive; to attempt to forcibly remount, call drive.mount(\"/content/drive\", force_remount=True).\n"
          ]
        }
      ]
    },
    {
      "cell_type": "code",
      "source": [
        "df = pd.read_csv(\"/content/drive/MyDrive/Colab Notebooks/type3.csv\")\n",
        "print(df.head())"
      ],
      "metadata": {
        "colab": {
          "base_uri": "https://localhost:8080/"
        },
        "id": "8CXdynHqhj-X",
        "outputId": "91de7c71-a3f8-4e88-e384-29d8ee337567"
      },
      "execution_count": 23,
      "outputs": [
        {
          "output_type": "stream",
          "name": "stdout",
          "text": [
            "     type      time  isCan0  priority  messageID  isService  serviceNODEID  \\\n",
            "0  Normal  0.000000       1        16        341          0              1   \n",
            "1  Normal  0.189037       1        16      20000          0              1   \n",
            "2  Normal  0.189207       1        31       1081          0              1   \n",
            "3  Normal  0.189377       1        31       1081          0              1   \n",
            "4  Normal  0.189514       1        31       1081          0              1   \n",
            "\n",
            "   byteSize  data[0]  data[1]  data[2]  data[3]  data[4]  data[5]  data[6]  \\\n",
            "0         8        0        0        0        0        8        0        0   \n",
            "1         2        0      192       -1       -1       -1       -1       -1   \n",
            "2         8      186       84        0        0        0      246        0   \n",
            "3         8        0      248        0        0      247      255      223   \n",
            "4         4      254        0        0       64       -1       -1       -1   \n",
            "\n",
            "   data[7]  7byteNullCnt  8byteNullCnt  \n",
            "0      192             0             6  \n",
            "1       -1             0             0  \n",
            "2      128             0             4  \n",
            "3       32             0             3  \n",
            "4       -1             0             0  \n"
          ]
        }
      ]
    },
    {
      "cell_type": "code",
      "source": [
        "label_encoder = LabelEncoder()\n",
        "y_encoded = label_encoder.fit_transform(df[\"type\"])\n",
        "X = df.drop(columns=[\"type\",\"time\"])\n",
        "\n",
        "print(f\"X shape: {X.shape}\")\n",
        "print(f\"y shape: {y_encoded.shape}\")\n",
        "\n",
        "scaler = StandardScaler()\n",
        "X_scaled = scaler.fit_transform(X)"
      ],
      "metadata": {
        "colab": {
          "base_uri": "https://localhost:8080/"
        },
        "id": "msn4C8GphkCh",
        "outputId": "9b5c589a-28f6-47e3-8655-0ca9ba47f6ce"
      },
      "execution_count": 24,
      "outputs": [
        {
          "output_type": "stream",
          "name": "stdout",
          "text": [
            "X shape: (197479, 16)\n",
            "y shape: (197479,)\n"
          ]
        }
      ]
    },
    {
      "cell_type": "code",
      "source": [
        "X_train, X_test, y_train, y_test = train_test_split(X_scaled, y_encoded, test_size=0.2, random_state=42)"
      ],
      "metadata": {
        "id": "NwBUiKlyhkHI"
      },
      "execution_count": 25,
      "outputs": []
    },
    {
      "cell_type": "code",
      "source": [
        "model = Sequential([\n",
        "    Dense(128, activation='relu', input_dim=X_train.shape[1]),\n",
        "    Dense(32, activation='relu'),\n",
        "    Dense(1, activation='sigmoid')\n",
        "])\n",
        "\n",
        "model.compile(optimizer='adam', loss='binary_crossentropy', metrics=['accuracy'])\n",
        "model.summary()"
      ],
      "metadata": {
        "colab": {
          "base_uri": "https://localhost:8080/"
        },
        "id": "D8FdkYd-hkLQ",
        "outputId": "2a1f9290-4031-4027-9c7e-6f2e0bbf0ac3"
      },
      "execution_count": 26,
      "outputs": [
        {
          "output_type": "stream",
          "name": "stdout",
          "text": [
            "Model: \"sequential_2\"\n",
            "_________________________________________________________________\n",
            " Layer (type)                Output Shape              Param #   \n",
            "=================================================================\n",
            " dense_6 (Dense)             (None, 128)               2176      \n",
            "                                                                 \n",
            " dense_7 (Dense)             (None, 32)                4128      \n",
            "                                                                 \n",
            " dense_8 (Dense)             (None, 1)                 33        \n",
            "                                                                 \n",
            "=================================================================\n",
            "Total params: 6337 (24.75 KB)\n",
            "Trainable params: 6337 (24.75 KB)\n",
            "Non-trainable params: 0 (0.00 Byte)\n",
            "_________________________________________________________________\n"
          ]
        }
      ]
    },
    {
      "cell_type": "code",
      "source": [
        "model.fit(X_train, y_train, epochs=10, batch_size=32, validation_split=0.2)"
      ],
      "metadata": {
        "colab": {
          "base_uri": "https://localhost:8080/"
        },
        "id": "qCiOk2aBhkPR",
        "outputId": "81ae5682-6260-49b0-d0de-7abe9bda96f4"
      },
      "execution_count": 27,
      "outputs": [
        {
          "output_type": "stream",
          "name": "stdout",
          "text": [
            "Epoch 1/10\n",
            "3950/3950 [==============================] - 49s 11ms/step - loss: 0.0365 - accuracy: 0.9867 - val_loss: 0.0238 - val_accuracy: 0.9884\n",
            "Epoch 2/10\n",
            "3950/3950 [==============================] - 15s 4ms/step - loss: 0.0197 - accuracy: 0.9921 - val_loss: 0.0213 - val_accuracy: 0.9924\n",
            "Epoch 3/10\n",
            "3950/3950 [==============================] - 15s 4ms/step - loss: 0.0177 - accuracy: 0.9931 - val_loss: 0.0187 - val_accuracy: 0.9932\n",
            "Epoch 4/10\n",
            "3950/3950 [==============================] - 16s 4ms/step - loss: 0.0167 - accuracy: 0.9932 - val_loss: 0.0182 - val_accuracy: 0.9934\n",
            "Epoch 5/10\n",
            "3950/3950 [==============================] - 17s 4ms/step - loss: 0.0159 - accuracy: 0.9936 - val_loss: 0.0183 - val_accuracy: 0.9933\n",
            "Epoch 6/10\n",
            "3950/3950 [==============================] - 15s 4ms/step - loss: 0.0153 - accuracy: 0.9937 - val_loss: 0.0179 - val_accuracy: 0.9936\n",
            "Epoch 7/10\n",
            "3950/3950 [==============================] - 16s 4ms/step - loss: 0.0150 - accuracy: 0.9939 - val_loss: 0.0165 - val_accuracy: 0.9941\n",
            "Epoch 8/10\n",
            "3950/3950 [==============================] - 17s 4ms/step - loss: 0.0148 - accuracy: 0.9939 - val_loss: 0.0159 - val_accuracy: 0.9939\n",
            "Epoch 9/10\n",
            "3950/3950 [==============================] - 16s 4ms/step - loss: 0.0144 - accuracy: 0.9941 - val_loss: 0.0167 - val_accuracy: 0.9936\n",
            "Epoch 10/10\n",
            "3950/3950 [==============================] - 20s 5ms/step - loss: 0.0143 - accuracy: 0.9940 - val_loss: 0.0173 - val_accuracy: 0.9932\n"
          ]
        },
        {
          "output_type": "execute_result",
          "data": {
            "text/plain": [
              "<keras.src.callbacks.History at 0x7ca2706997e0>"
            ]
          },
          "metadata": {},
          "execution_count": 27
        }
      ]
    },
    {
      "cell_type": "code",
      "source": [
        "loss, accuracy = model.evaluate(X_test, y_test)\n",
        "print(y_test.shape)\n",
        "print(f'Test loss: {loss}')\n",
        "print(f'Test accuracy: {accuracy}')\n",
        "\n",
        "y_pred = (model.predict(X_test) > 0.5).astype(\"int32\")\n",
        "print(classification_report(y_test, y_pred, target_names=label_encoder.classes_,digits=6))"
      ],
      "metadata": {
        "colab": {
          "base_uri": "https://localhost:8080/"
        },
        "id": "DG-DEB-XhkTP",
        "outputId": "44c94f68-c4b1-4d28-b472-18259b7f7ccf"
      },
      "execution_count": 28,
      "outputs": [
        {
          "output_type": "stream",
          "name": "stdout",
          "text": [
            "1235/1235 [==============================] - 3s 2ms/step - loss: 0.0148 - accuracy: 0.9938\n",
            "(39496,)\n",
            "Test loss: 0.014819486066699028\n",
            "Test accuracy: 0.9938474893569946\n",
            "1235/1235 [==============================] - 2s 2ms/step\n",
            "              precision    recall  f1-score   support\n",
            "\n",
            "      Attack   0.996547  0.990793  0.993662     19225\n",
            "      Normal   0.991316  0.996744  0.994023     20271\n",
            "\n",
            "    accuracy                       0.993847     39496\n",
            "   macro avg   0.993931  0.993769  0.993842     39496\n",
            "weighted avg   0.993862  0.993847  0.993847     39496\n",
            "\n"
          ]
        }
      ]
    },
    {
      "cell_type": "code",
      "source": [
        "from sklearn.metrics import confusion_matrix, f1_score, precision_score, recall_score\n",
        "import matplotlib.pyplot as plt\n",
        "import seaborn as sns\n",
        "sns.set()\n",
        "fig, ax = plt.subplots(1, 1, figsize=(8, 6))\n",
        "cm1 = confusion_matrix(y_test, y_pred)\n",
        "f1_1 = f1_score(y_test, y_pred, pos_label=1)\n",
        "precision_1 = precision_score(y_test, y_pred, pos_label=1)\n",
        "recall_1 = recall_score(y_test, y_pred, pos_label=1)\n",
        "# 혼동 행렬 heatmap 그리기\n",
        "ax.set_title('Confusion Matrix (DNN Case 3)', fontsize=14)\n",
        "ax.set_xlabel('Predicted Label', fontsize=12)\n",
        "ax.set_ylabel('True Label', fontsize=12)\n",
        "ax.text(0.5, -0.15, f'F1 Score: {f1_1:.4f} Precision: {precision_1:.4f} Recall: {recall_1:.4f}',\n",
        "        horizontalalignment='center', verticalalignment='center', transform=ax.transAxes,\n",
        "        fontsize=12)\n",
        "\n",
        "# heatmap\n",
        "sns.heatmap(cm1, annot=True, fmt=\"d\", cmap=\"Blues\", ax=ax)\n"
      ],
      "metadata": {
        "colab": {
          "base_uri": "https://localhost:8080/",
          "height": 618
        },
        "id": "OsJreXYWwWY1",
        "outputId": "c60702b3-47d5-400e-b863-70dc5532b11a"
      },
      "execution_count": 29,
      "outputs": [
        {
          "output_type": "execute_result",
          "data": {
            "text/plain": [
              "<Axes: title={'center': 'Confusion Matrix (DNN Case 3)'}>"
            ]
          },
          "metadata": {},
          "execution_count": 29
        },
        {
          "output_type": "display_data",
          "data": {
            "text/plain": [
              "<Figure size 800x600 with 2 Axes>"
            ],
            "image/png": "[encoded data removed]"
          },
          "metadata": {}
        }
      ]
    },
    {
      "cell_type": "code",
      "source": [
        "model.save('my_dnn_model.h5')"
      ],
      "metadata": {
        "colab": {
          "base_uri": "https://localhost:8080/"
        },
        "id": "9h_szzONhkXO",
        "outputId": "0f9c8526-f977-413b-823a-eed2f85379f5"
      },
      "execution_count": 30,
      "outputs": [
        {
          "output_type": "stream",
          "name": "stderr",
          "text": [
            "/usr/local/lib/python3.10/dist-packages/keras/src/engine/training.py:3103: UserWarning: You are saving your model as an HDF5 file via `model.save()`. This file format is considered legacy. We recommend using instead the native Keras format, e.g. `model.save('my_model.keras')`.\n",
            "  saving_api.save_model(\n"
          ]
        }
      ]
    }
  ]
}