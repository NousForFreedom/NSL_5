{
  "nbformat": 4,
  "nbformat_minor": 0,
  "metadata": {
    "colab": {
      "provenance": [],
      "authorship_tag": "ABX9TyNMEYDN4gywEW3TL0cN1cov",
      "include_colab_link": true
    },
    "kernelspec": {
      "name": "python3",
      "display_name": "Python 3"
    },
    "language_info": {
      "name": "python"
    }
  },
  "cells": [
    {
      "cell_type": "markdown",
      "metadata": {
        "id": "view-in-github",
        "colab_type": "text"
      },
      "source": [
        "<a href=\"https://colab.research.google.com/github/ajou-y0uC4N/y0uC4N/blob/main/DNN_case10.ipynb\" target=\"_parent\"><img src=\"https://colab.research.google.com/assets/colab-badge.svg\" alt=\"Open In Colab\"/></a>"
      ]
    },
    {
      "cell_type": "code",
      "execution_count": 1,
      "metadata": {
        "id": "tX-DOPnNjwXk"
      },
      "outputs": [],
      "source": [
        "import pandas as pd\n",
        "import numpy as np\n",
        "import requests\n",
        "from sklearn.model_selection import train_test_split\n",
        "from sklearn.preprocessing import StandardScaler, LabelEncoder\n",
        "from sklearn.metrics import classification_report\n",
        "from tensorflow.keras.models import Sequential\n",
        "from tensorflow.keras.layers import Dense\n",
        "from google.colab import drive"
      ]
    },
    {
      "cell_type": "code",
      "source": [
        "drive.mount('/content/drive')"
      ],
      "metadata": {
        "colab": {
          "base_uri": "https://localhost:8080/"
        },
        "id": "7epMuYsPjw3S",
        "outputId": "d9dedf88-8c01-47a0-9bac-ff80268467d1"
      },
      "execution_count": 2,
      "outputs": [
        {
          "output_type": "stream",
          "name": "stdout",
          "text": [
            "Mounted at /content/drive\n"
          ]
        }
      ]
    },
    {
      "cell_type": "code",
      "source": [
        "df = pd.read_csv(\"/content/drive/MyDrive/Colab Notebooks/type10.csv\")\n",
        "print(df.head())"
      ],
      "metadata": {
        "colab": {
          "base_uri": "https://localhost:8080/"
        },
        "id": "GbxJmdhBjw62",
        "outputId": "62929898-41ba-4a65-e689-a476222ffd3a"
      },
      "execution_count": 3,
      "outputs": [
        {
          "output_type": "stream",
          "name": "stdout",
          "text": [
            "     type      time  isCan0  priority  messageID  isService  serviceNODEID  \\\n",
            "0  Normal  0.000000       1         5       1030          0              1   \n",
            "1  Normal  0.000139       1         5       1030          0              1   \n",
            "2  Normal  0.004482       1         5       1030          0              1   \n",
            "3  Normal  0.004641       1         5       1030          0              1   \n",
            "4  Normal  0.009330       1         5       1030          0              1   \n",
            "\n",
            "   byteSize  data[0]  data[1]  data[2]  data[3]  data[4]  data[5]  data[6]  \\\n",
            "0         8      166       53        0        0        0        0        0   \n",
            "1         7        0        0        0        0        0        0      116   \n",
            "2         8      166       53        0        0        0        0        0   \n",
            "3         7        0        0        0        0        0        0      117   \n",
            "4         8      166       53        0        0        0        0        0   \n",
            "\n",
            "   data[7]  7byteNullCnt  8byteNullCnt  \n",
            "0      148             0             5  \n",
            "1       -1             6             0  \n",
            "2      149             0             5  \n",
            "3       -1             6             0  \n",
            "4      150             0             5  \n"
          ]
        }
      ]
    },
    {
      "cell_type": "code",
      "source": [
        "label_encoder = LabelEncoder()\n",
        "y_encoded = label_encoder.fit_transform(df[\"type\"])\n",
        "X = df.drop(columns=[\"type\",'time'])\n",
        "\n",
        "print(f\"X shape: {X.shape}\")\n",
        "print(f\"y shape: {y_encoded.shape}\")\n",
        "\n",
        "scaler = StandardScaler()\n",
        "X_scaled = scaler.fit_transform(X)"
      ],
      "metadata": {
        "colab": {
          "base_uri": "https://localhost:8080/"
        },
        "id": "VV2O81M7jw_X",
        "outputId": "1bd5c99f-78dd-4088-e887-d0bfee7b28bd"
      },
      "execution_count": 4,
      "outputs": [
        {
          "output_type": "stream",
          "name": "stdout",
          "text": [
            "X shape: (207380, 16)\n",
            "y shape: (207380,)\n"
          ]
        }
      ]
    },
    {
      "cell_type": "code",
      "source": [
        "X_train, X_test, y_train, y_test = train_test_split(X_scaled, y_encoded, test_size=0.2, random_state=42)"
      ],
      "metadata": {
        "id": "1Fu_GpSUjxDH"
      },
      "execution_count": 5,
      "outputs": []
    },
    {
      "cell_type": "code",
      "source": [
        "model = Sequential([\n",
        "    Dense(128, activation='relu', input_dim=X_train.shape[1]),\n",
        "    Dense(64, activation='relu'),\n",
        "    Dense(32, activation='relu'),\n",
        "    Dense(1, activation='sigmoid')\n",
        "])\n",
        "\n",
        "model.compile(optimizer='adam', loss='binary_crossentropy', metrics=['accuracy'])\n",
        "model.summary()"
      ],
      "metadata": {
        "colab": {
          "base_uri": "https://localhost:8080/"
        },
        "id": "HtfGBcjdjxG_",
        "outputId": "14ce6cd6-f7b6-474a-86bc-83b2bec61b6c"
      },
      "execution_count": 6,
      "outputs": [
        {
          "output_type": "stream",
          "name": "stdout",
          "text": [
            "Model: \"sequential\"\n",
            "_________________________________________________________________\n",
            " Layer (type)                Output Shape              Param #   \n",
            "=================================================================\n",
            " dense (Dense)               (None, 128)               2176      \n",
            "                                                                 \n",
            " dense_1 (Dense)             (None, 64)                8256      \n",
            "                                                                 \n",
            " dense_2 (Dense)             (None, 32)                2080      \n",
            "                                                                 \n",
            " dense_3 (Dense)             (None, 1)                 33        \n",
            "                                                                 \n",
            "=================================================================\n",
            "Total params: 12545 (49.00 KB)\n",
            "Trainable params: 12545 (49.00 KB)\n",
            "Non-trainable params: 0 (0.00 Byte)\n",
            "_________________________________________________________________\n"
          ]
        }
      ]
    },
    {
      "cell_type": "code",
      "source": [
        "model.fit(X_train, y_train, epochs=10, batch_size=32, validation_split=0.2)"
      ],
      "metadata": {
        "colab": {
          "base_uri": "https://localhost:8080/"
        },
        "id": "0iW2gzHljxKP",
        "outputId": "4802d088-73e5-48ab-862f-dec36333fd67"
      },
      "execution_count": 7,
      "outputs": [
        {
          "output_type": "stream",
          "name": "stdout",
          "text": [
            "Epoch 1/10\n",
            "4148/4148 [==============================] - 15s 3ms/step - loss: 0.2077 - accuracy: 0.8868 - val_loss: 0.1952 - val_accuracy: 0.8943\n",
            "Epoch 2/10\n",
            "4148/4148 [==============================] - 14s 3ms/step - loss: 0.1890 - accuracy: 0.8943 - val_loss: 0.1828 - val_accuracy: 0.8973\n",
            "Epoch 3/10\n",
            "4148/4148 [==============================] - 12s 3ms/step - loss: 0.1837 - accuracy: 0.8959 - val_loss: 0.1803 - val_accuracy: 0.9023\n",
            "Epoch 4/10\n",
            "4148/4148 [==============================] - 11s 3ms/step - loss: 0.1798 - accuracy: 0.8984 - val_loss: 0.1801 - val_accuracy: 0.9003\n",
            "Epoch 5/10\n",
            "4148/4148 [==============================] - 11s 3ms/step - loss: 0.1777 - accuracy: 0.8984 - val_loss: 0.1749 - val_accuracy: 0.9023\n",
            "Epoch 6/10\n",
            "4148/4148 [==============================] - 13s 3ms/step - loss: 0.1760 - accuracy: 0.8993 - val_loss: 0.1764 - val_accuracy: 0.9024\n",
            "Epoch 7/10\n",
            "4148/4148 [==============================] - 12s 3ms/step - loss: 0.1748 - accuracy: 0.8997 - val_loss: 0.1732 - val_accuracy: 0.9029\n",
            "Epoch 8/10\n",
            "4148/4148 [==============================] - 12s 3ms/step - loss: 0.1739 - accuracy: 0.9003 - val_loss: 0.1752 - val_accuracy: 0.9023\n",
            "Epoch 9/10\n",
            "4148/4148 [==============================] - 11s 3ms/step - loss: 0.1738 - accuracy: 0.9002 - val_loss: 0.1815 - val_accuracy: 0.8994\n",
            "Epoch 10/10\n",
            "4148/4148 [==============================] - 11s 3ms/step - loss: 0.1734 - accuracy: 0.9004 - val_loss: 0.1757 - val_accuracy: 0.9011\n"
          ]
        },
        {
          "output_type": "execute_result",
          "data": {
            "text/plain": [
              "<keras.src.callbacks.History at 0x7c842fc45e40>"
            ]
          },
          "metadata": {},
          "execution_count": 7
        }
      ]
    },
    {
      "cell_type": "code",
      "source": [
        "loss, accuracy = model.evaluate(X_test, y_test)\n",
        "print(f'Test loss: {loss}')\n",
        "print(f'Test accuracy: {accuracy}')\n",
        "\n",
        "y_pred = (model.predict(X_test) > 0.5).astype(\"int32\")\n",
        "print(classification_report(y_test, y_pred, target_names=label_encoder.classes_,digits=6))"
      ],
      "metadata": {
        "colab": {
          "base_uri": "https://localhost:8080/"
        },
        "id": "q4H_pyZ0jxOj",
        "outputId": "04bb00c2-dc52-4fd7-ab42-c1932e18b709"
      },
      "execution_count": 10,
      "outputs": [
        {
          "output_type": "stream",
          "name": "stdout",
          "text": [
            "1297/1297 [==============================] - 3s 2ms/step - loss: 0.1726 - accuracy: 0.9001\n",
            "Test loss: 0.1725778877735138\n",
            "Test accuracy: 0.9000626802444458\n",
            "1297/1297 [==============================] - 2s 1ms/step\n",
            "              precision    recall  f1-score   support\n",
            "\n",
            "      Attack   0.986490  0.738055  0.844378     15236\n",
            "      Normal   0.867307  0.994131  0.926399     26240\n",
            "\n",
            "    accuracy                       0.900063     41476\n",
            "   macro avg   0.926899  0.866093  0.885388     41476\n",
            "weighted avg   0.911088  0.900063  0.896269     41476\n",
            "\n"
          ]
        }
      ]
    },
    {
      "cell_type": "code",
      "source": [
        "model.save('my_dnn_model.h5')"
      ],
      "metadata": {
        "colab": {
          "base_uri": "https://localhost:8080/"
        },
        "id": "BUlVLMTbjxSP",
        "outputId": "04374363-4407-4514-a1e8-9cd727214af9"
      },
      "execution_count": 9,
      "outputs": [
        {
          "output_type": "stream",
          "name": "stderr",
          "text": [
            "/usr/local/lib/python3.10/dist-packages/keras/src/engine/training.py:3103: UserWarning: You are saving your model as an HDF5 file via `model.save()`. This file format is considered legacy. We recommend using instead the native Keras format, e.g. `model.save('my_model.keras')`.\n",
            "  saving_api.save_model(\n"
          ]
        }
      ]
    }
  ]
}