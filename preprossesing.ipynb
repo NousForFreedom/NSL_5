{
  "nbformat": 4,
  "nbformat_minor": 0,
  "metadata": {
    "colab": {
      "provenance": [],
      "authorship_tag": "ABX9TyMA/6GwBMXD04MUrSVrY0Hc",
      "include_colab_link": true
    },
    "kernelspec": {
      "name": "python3",
      "display_name": "Python 3"
    },
    "language_info": {
      "name": "python"
    }
  },
  "cells": [
    {
      "cell_type": "markdown",
      "metadata": {
        "id": "view-in-github",
        "colab_type": "text"
      },
      "source": [
        "<a href=\"https://colab.research.google.com/github/ajou-y0uC4N/y0uC4N/blob/main/preprossesing.ipynb\" target=\"_parent\"><img src=\"https://colab.research.google.com/assets/colab-badge.svg\" alt=\"Open In Colab\"/></a>"
      ]
    },
    {
      "cell_type": "code",
      "execution_count": null,
      "metadata": {
        "id": "7y3FQV24XAw8"
      },
      "outputs": [],
      "source": []
    },
    {
      "cell_type": "code",
      "source": [
        "from google.colab import drive\n",
        "drive.mount('/content/drive')"
      ],
      "metadata": {
        "colab": {
          "base_uri": "https://localhost:8080/"
        },
        "id": "xQvToJN4XGqF",
        "outputId": "62bf0d54-6c81-49ef-d814-ae88c8a4d52b"
      },
      "execution_count": 2,
      "outputs": [
        {
          "output_type": "stream",
          "name": "stdout",
          "text": [
            "Mounted at /content/drive\n"
          ]
        }
      ]
    },
    {
      "cell_type": "code",
      "source": [
        "import pandas as pd\n",
        "\n",
        "# CSV 파일 경로\n",
        "file_path = '/content/drive/MyDrive/Colab Notebooks/y0uC4N/preprocessing/type10.csv'\n",
        "\n",
        "# CSV 파일 불러오기\n",
        "df = pd.read_csv(file_path)\n",
        "\n",
        "# 조건에 따라 'attack' 값을 'flooding'으로 변경\n",
        "df.loc[(df.iloc[:, 0] == 'Attack') & (df.iloc[:, 1].between(60, 120)), df.columns[0]] = 'flooding'\n",
        "df.loc[(df.iloc[:, 0] == 'Attack') & (df.iloc[:, 1].between(120, 160)), df.columns[0]] = 'Fuzzy'\n",
        "df.loc[(df.iloc[:, 0] == 'Attack') & (df.iloc[:, 1].between(170, 200)), df.columns[0]] = 'Replay attack'\n",
        "\n",
        "\n",
        "# 변경된 데이터 저장\n",
        "output_file_path = '/content/drive/MyDrive/Colab Notebooks/y0uC4N/preprocessing/updated_type10.csv'\n",
        "df.to_csv(output_file_path, index=False)\n",
        "\n",
        "print(\"CSV 파일이 성공적으로 업데이트되었습니다.\")\n"
      ],
      "metadata": {
        "colab": {
          "base_uri": "https://localhost:8080/"
        },
        "id": "jGLy2XBYXXLn",
        "outputId": "fe81682c-e415-45a9-e7af-c70c9fbad523"
      },
      "execution_count": 3,
      "outputs": [
        {
          "output_type": "stream",
          "name": "stdout",
          "text": [
            "CSV 파일이 성공적으로 업데이트되었습니다.\n"
          ]
        }
      ]
    }
  ]
}